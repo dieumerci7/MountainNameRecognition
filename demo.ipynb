{
 "cells": [
  {
   "cell_type": "markdown",
   "id": "1c7da9a9-1330-4fc2-b310-680520220d0f",
   "metadata": {},
   "source": [
    "Let's demonstrate how the classifier works!"
   ]
  },
  {
   "cell_type": "code",
   "execution_count": 30,
   "id": "19132ab7-9f77-43bd-b7c1-a98b5c51239f",
   "metadata": {},
   "outputs": [],
   "source": [
    "from transformers import AutoModelForTokenClassification, AutoTokenizer, pipeline"
   ]
  },
  {
   "cell_type": "code",
   "execution_count": 31,
   "id": "67e958c8-b2fd-4ab0-adf2-2446d37f9c42",
   "metadata": {},
   "outputs": [],
   "source": [
    "# large_model = AutoModelForTokenClassification.from_pretrained(\"./models/pretrained_model\")\n",
    "# tokenizer = AutoTokenizer.from_pretrained(\"dslim/bert-large-NER\")\n",
    "large_model = AutoModelForTokenClassification.from_pretrained(\"dieumerci/mountain-recognition-ner\")\n",
    "tokenizer = AutoTokenizer.from_pretrained(\"dieumerci/mountain-recognition-ner\")\n",
    "classifier = pipeline(\"ner\", model=large_model, tokenizer=tokenizer)"
   ]
  },
  {
   "cell_type": "code",
   "execution_count": 32,
   "id": "6f71212b-664e-4ef5-89da-5d03766c4619",
   "metadata": {},
   "outputs": [],
   "source": [
    "def text_to_tags(txt):\n",
    "    tags = []\n",
    "    words = []\n",
    "    label2tag = {'LABEL_0': 'other', 'LABEL_1': 'mountain'}\n",
    "    res = classifier(txt)\n",
    "    word = ''\n",
    "    for elem in res:\n",
    "        if elem['word'][0] != '#':\n",
    "            tags.append(label2tag[elem['entity']])\n",
    "            if word != '':\n",
    "                words.append(word)\n",
    "                word = ''\n",
    "            word += elem['word']\n",
    "        else:\n",
    "            word += elem['word'][2:]\n",
    "    words.append(word)\n",
    "    return {word: tag for word, tag in zip(words, tags)}"
   ]
  },
  {
   "cell_type": "markdown",
   "id": "313e557e-1394-4f93-a509-4ea61c783d13",
   "metadata": {},
   "source": [
    "We shall start from a simple example with a single mountain name in the sentence (with context that helps recognizing our mountain)."
   ]
  },
  {
   "cell_type": "code",
   "execution_count": 33,
   "id": "f1cbf261-286c-4308-b427-55773c0ecaca",
   "metadata": {},
   "outputs": [
    {
     "data": {
      "text/plain": [
       "{'Denali': 'mountain',\n",
       " \"'\": 'other',\n",
       " 's': 'other',\n",
       " 'snow': 'other',\n",
       " '-': 'other',\n",
       " 'capped': 'other',\n",
       " 'peak': 'other',\n",
       " 'offers': 'other',\n",
       " 'a': 'other',\n",
       " 'breathtaking': 'other',\n",
       " 'spectacle': 'other',\n",
       " 'and': 'other',\n",
       " 'beckons': 'other',\n",
       " 'adventurers': 'other',\n",
       " 'from': 'other',\n",
       " 'around': 'other',\n",
       " 'the': 'other',\n",
       " 'globe': 'other',\n",
       " '.': 'other'}"
      ]
     },
     "execution_count": 33,
     "metadata": {},
     "output_type": "execute_result"
    }
   ],
   "source": [
    "text = \"Denali's snow-capped peak offers a breathtaking spectacle and beckons adventurers from around the globe.\"\n",
    "text_to_tags(text)"
   ]
  },
  {
   "cell_type": "markdown",
   "id": "1991aa0e-f271-4f10-9ff7-9a9a4ebf4b18",
   "metadata": {},
   "source": [
    "As we see, the classifier did well on this simple example."
   ]
  },
  {
   "cell_type": "code",
   "execution_count": 34,
   "id": "79ac735a-7cdf-48b4-812f-733ddd4f8746",
   "metadata": {},
   "outputs": [
    {
     "data": {
      "text/plain": [
       "{'I': 'other',\n",
       " 'visited': 'other',\n",
       " 'the': 'other',\n",
       " 'Classification': 'mountain',\n",
       " 'Mountains': 'mountain',\n",
       " 'when': 'other',\n",
       " 'was': 'other',\n",
       " 'a': 'other',\n",
       " 'child': 'other',\n",
       " '.': 'other'}"
      ]
     },
     "execution_count": 34,
     "metadata": {},
     "output_type": "execute_result"
    }
   ],
   "source": [
    "text = \"I visited the Classification Mountains when I was a child.\"\n",
    "text_to_tags(text)"
   ]
  },
  {
   "cell_type": "markdown",
   "id": "cf8e7e73-0b35-4eb7-aed0-a521533c0cac",
   "metadata": {},
   "source": [
    "Here we have a name for a mountain range that I've made up for the purpose of the demo. Clearly no such name could have appeared in the training set, yet the model is not baffled."
   ]
  },
  {
   "cell_type": "code",
   "execution_count": 35,
   "id": "6fbda9ea-c99a-4f82-ab94-ba714b7f46cc",
   "metadata": {},
   "outputs": [
    {
     "data": {
      "text/plain": [
       "{'Everest': 'mountain',\n",
       " 'is': 'other',\n",
       " 'a': 'other',\n",
       " 'mountain': 'other',\n",
       " '.': 'other'}"
      ]
     },
     "execution_count": 35,
     "metadata": {},
     "output_type": "execute_result"
    }
   ],
   "source": [
    "text = \"Everest is a mountain.\"\n",
    "text_to_tags(text)"
   ]
  },
  {
   "cell_type": "markdown",
   "id": "25e98280-1b98-4098-bf7f-7157af08b91b",
   "metadata": {},
   "source": [
    "Note that in the previous example, 'Classification Mountains' referred to a name of the mountain range, so both words had to be labeled as 'mountain'. In this sentence, the word 'mountain' is no mountain name, referring to the category instead. So it is correct that the model does not label it as a 'mountain'."
   ]
  },
  {
   "cell_type": "code",
   "execution_count": 14,
   "id": "64d4e7e1-a1ee-4864-8d15-04741a078d47",
   "metadata": {},
   "outputs": [
    {
     "data": {
      "text/plain": [
       "{'Just': 'other',\n",
       " 'as': 'other',\n",
       " 'other': 'other',\n",
       " 'puppies': 'other',\n",
       " ',': 'other',\n",
       " 'Kilimanjaro': 'other',\n",
       " 'is': 'other',\n",
       " 'very': 'other',\n",
       " 'playful': 'other',\n",
       " 'and': 'other',\n",
       " 'funny': 'other',\n",
       " '.': 'other'}"
      ]
     },
     "execution_count": 14,
     "metadata": {},
     "output_type": "execute_result"
    }
   ],
   "source": [
    "text = \"Just as other puppies, Kilimanjaro is very playful and funny.\"\n",
    "text_to_tags(text)"
   ]
  },
  {
   "cell_type": "markdown",
   "id": "76c08459-4b97-469c-b086-8133dbde15cb",
   "metadata": {},
   "source": [
    "Here I use a famous mountain name to refer to something that is clearly not a mountain - namely, one can infer from the context that Kilimanjaro in this sentence is a name of a puppy. The model sees through my trickery."
   ]
  },
  {
   "cell_type": "code",
   "execution_count": 22,
   "id": "a5dfc583-2160-4842-8498-5f6b429d24e1",
   "metadata": {},
   "outputs": [
    {
     "data": {
      "text/plain": [
       "{'Mountains': 'mountain', '.': 'other'}"
      ]
     },
     "execution_count": 22,
     "metadata": {},
     "output_type": "execute_result"
    }
   ],
   "source": [
    "text = \"Mountains.\"\n",
    "text_to_tags(text)"
   ]
  },
  {
   "cell_type": "markdown",
   "id": "3b850d93-c8e7-44bf-ac1e-d2ef9df2f7f8",
   "metadata": {},
   "source": [
    "Now i finally managed to deceive the model. 'Mountains' can only refer to a mountain name when it goes along some other word, like the Rocky Mountains. Without context, we should infer that we simply speak of a category. The reason is likely in casing: below i show that the same sentence with 'mountains' decapitalized yields correct result."
   ]
  },
  {
   "cell_type": "code",
   "execution_count": 23,
   "id": "0f22de70-9cb8-41fd-8fc0-becdcdb64ac4",
   "metadata": {},
   "outputs": [
    {
     "data": {
      "text/plain": [
       "{'mountains': 'other', '.': 'other'}"
      ]
     },
     "execution_count": 23,
     "metadata": {},
     "output_type": "execute_result"
    }
   ],
   "source": [
    "text = \"mountains.\"\n",
    "text_to_tags(text)"
   ]
  },
  {
   "cell_type": "markdown",
   "id": "b85377f3-1b12-4392-b3aa-d0c3750b8a05",
   "metadata": {},
   "source": [
    "Another way the model has to solve the issue is, of course, context. In the sentence below, word 'Mountains' starts with a capital, but the provided context helps us understand that we are not speaking of a specific name, and the model sees it."
   ]
  },
  {
   "cell_type": "code",
   "execution_count": 24,
   "id": "df01970e-4d35-4af7-8ea6-07a38fd8de6b",
   "metadata": {},
   "outputs": [
    {
     "data": {
      "text/plain": [
       "{'Mountains': 'other',\n",
       " 'can': 'other',\n",
       " 'be': 'other',\n",
       " 'of': 'other',\n",
       " 'varying': 'other',\n",
       " 'height': 'other',\n",
       " '.': 'other'}"
      ]
     },
     "execution_count": 24,
     "metadata": {},
     "output_type": "execute_result"
    }
   ],
   "source": [
    "text = \"Mountains can be of varying height.\"\n",
    "text_to_tags(text)"
   ]
  },
  {
   "cell_type": "markdown",
   "id": "25d5f376-a3fd-49c3-a867-8177209db382",
   "metadata": {},
   "source": [
    "A pair of other examples."
   ]
  },
  {
   "cell_type": "code",
   "execution_count": 19,
   "id": "ad49a6e1-562f-4841-ad66-af00a6e7b736",
   "metadata": {},
   "outputs": [
    {
     "data": {
      "text/plain": [
       "{'Finally': 'other',\n",
       " ',': 'other',\n",
       " 'at': 'other',\n",
       " 'the': 'other',\n",
       " 'top': 'other',\n",
       " 'of': 'other',\n",
       " 'our': 'other',\n",
       " 'list': 'other',\n",
       " 'is': 'other',\n",
       " 'Mount': 'mountain',\n",
       " 'Fuji': 'mountain',\n",
       " 'in': 'other',\n",
       " 'Japan': 'other',\n",
       " '.': 'other'}"
      ]
     },
     "execution_count": 19,
     "metadata": {},
     "output_type": "execute_result"
    }
   ],
   "source": [
    "text = \"Finally, at the top of our list is Mount Fuji in Japan.\"\n",
    "text_to_tags(text)"
   ]
  },
  {
   "cell_type": "code",
   "execution_count": 16,
   "id": "83ce7254-c494-49dc-a761-1d29ab37c1ca",
   "metadata": {},
   "outputs": [
    {
     "data": {
      "text/plain": [
       "{'Next': 'other',\n",
       " 'on': 'other',\n",
       " 'our': 'other',\n",
       " 'list': 'other',\n",
       " 'is': 'other',\n",
       " 'Denali': 'mountain',\n",
       " 'Peak': 'mountain',\n",
       " ',': 'other',\n",
       " 'also': 'other',\n",
       " 'known': 'other',\n",
       " 'as': 'other',\n",
       " 'Mount': 'mountain',\n",
       " 'McKinley': 'mountain',\n",
       " 'in': 'other',\n",
       " 'Alaska': 'other',\n",
       " '.': 'other'}"
      ]
     },
     "execution_count": 16,
     "metadata": {},
     "output_type": "execute_result"
    }
   ],
   "source": [
    "text = \"Next on our list is Denali Peak, also known as Mount McKinley, in Alaska.\"\n",
    "text_to_tags(text)"
   ]
  },
  {
   "cell_type": "code",
   "execution_count": 28,
   "id": "8b724bf1-2790-4491-bff1-505d8fade9e2",
   "metadata": {},
   "outputs": [
    {
     "data": {
      "text/plain": [
       "{'Everest': 'mountain',\n",
       " ',': 'mountain',\n",
       " 'Aconcagua': 'mountain',\n",
       " 'Denali': 'mountain',\n",
       " 'Kilimanjaro': 'mountain',\n",
       " 'Massif': 'mountain',\n",
       " 'and': 'other',\n",
       " 'Jaya': 'mountain',\n",
       " 'are': 'other',\n",
       " 'all': 'other',\n",
       " 'very': 'other',\n",
       " 'tall': 'other',\n",
       " '.': 'other'}"
      ]
     },
     "execution_count": 28,
     "metadata": {},
     "output_type": "execute_result"
    }
   ],
   "source": [
    "text = \"Everest, Aconcagua, Denali, Kilimanjaro, Massif, and Jaya are all very tall.\"\n",
    "text_to_tags(text)"
   ]
  },
  {
   "cell_type": "markdown",
   "id": "63e224e6-9dc8-467f-b23a-41bf5cca07dd",
   "metadata": {},
   "source": [
    "Here we see an issue with the tokenizer: for some reason, it only saw one of the multiple commas. That confused the model, leading it to correctly classify every word - but not the comma."
   ]
  },
  {
   "cell_type": "code",
   "execution_count": 29,
   "id": "7c64f22e-6633-41df-b7c6-b30aa494cbe7",
   "metadata": {},
   "outputs": [
    {
     "data": {
      "text/plain": [
       "{'Standing': 'other',\n",
       " 'on': 'other',\n",
       " 'the': 'other',\n",
       " 'peak': 'other',\n",
       " 'of': 'other',\n",
       " 'Qwerty': 'mountain',\n",
       " ',': 'other',\n",
       " 'I': 'other',\n",
       " 'feel': 'other',\n",
       " 'as': 'other',\n",
       " 'though': 'other',\n",
       " 'in': 'other',\n",
       " 'sky': 'other',\n",
       " '!': 'other'}"
      ]
     },
     "execution_count": 29,
     "metadata": {},
     "output_type": "execute_result"
    }
   ],
   "source": [
    "text = \"Standing on the peak of Qwerty, I feel as though in the sky!\"\n",
    "text_to_tags(text)"
   ]
  },
  {
   "cell_type": "code",
   "execution_count": null,
   "id": "1bfb260d-3317-4103-af6a-3ae0d103ec0d",
   "metadata": {},
   "outputs": [],
   "source": []
  }
 ],
 "metadata": {
  "kernelspec": {
   "display_name": "Python 3 (ipykernel)",
   "language": "python",
   "name": "python3"
  },
  "language_info": {
   "codemirror_mode": {
    "name": "ipython",
    "version": 3
   },
   "file_extension": ".py",
   "mimetype": "text/x-python",
   "name": "python",
   "nbconvert_exporter": "python",
   "pygments_lexer": "ipython3",
   "version": "3.10.0"
  }
 },
 "nbformat": 4,
 "nbformat_minor": 5
}
