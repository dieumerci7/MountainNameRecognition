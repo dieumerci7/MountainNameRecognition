{
 "cells": [
  {
   "cell_type": "code",
   "execution_count": 2,
   "metadata": {
    "id": "h2YTXESNZZT9"
   },
   "outputs": [],
   "source": [
    "import random\n",
    "import matplotlib.pyplot as plt\n",
    "import numpy as np"
   ]
  },
  {
   "cell_type": "code",
   "execution_count": 4,
   "metadata": {
    "id": "RRZU4iMkmtbB"
   },
   "outputs": [],
   "source": [
    "from datasets import load_dataset, Dataset, load_from_disk"
   ]
  },
  {
   "cell_type": "markdown",
   "metadata": {},
   "source": [
    "I shall use 'DFKI-SLT/few-nerd' supervied dataset for training."
   ]
  },
  {
   "cell_type": "code",
   "execution_count": 5,
   "metadata": {
    "colab": {
     "base_uri": "https://localhost:8080/",
     "height": 305,
     "referenced_widgets": [
      "c978d004a95a447d946e705e4bd96114",
      "93180920bc8248b7a56510e10b864750",
      "dd87457a52174de4983e93b100e4ebcc",
      "be629f53280b4b4e84b3b1eba8db1722",
      "8fcfefae8cc745ac83f53713b7339c2b",
      "fbc759c881774f34895e4daaf2f937e2",
      "4be04260b6724607989977a5428444ba",
      "285d68155bf44ce38fbedd4eed0f9850",
      "fb1ccf458fc940a49ff1ff797ec06d27",
      "61339e50d42645319b174b45d309bbb6",
      "3c12867c755b42978ff9f4eab7ad70c5",
      "c5f9316e5b994d4da54e5768e25489b7",
      "d8930a2cbe41457996de4f83fe3130c7",
      "d6262064e67f4531b3698b247da2bffb",
      "5ecc1ffc45964085846d874c3d1137f6",
      "2259af2d840e46a093f6914da48f76cc",
      "3e45ba195e7949129cd2ca2dc07660fd",
      "97cfb35803ce4d6d99707d0b99419195",
      "8884ad78a3bd413689bbc3f31c09ad14",
      "791712dd222646c7a049b6ca699bde97",
      "658a3211f5b64c0a8e5f83eec3134a73",
      "d89c1736efd54d24b420a7a6b5e4513e",
      "03d40f9d99d34a488e80cfe74cf06f4f",
      "ae692797763d4cbdaf1011fa2d3e36b7",
      "aaada3ebf0bd4fa59919938324aa92eb",
      "684bce9339904d84a602aaa8a20d209b",
      "e80f3b9304354ba28a290921401feaa3",
      "fdf4d5d6001b414e8784b46b3d79d70a",
      "7a19feba813a41a8869bf9299565008b",
      "89644da099a54034a24b201ba88d8e44",
      "470d33c349164319b58748a53d75abf2",
      "d69754f61c224d2a86a6adca4d5c1d03",
      "455534db324042208ef227ce68b3c887",
      "aab1c0b9db7d4166bd09422d52a07818",
      "3dbb99f4827d40ae856b1d79226d8326",
      "ba8bb72fe36e4314806d07c69351d49e",
      "1ecd50ea640447aabd44aab4fcbe618e",
      "b04c0e0b3c6c44cab1189d68ca4c3a1d",
      "72bf4012479a46219e06a635328bebf4",
      "355cc4e4e4cf49568519f8d5a69cf18b",
      "d4b30d29ae7d494884974e43e16610cd",
      "5364b16085934737a17f4421e12f30e6",
      "766032f0e1be480195c882e9dc11b4c3",
      "c0346013d092472cb443ff76fa8518d6",
      "88d121a65ec64775bb9735c93ecd6402",
      "779559c163d640d89a90a06dae25b950",
      "6b2f32433a1b4baeabf29d702d83f2f1",
      "6e665488c12b40498138eee75789f5cc",
      "d37b66e795e64c39b4f52b996750894b",
      "4459cab8fcb14726be1ac92a54cfc2c0",
      "249d57a771264780a7cfbcb554ad6ff6",
      "f39ff29fbcbf454b8514abd8238bc9ee",
      "131278e4d86b4d8ba4f4150b29d05274",
      "724fe9090d2d408c922e6e74eda6822b",
      "495cced2dd7541c487f76048670b60a2",
      "0b74dc76b05246eeb8001efa351d7ca7",
      "2ad9c3525fc041d9a59837b7b9575b42",
      "d8e3e2ab7ffd42f3aea3f9b5b22fda66",
      "d15d51e7ad3c41c6a8368857678d0a82",
      "dd66fcedd16c41f0acd3a5ca94105264",
      "7b1f1c01227e456faf85bbd923e74ad3",
      "764d6f475e804374ba8300e0f00debe7",
      "7f3c9e14ec3c44d3b1a15fa28212e820",
      "8dd29f33bdd64031866666e54218595a",
      "6ca7e5e6df0d4610b6e0f180aa71d690",
      "e1aee95695e742e2bcf14b62c4005ec2",
      "6d9a5020f0a349ac84e5620e3c084c84",
      "c5e2cc8a06014bb883a19fc34b5782fa",
      "9b45925fbc314223a3659c2cf0390b8d",
      "1f28b95357c3496c9a3f2982862468f1",
      "aa9522db7c454638bc1983e196c78f6b",
      "eb3ef7c1572646399e6d5ecc99132e28",
      "a5c1d851df8b412e8db13fc7f229f80b",
      "9c4f38a4d95341a3b4706e70c52bd8c2",
      "87943b02a2a940458e0ea0b67b2a2db4",
      "8c429140ca584dd3839b1f98ad9f950a",
      "b17bc1ff53a140169e653e5335dd711c",
      "3447e3f8024245e59b5a1fcc9c1fd9de",
      "1919fbae5eaf4398b360a58eb8dc00c4",
      "0de5d54e0c87446ba0c0c05fb70ccfe6",
      "4b378948092844a8bbe94f5dad61500e",
      "f72c906ddca9498bb75d6540986bbcce",
      "d8bf58266bfc4a4591429ddee49df05a",
      "917b28f492484795a0f5795ce57e3c1b",
      "f369c61a75d146b682a9c48ef258f6dc",
      "07166909a1d8422a88b1e861d34b782d",
      "047d59bea38243a78c5f779932ad04f1",
      "2a4bd9d9a2734831b3687d87b142459a",
      "c1e602f5f879428587cabbcb1bbcd34b",
      "72d130dcb0114112a0779bd316447c93",
      "e6d08525310b4821999d92058831c37b",
      "b5d26c385f7746d2b8acd24742f801b7",
      "dc37e19d2890431a986f38e12fd13507",
      "abc5cda1b74f454ba6fa46c3ed379c03",
      "8c0267d6e67f42728543a11dfaf80abb",
      "3ce06271ec7a4ed1bc843a019b7e7f5a",
      "d4f32b7dd98144e88a36f6f3e5d876e6",
      "398ec1a6c814452c841d35a40b581d6d",
      "6012c6f2b3bd40f6ae997b3a5ea9d92a"
     ]
    },
    "id": "mOORHPK2m-aB",
    "outputId": "2c923618-6d5e-4dd6-c82c-24912dfda1f2"
   },
   "outputs": [
    {
     "data": {
      "application/vnd.jupyter.widget-view+json": {
       "model_id": "5ad06cdd444e42838633d58c8d5f19d3",
       "version_major": 2,
       "version_minor": 0
      },
      "text/plain": [
       "Downloading builder script:   0%|          | 0.00/11.6k [00:00<?, ?B/s]"
      ]
     },
     "metadata": {},
     "output_type": "display_data"
    },
    {
     "data": {
      "application/vnd.jupyter.widget-view+json": {
       "model_id": "dd4dc11396324e7eb072b2227eaea172",
       "version_major": 2,
       "version_minor": 0
      },
      "text/plain": [
       "Downloading readme:   0%|          | 0.00/7.13k [00:00<?, ?B/s]"
      ]
     },
     "metadata": {},
     "output_type": "display_data"
    },
    {
     "data": {
      "application/vnd.jupyter.widget-view+json": {
       "model_id": "aeb23d94486c4b83a02ad95c89c7053d",
       "version_major": 2,
       "version_minor": 0
      },
      "text/plain": [
       "Downloading data:   0%|          | 0.00/14.6M [00:00<?, ?B/s]"
      ]
     },
     "metadata": {},
     "output_type": "display_data"
    },
    {
     "data": {
      "application/vnd.jupyter.widget-view+json": {
       "model_id": "db3127fd020447abadfc6c9a3cf22716",
       "version_major": 2,
       "version_minor": 0
      },
      "text/plain": [
       "Generating train split: 0 examples [00:00, ? examples/s]"
      ]
     },
     "metadata": {},
     "output_type": "display_data"
    },
    {
     "data": {
      "application/vnd.jupyter.widget-view+json": {
       "model_id": "73cba1b46cd844b7bc83fe92cde7882c",
       "version_major": 2,
       "version_minor": 0
      },
      "text/plain": [
       "  0%|          | 0/3359329 [00:00<?, ?it/s]"
      ]
     },
     "metadata": {},
     "output_type": "display_data"
    },
    {
     "data": {
      "application/vnd.jupyter.widget-view+json": {
       "model_id": "704d2733af8c4bf3aea16d03c28c26b6",
       "version_major": 2,
       "version_minor": 0
      },
      "text/plain": [
       "Generating validation split: 0 examples [00:00, ? examples/s]"
      ]
     },
     "metadata": {},
     "output_type": "display_data"
    },
    {
     "data": {
      "application/vnd.jupyter.widget-view+json": {
       "model_id": "5e7bfaeb8b8f49e4ae1738d11d120b68",
       "version_major": 2,
       "version_minor": 0
      },
      "text/plain": [
       "  0%|          | 0/482037 [00:00<?, ?it/s]"
      ]
     },
     "metadata": {},
     "output_type": "display_data"
    },
    {
     "data": {
      "application/vnd.jupyter.widget-view+json": {
       "model_id": "2d44e01a79a74e0c8ad26b393302317c",
       "version_major": 2,
       "version_minor": 0
      },
      "text/plain": [
       "Generating test split: 0 examples [00:00, ? examples/s]"
      ]
     },
     "metadata": {},
     "output_type": "display_data"
    },
    {
     "data": {
      "application/vnd.jupyter.widget-view+json": {
       "model_id": "085381740aa245a1aa34ec108796293b",
       "version_major": 2,
       "version_minor": 0
      },
      "text/plain": [
       "  0%|          | 0/958765 [00:00<?, ?it/s]"
      ]
     },
     "metadata": {},
     "output_type": "display_data"
    }
   ],
   "source": [
    "all_data = load_dataset(\"DFKI-SLT/few-nerd\", \"supervised\")"
   ]
  },
  {
   "cell_type": "markdown",
   "metadata": {},
   "source": [
    "As we see, the dataset is already divided into train, validation, and test parts."
   ]
  },
  {
   "cell_type": "code",
   "execution_count": 6,
   "metadata": {
    "id": "m7pq7v0GavfH"
   },
   "outputs": [],
   "source": [
    "df_train = all_data[\"train\"]\n",
    "df_val = all_data[\"validation\"]\n",
    "df_test = all_data[\"test\"]"
   ]
  },
  {
   "cell_type": "markdown",
   "metadata": {
    "id": "KxHZO8zWviq8"
   },
   "source": [
    "# Train Set"
   ]
  },
  {
   "cell_type": "code",
   "execution_count": 7,
   "metadata": {
    "colab": {
     "base_uri": "https://localhost:8080/"
    },
    "id": "ZCejiRw2nc2E",
    "outputId": "00057415-aa18-48f8-e6fc-82a76e843503"
   },
   "outputs": [
    {
     "data": {
      "text/plain": [
       "Dataset({\n",
       "    features: ['id', 'tokens', 'ner_tags', 'fine_ner_tags'],\n",
       "    num_rows: 131767\n",
       "})"
      ]
     },
     "execution_count": 7,
     "metadata": {},
     "output_type": "execute_result"
    }
   ],
   "source": [
    "df_train"
   ]
  },
  {
   "cell_type": "code",
   "execution_count": 8,
   "metadata": {
    "colab": {
     "base_uri": "https://localhost:8080/"
    },
    "id": "S-v2ovxnn1kK",
    "outputId": "972f7494-2e4e-4f71-ca4e-2afb1dca9d3b"
   },
   "outputs": [
    {
     "name": "stdout",
     "output_type": "stream",
     "text": [
      "{'id': '0', 'tokens': ['Paul', 'International', 'airport', '.'], 'ner_tags': [0, 0, 0, 0], 'fine_ner_tags': [0, 0, 0, 0]}\n"
     ]
    }
   ],
   "source": [
    "# Access the first row of df_train\n",
    "first_row = df_train[0]\n",
    "\n",
    "# Print the first row\n",
    "print(first_row)"
   ]
  },
  {
   "cell_type": "markdown",
   "metadata": {},
   "source": [
    "There are two types of tags in the dataset: 'ner_tags' and 'fine_ner_tags'. The dataset may be used for many different purposes, but we are interested in recognizing mountain names. Amongst 'fine_ner_tags', on position 25 (24 counting from 0), we have a tag 'location-mountain', which is exactly what interests us."
   ]
  },
  {
   "cell_type": "code",
   "execution_count": 9,
   "metadata": {
    "colab": {
     "base_uri": "https://localhost:8080/"
    },
    "id": "2IMbfsR2oZTl",
    "outputId": "91d794e7-f23c-411f-eb20-fc1fb282b1e2"
   },
   "outputs": [
    {
     "data": {
      "text/plain": [
       "{'id': Value(dtype='string', id=None),\n",
       " 'tokens': Sequence(feature=Value(dtype='string', id=None), length=-1, id=None),\n",
       " 'ner_tags': Sequence(feature=ClassLabel(names=['O', 'art', 'building', 'event', 'location', 'organization', 'other', 'person', 'product'], id=None), length=-1, id=None),\n",
       " 'fine_ner_tags': Sequence(feature=ClassLabel(names=['O', 'art-broadcastprogram', 'art-film', 'art-music', 'art-other', 'art-painting', 'art-writtenart', 'building-airport', 'building-hospital', 'building-hotel', 'building-library', 'building-other', 'building-restaurant', 'building-sportsfacility', 'building-theater', 'event-attack/battle/war/militaryconflict', 'event-disaster', 'event-election', 'event-other', 'event-protest', 'event-sportsevent', 'location-GPE', 'location-bodiesofwater', 'location-island', 'location-mountain', 'location-other', 'location-park', 'location-road/railway/highway/transit', 'organization-company', 'organization-education', 'organization-government/governmentagency', 'organization-media/newspaper', 'organization-other', 'organization-politicalparty', 'organization-religion', 'organization-showorganization', 'organization-sportsleague', 'organization-sportsteam', 'other-astronomything', 'other-award', 'other-biologything', 'other-chemicalthing', 'other-currency', 'other-disease', 'other-educationaldegree', 'other-god', 'other-language', 'other-law', 'other-livingthing', 'other-medical', 'person-actor', 'person-artist/author', 'person-athlete', 'person-director', 'person-other', 'person-politician', 'person-scholar', 'person-soldier', 'product-airplane', 'product-car', 'product-food', 'product-game', 'product-other', 'product-ship', 'product-software', 'product-train', 'product-weapon'], id=None), length=-1, id=None)}"
      ]
     },
     "execution_count": 9,
     "metadata": {},
     "output_type": "execute_result"
    }
   ],
   "source": [
    "df_train.features"
   ]
  },
  {
   "cell_type": "code",
   "execution_count": 17,
   "metadata": {},
   "outputs": [],
   "source": [
    "# Specify the label for mountain names\n",
    "mountain_label = 24"
   ]
  },
  {
   "cell_type": "markdown",
   "metadata": {},
   "source": [
    "Next I define a utility function that would count the rows containing mountain names, as well as the total number of different mountain names appearing in the set. This function shall then be used for every set I have."
   ]
  },
  {
   "cell_type": "code",
   "execution_count": 18,
   "metadata": {},
   "outputs": [],
   "source": [
    "def cnt_mount_names(df):\n",
    "    # Count the sentences containing mountain names\n",
    "    mountain_count = 0\n",
    "    \n",
    "    # Set to store unique mountain names\n",
    "    mountain_names_set = set()\n",
    "    \n",
    "    # Iterate through the dataset\n",
    "    for example in df:\n",
    "        fine_ner_tags = example[\"fine_ner_tags\"]\n",
    "        tokens = example[\"tokens\"]\n",
    "    \n",
    "        # Check if the label for mountain names (24) is present in the fine_ner_tags\n",
    "        if mountain_label in fine_ner_tags:\n",
    "            mountain_count += 1\n",
    "    \n",
    "            # Get the words corresponding to the mountain names\n",
    "            mountain_words = [tokens[i] for i, label in enumerate(fine_ner_tags) if label == mountain_label]\n",
    "    \n",
    "            # Add unique mountain names to the set\n",
    "            mountain_names_set.update(mountain_words)\n",
    "    \n",
    "    # Convert the set to a list\n",
    "    mountain_names = list(mountain_names_set)\n",
    "\n",
    "    return mountain_count, mountain_names"
   ]
  },
  {
   "cell_type": "code",
   "execution_count": 19,
   "metadata": {},
   "outputs": [
    {
     "name": "stdout",
     "output_type": "stream",
     "text": [
      "Number of sentences with mountain names in train set: 1502\n",
      "Mountain names: ['Dury', 'Messines', 'Uplift', 'Guerard', 'Barth', 'Limmat', 'Kliment', 'Jasielsko-Sanockie', 'Eagle', 'Lliwedd', 'Lawrence', 'Pigne', 'Horaiji', 'Löffler', 'Roots', 'Creigiau', 'Mill', 'Truckee', 'Oiti', 'Dolores', 'Tryfan', 'Dromedary', 'Reintal', 'Scott', 'Lazy', 'Weybridge', 'Riverside', 'Arsenal', 'Cho', 'Crystal', 'Wapack', 'Verila', 'Dru', 'Purcell', 'Cure', 'Erciyes', 'Ugain', 'Little', 'May', 'Oak', 'Priest', 'HMA', 'Tom', 'Moffat', 'Kaesong', 'Noe', 'Bartle', 'Minyong', 'Stybarrow', 'Wilder', 'Muerto', 'Blueberry', 'Cilau', 'Pass', 'Rhodopes', 'Flint', 'Sierra', 'Esgeiriau', 'Vénéon', 'Olympos', 'Springs', 'Crater', 'ridgelin', 'Palliser', 'Salvesen', 'Mesa', 'Bahadurpur', 'Catharine', 'Cleve', 'Gangelsberg', 'Drws', 'Piece', 'Zillertal', 'Crest', 'Himalayan', 'Mühlwald', 'Motte', 'Brunner', 'la', 'Mühlwalder', 'Dawson', 'Erebus', 'Unicoi', 'Absaroka', 'Kgale', 'Dreiecketer', 'Allegheny', 'Hicks', 'Armorican', 'Hetch', 'Wickersham', 'Birkenhead', 'Piton', 'hills', 'Hampton', 'Ptarmigan', 'Gennargentu', 'Nepali', 'Tai', 'Valles', 'Herne', 'Weisshorn', 'Ingólfsfjall', 'Providence', 'Devil', 'Kotel', 'Arc', 'Crawford', 'Hlangwane', 'Rif', 'Agoura', 'Bloomfield', 'Comb', 'Markham', 'of', 'Michel', 'Oaxaca', 'Ouasioto', 'Chiapas', 'Monica', 'Montagne', 'Flagstaff', 'Majdan', \"d'Ossau\", 'Sahydri', 'belt', 'Laurel', 'Rushmore', 'Hawea', 'Judean', 'Toolbrunup', 'Yorkshire', 'Vinson', 'Belt', 'Durreck', 'Rocky', 'Copper', 'Wutai', 'Death', 'Buckskin', 'Dun', 'Haynes', 'Changchenmo', 'Olliver', 'Scafell', 'Pabb', 'Kanmuri', 'Rhinogs', 'Davis', 'Péclet', 'Fragrant', 'Mt', 'Skihist', 'Gleaner', 'Horungane', 'Salt', 'Cheilon', 'Lewis', 'Cedar', 'Lairig', 'Sinai', 'Colonial', 'Toney', 'Shinnecock', 'Baudissin', 'Palomar', 'Nethermost', 'Tse', 'Beacon', 'Fin', 'Tien', 'Auld', 'Glastonbury', 'Blüemlisalphorn', 'Heraclea', 'Grasmoor', 'Marl', 'Žumberak', 'Abajo', 'Mali', 'Golden', 'Vailulu', 'Parinacota', 'Crafnant', 'Monte', 'Mons', 'St.', 'Brecher', 'Wiehen', 'Montecassino', 'Ralin', 'Scopus', 'Cascades', 'Wyssi', 'Malundwe', 'Mir', 'Clark', 'Dry', 'Pahad', 'Gorgonio', 'Penang', '’', 'Sefton', 'Hill', 'Holyoake', 'Taal', 'Valleys', 'Stile', 'Volcanics', 'Valley', 'Pic', 'Voras', 'Oberland', 'Harney', 'Volcán', 'Austrian', 'Ghru', 'Bendor', 'Hatter', 'Wolds', 'Tara', 'Springer', 's', 'Chichinautzin', 'Kilauea', 'Himalayas', 'Wheeler', 'Smoky', 'Richmond', 'Mynydd', 'Ripple', 'Juniper', 'Lautaro', 'Galtymore', 'Kamchatka', 'Kicking', 'Canche', 'Vettismorki', 'HSL', 'Alpes', 'Kentmere', 'Paradiso', 'Peuterey', 'Gamaksan', 'Hollywood', 'Ball', 'Telescope', 'Tops', 'Tambora', 'Fansipan', 'Clingmans', 'Gurev', 'Peaks', 'Cyfarwydd', 'Northfield', 'Hope', 'mountains', 'Kunlun', 'Morven', 'Kalihi', 'Miller', 'Vâlcan', 'Espiritu', 'Van', 'Dauphiné', 'Cóndor', 'Carson', 'Eva', 'Piedmont', 'Alto', 'Chestnut', 'Beinn', 'Boennighausen', 'Kippure', 'Post', 'Panamint', 'Sněžka', 'Kings-Kaweah', 'Zvegor', 'Halt', 'Bode', 'Ventre', 'Nangtud', 'Diffwys', 'Fach', 'Arran', 'Crag', 'Turnerkamp', 'Ignimbrite', 'Olympic', 'Intermountain', 'Bod', 'Arci', 'Tuscarora', 'Pen', 'Kailash', 'Sniezka', 'Maya', 'Horlick', 'Cambrian', 'Salamander', 'Norwood', 'Toungoo', 'di', 'Salmon', 'Chaltén', 'Ida', 'Zupjok', 'Rust', 'Eden', 'Ridge', 'Drygalski', 'Bernina', 'Cerro', 'Caquena', 'Santo', 'Innuitian', 'Windy', 'Mamasa', 'University', 'Clent', 'Otgontenger', 'Huping', 'Kuksay', 'Nelson', 'Castle', 'Chugach', 'Hirnantau', 'Buke', 'Pelée', 'Khangai', 'Phan', 'Salai', 'Serchio', 'Gandhi', 'Duderhof', 'Martis', 'Świętokrzyskie', 'First', 'Divide', 'Plovdiv', 'Oriental', 'Swabian', 'Comeragh', 'Gate', 'Cirque', 'Y', 'Temblor', 'Volcanic', 'Mrima', 'Rica', 'Guiwan', 'Dilje', 'Troodos', 'Bolna', 'Targhee', 'Morrison', 'cliffs', \"d'Alene\", 'Ancient', 'Southern', 'Lake', 'Boundary', 'Ilgachuz', \"d'Hérens\", 'Island', 'Lickey', 'Rinjani', 'Wandope', 'Braun', 'McCoy', 'Prince', 'Chočské', 'Kukri', 'Zimbabwe', 'Date', 'Glastenbury', 'Prealps', 'Redoubt', 'Mills', 'Pillon', 'Pendle', 'Crimean', 'Kalvehøgde', 'Hamilton', 'Toro', 'Ulakhan-Chistay', 'Whiteface', 'Man', 'Lyell', 'Monti', 'Weaver', 'Allan', 'Kennedy', 'Wood', 'Presian', 'Morris', 'Hallingskarvet', 'Water', 'Central', 'Helvellyn', 'New', 'Japanese', 'Oglethorpe', 'Middle', 'Chehalem', 'Wonder', 'Pelton', 'Fell', 'Negoiu', 'Orchard', 'Gora', 'Denali', 'Machapuchare', 'Zograf', 'Trench', 'Aravali', 'American', 'Pirin', 'Heights', 'Otter', 'Alpaca', 'Drws-y-Coed', 'Vimy', 'Long', 'Mbam', 'Blåmanen', 'Tate', 'Double', 'Dungeon', 'Place', 'Albrist', 'Gran', 'Ural', \"d'Arolla\", 'Wollbachspitze', 'Ofu', 'Victory', 'Oberaarhorn', 'Of', 'Cheat', 'Masson', 'Dodd', 'Nod', 'Bale', 'Kamen', 'Goldlochspitz', 'Malumalu', 'Silistra', 'Willow', 'Blümlisalp', 'Gabilan', 'Mount', 'Fisher', 'Fløyen', 'Imperial', 'Churchill', 'Hickory', 'Leaotă', 'Melnik', 'Rouen', 'Catacomb', 'Ben', 'Fallaschkamm', 'Rainier', 'Meije', 'Hatchet', 'Wilderness', 'Barbara', 'Cumulus', 'Round', 'Top', 'pass', 'Carroll', 'Péturshorn', 'Frustration', 'Cuyahoga', 'Wychbury', 'Kirkpatrick', 'Keel', 'Ames', 'Romsley', 'Eagach', 'Lavender', 'Six', 'Ahrntal', 'Gasherbrum', ',', 'Lyttelton', 'Esperanza', 'Talish', 'Antelope', 'Barnes', 'Albert', 'Dog', 'Rousse', 'Minčol', 'Bitter', 'south', 'Bwlch', 'Cleveland', 'Miteirya', 'Viedma', 'Taufers', 'Brierley', 'Colorado', 'De', 'Pennine', 'Powell', 'Danubian', \"'s\", 'Kotelska', 'Tyree', 'Serdica', 'Classic', 'Yosemite', 'Mayacamas', 'Keen', 'valley', 'Monadnock', 'Dragor', 'Gwanak', 'Pleasant', 'Hwaaksan', 'Quarry', 'Klamath', 'Kauffman', 'Sleeping', 'Aravalli', 'Culver', 'Church', 'Stražbenica', 'Northwest', 'Constance', 'Elizabeth', 'Allardyce', 'Berwyn', 'Beskidy', 'Raj', 'Damavand', 'Bradshaw', 'Arbour', 'Singleshot', 'Honey', 'Lúka', 'Papuk', 'Songaksan', 'Schell', 'Red', 'Karkonosze', 'Ill', 'Panhandle', 'Brussels', 'Oeschinenhorn', 'Michael', 'Tabwemasana', 'Asia', 'Surry', 'High-mountain', 'Epidote', 'Continental', 'Pinatubo', 'Susa', 'Chilalo', 'Darwin', 'Coed', 'Toliman', 'Lhotse', 'Augstmatthorn', 'Olympus', 'Wisconsin', 'Chelebi', 'Mare', \"d'Aspin\", 'Biancograt', \"\\\\pre-si-'ya-nov\", 'Portal', 'McPherson', 'Fries', 'Nile', 'Verdes', 'Doldenhorn', 'Silyn', 'Cathedral', 'Furka', 'Cyrniau', 'Thorny', 'Boyana', 'Duff', 'Bill', 'Kharkush', 'Ellis', 'Ckhu-Bair', 'Skoparnik', 'Ajusco', 'Madres', 'Casse', 'Chapel', 'Wall', 'Judi', 'Esquiline', 'Cliffs', 'Mountain', 'volcanic', 'Baishui', 'Topatopa', 'Clouds', 'Khingan', 'Asgard', 'Bristol', 'Levski', 'Kuznetsk', 'Knud', 'Brasstown', 'Book', 'Hirams', 'Camelsfoot', 'Allies', 'Dickerson', 'Unaka', 'Highlands', 'Brooker', 'y', 'Ansel', 'Pleistocene', 'Rwenzori', 'Three', 'Taurus', 'Normanook', 'Sulphur', 'Yengo', 'Spring', 'Lepontine', 'Portsdown', 'Fortuna', 'Quartermain', 'Mox', 'Canyon', 'Tal', 'Ddysgl', 'Gap', 'Jasło', 'Capitoline', 'Brouillard', 'Pensacola', 'Southington', 'Nelliyampathy', 'Buffalo', 'Karoo-Ferar', 'Salang', 'Misty', 'Aheloy', 'Amanus', 'Neelum', 'Ohio', 'Garmo', 'Selkirk', 'Cascade', 'Manchester', 'Mulago', 'Romanian', 'Schafberg', 'ULT', 'Craig', 'Peninsular', 'Arnaud', 'Himalaya', 'Iron', 'Sedlovina', 'Rasletind', 'Slavyanka', 'Rebun', '``', 'Yu', 'Pentadaktylos', 'Variscan', 'Tank', 'Niihau', 'Garnedd', 'Frere', 'Carpathians', 'Cruz', 'Leone', 'Skagit', 'Moravian-Silesian', 'Tephra', 'Appalachians', 'Nandakini', 'Galibier', 'Fan', 'Rhobell', 'Babja', 'Bwlch-y-Ddeufaen', 'Catskill', 'Bukbawisan', 'Sobaek', 'Radoy', 'Ohridski', 'Komini', 'Corneliussen', 'Lone', 'Hohgant', 'High', 'Marineris', 'Pacheco', 'Bear', 'Gould', 'Outpost', 'Dagh', 'Saw', 'Asturias', 'Avalanche', 'Peacock', 'Loma', 'Vahsel', 'Alexandra', 'Kring', 'Rätikon', 'Bradfield', 'Pacific', 'Limestone', 'Gwyn', 'Catoctin', 'Hills', 'Sheffield', 'Calvary', 'San', 'Francisco', 'Buntsandstein', 'Loa', 'Calton', 'Babia', 'Balan', 'Hannover', 'Brøgger', 'Siamese', 'French', 'Kaptama', 'Custer', 'Kit', 'Dinaric', 'Wales', 'Lo', 'Noel', 'Anti-Taurus', 'Apple', 'Gwanaksan', 'Rhine', 'Bernard', 'Tarawera', 'Westerwald', 'Tamborine', 'Ouasiota', 'Backbone', 'Las', 'Oregon', 'Table', 'Stone', 'Changbai', 'Blacks', 'Silvertip', 'Mehrbani', 'Express', 'Paget', 'Jiu', 'Noire', 'Tohivea', 'Ridge-and-valley', 'Tourmalet', 'Láscar', 'Renouard', 'Phu', \"'rid\", 'Ramgarh', 'Sexta', 'Kofel', 'Ongal', 'Rothhorn', 'Glacier', 'Jetta', 'Ghunti', 'Patkai', 'Shilka', 'Klein', 'Saddle', 'Devi', 'Slope', 'Rich', 'Creek', 'Guadarrama', 'Fjallkirkja', 'Wicklow', 'T', '4864', 'Eight', 'Highwood', 'Chilhowee', 'Banner', 'regency', 'Foerster', 'Bogong', 'ranges', 'Metacomet', 'Knotts', 'Mongie', 'Flags', 'Nugent', 'Balsam', 'Pamir-Alay', 'Aiguille', 'Tian', 'Nightingale', 'Telegraph', 'Baker', 'Village', 'Ta', 'Garnet', 'Choto-e-Jik', 'Usui', 'Snow', 'Warm', 'Wasdale', 'Kunjamuk', 'Camel', 'Qinshan', 'Beskidian', 'Arfak', 'Stock', 'Wetterhörner', 'Williams', 'Needle', 'Fairweather', 'California', 'John', 'Cross', 'Pine', 'Baʿal', 'Itcha', 'Gallatin', 'Amargosa', 'Lolab', 'Kennesaw', 'Range', 'Crilly', 'Clara', 'Pelat', 'Þursaborg', 'Victorian', 'Appalachian', 'Antisana', 'Whiteless', 'Benedict', 'Grapevine', 'Jura', 'Lozen', 'Tula', 'Gele', 'Považský', 'Giant', 'Alps', 'Monteagle', 'Spence', 'Swan', 'Keyser', 'Jaya', 'Luigi', 'chain', 'Ana', 'Bruno', 'Spickard', 'La', 'Blanc', 'Mine', 'Gullfjellet', 'Cotopaxi', 'Shelf', 'Rita', 'Dovre', 'Lassus', 'Inovec', 'Ghats', 'Crary', 'I', 'Jemez', 'Bexhill-on-Sea', 'Russian', 'Wildi', 'Hetchy', 'Dündenhorn', 'Carrington', 'Picco', 'Brown', 'Museum', 'Juan', 'Granada', 'Jotunheimen', 'Aosta', 'Rohrenkopf', 'Alaska', 'Resplendent', 'mine', 'Maswar', 'Concordia', 'Georgia', 'Makiling', 'Kirkwood', 'Sentinel', 'Darling', 'Chewaucan', 'Torridon', 'Reclus', 'Bowie', 'Barrington', 'Villarrica', 'Domeyko', 'North', 'Salash', 'Bluff', 'Up', 'Wasatch', 'Ysgyfarnogod', 'Burton', 'Catalunyan', 'St', 'Krkonoše', 'Elias', 'Basin', 'cirque', 'Ice', 'Whitetop', 'Amanos', 'Llethr', 'Ranges', 'Cairn', 'Zemen', 'Sarikol', 'Hil', 'Lochnagar', 'Rundemanen', 'Hooker', 'massifs', 'Revolution', 'Havre', 'Vicuña', 'Argent', 'Giiwas', 'Chiricahua', 'Brooks', 'Ardudwy', 'Himal', 'Llithrig', 'Broad', 'Jefferson', 'Pueblo', 'Ouachita', 'Peak', 'Hewitts', 'Shasta', 'Lovely', 'Fatra', 'Levu', 'Morgenhorn', 'Préalpes', 'Gambier', 'Lesser', 'July', 'Davidson', 'Volcano', 'in', 'Blackburn', 'Blüemlisalp', 'Maingol', 'Seat', 'White', 'Palazzo', 'della', 'Bays', 'Fells', 'Banks', 'Ōō', 'Deep', 'Baja', 'Madre', 'Jólnir', 'Charlotte', 'Treskavica', 'Goch', 'Gotthard', 'Satpura', 'Puu', 'Robson', 'Waseley', 'Pirdop', 'Breznik', 'Lenin', 'Tasmania', 'Bozdag', 'Kawaikini', 'Whipple', 'Germany', 'Tawau', 'Zaphon', 'Wolf', 'Rid', 'Ulriken', 'Eielson', 'East', 'Estate', 'Sankar', 'mountain', 'Patscherkofel', 'Kings', 'Bavarian', 'Friesland', 'Joaquin', 'Eyskens', 'Emigrant', 'Hoel', 'Royal', 'Artist', 'Guanaco', 'Bellatorias', 'Vidal', 'Meall', 'Hautes-Pyrénées', 'Tatras', 'Bloom', 'Owl', 'Sneffels', 'Huaynaputina', 'Austin', 'smaller', 'Wudang', 'Slieve', 'Wheeling', 'Urals', 'Kosciusko', 'Kozjak', 'Yankov', 'Killiney', 'Dowa', 'Southwest', 'Vikramashila', '165', 'Breukink', 'Frederick', 'Teton', 'Carl', 'Grande', 'Musbury', 'Kaladan', 'Vidin', 'Lubra', 'Goat', 'Puncak', 'Fiemme', 'Tunnel', 'Big', 'lui', 'Wichita', 'Rasmussen', 'Elk', 'Independence', 'Von', \"'\", 'Ninole', 'Moraga', 'Doubtful', 'Gata', 'Blackwattle', 'Nevada', 'Zmiyina', 'Kranzberg', 'Eisenhower', 'Rundle', 'Dividing', 'Northern', 'Pamir', 'Magnificent', 'Snake', 'Petersen', 'Huggler', 'Stein', 'David', 'Clinton', 'Chelly', 'Lyaskovets', 'Ethiopian', 'Canelo', 'Avon', 'Oodi', 'Caithness', 'Inner', 'Aubers', 'Dhauladhar', 'Knob', 'Rhodope', 'Huntley', 'Far', 'Custer-Chilliwack', 'del', 'Angle', 'Berner', 'Knoll', 'Ontake', 'Tuscan', 'Crown', 'Cefn', 'Ross', 'Napfspitze', 'Neptune', 'Aare', 'Fourth', 'Rainbow', 'Veľká', 'Mound', 'Minarets', 'Uaksan', 'Athos', 'Chief', 'Andes', 'Stamford', 'Fawddwy', 'Kaiser', 'Landers', 'Trisul', 'Glasgwm', 'Thanh', 'Capelinhos', 'Bunker', 'Jayawijaya', 'Saint-Gotthard', 'Exley', 'Snaggy', 'Gros', 'an', 'Dearg', 'Svilaja', 'Zagros', 'Klondike', 'Rolwaling', 'Vegas', 'Dome', 'Morteratsch', 'Porteus', 'Seamount', 'Caldera', 'Kain', 'Lemeš', 'Scafells-', 'Nunatak', 'Stofenberk', 'Downton', 'Mohawk', 'Strážov', 'system', 'Swarghat', 'Irazú', 'Helicon', 'Degerfeldt', 'Hood', 'Burying', 'Pilatus', 'Spruce', 'Harmston', 'Gray', 'Saedinenie', 'Electra', 'Blackford', 'George', 'Cheyenne', 'Smokies', 'Gredos', '63', 'Tallac', 'Green', 'Owens', 'Fuji', 'Chivers', 'Alpine', 'Paluviole', 'Cuyamaca', 'Watervliet', 'Cole', 'Casey', 'Pomerape', 'Forest', 'Snowy', 'Făgăraș', 'Llama', 'Großer', 'Piz', 'Admiralty', 'Shackleton', 'Ischia', 'Fork', 'Rockies', 'Hastings', 'Canadian', 'Lak', 'Sepik', 'Ban', 'Garden', 'Apache', 'Silesian', 'Nanda', 'Oman', 'Sky', 'du', 'Planina', 'Panay', 'Matterhorn', 'Berwyns', 'Walmington', 'Dakota', 'Foel', 'Mittelhorn', 'Slievenamon', 'Vanikoro', 'Siachen', 'Marchywel', 'Ecosophy', 'Razi', 'Julier', 'Saint-Michel', 'Clough', 'Triglav', 'Point', 'Cook', 'Burma', 'Jasielsko–Sanockie', 'Arethusa', 'Hotham', 'Insular', 'ridge', 'Cadwallader', 'Moses', 'Bowers', 'Shivalik', 'Squak', 'Owlshead', 'Ushba', 'Ruweisat', 'Pedro', 'the', 'Maud', 'Christmas', 'Vesuvius', 'Jardin', 'Midi', 'Cadair', 'Great', 'Parliament', 'Fournaise', 'Ukrainian', 'Sippy', 'Sutter', 'Lan', 'Blackstone', 'Cimet', 'Madonie', 'Borrowdale', 'Ynez', 'Sanok', 'Wrach', 'Faughart', 'Johnson', 'Hancox', 'Bald', 'Terza', 'Grandes', 'Tetons', 'Dufek', 'Curlew', 'Scarvheiman', 'Newtonhill', 'Pieniny', 'Tasman', 'Melungtse', 'Coombs', 'AMSL', 'Mix-up', 'Chanctonbury', 'Short', 'Taylor', 'Trail', 'Muztagh', 'Kuczaba', 'Potosi', 'Market', 'Redhill', 'Andean', 'Malá', 'Amedeo', 'Picws', 'Kofa', 'Mary', 'Diablo', 'Zelengora', 'Kľak', 'Queich', 'Beskids', 'Szrenica', 'Kittatinny', 'Mauna', 'Cordiner', 'Luette', 'Indo-', 'Ata', 'Andrews', 'Kush', 'Staten', 'Kiso', 'Col', 'Ledang', 'Pinnacle', 'Valgrisenche', 'Cisalpine', 'Elliotts', 'Oyu', 'Hunua', 'Gauri', 'Sullivan', 'Tanzania', 'Cristo', 'Regency', 'Temple', 'Nils', 'Kea', 'Pindus', 'Minar', 'Authie', 'Hump', 'Aconcagua', 'Apoi', '/', 'Fimmvörðuháls', 'Salish', 'Del', 'Lucia', 'Gurkha', 'Makronisos', 'Rees', 'Erma', 'Silliman', 'Mường', 'Du', 'Willamette', 'Lightning', 'Chersky', 'Edge', 'Entoto', 'Jorasses', 'Nehru', 'Rock', 'Snowdon', 'Graian', 'Magic', 'Stephen', 'Queens', 'Burbage', \"''\", 'Koh-i-Baba', 'Summit', 'Nevis', 'Koolau', 'Elhovo', 'Sincholagua', 'Yalanne', 'Kanchenjunga', 'Volcan', 'Pioneer', 'Kashmir', 'Kabobo', 'Saltfjellet', 'Nei', 'Kohala', 'Gwynion', 'Antarctica', 'Oquirrh', 'Globus', 'mines', 'Predigtstuhl', 'Walker', 'Saint', 'Mono–Inyo', 'Marble', 'Fabiola', 'Ararat', 'Promontory', 'Cumberland', 'Mazama', 'Boman', 'Hirbernock', 'Kaiserstuhl', 'Copperas', 'Los', 'Vernon', 'Suribachi', 'Val', 'Vsevidof', 'Cougar', 'Rila', 'Back', 'Fleimstal', 'Gambacorta', 'Mesabi', 'Pilsko', 'Lashly', 'House', 'Titus', 'Mohave', 'Toul', 'Adams', 'Simi', 'Lantau', 'Buttermere', 'Mission', 'Ludgate', 'Caucasus', 'Tirich', 'Pike', 'Helens', 'Gorge', 'Ruen', 'Zone', 'Crescent', 'peak', 'Pelona', 'Kīlauea', 'Speikboden', 'Azure', 'Köýtendag', 'A.T.', 'Frau', 'Galunggung', 'Burgess', 'Paine', 'Ruth', 'Rhinogydd', 'Venediger', 'Weissfluh', 'Uinta', 'Vale', 'Vauquois', 'Carpathian', 'Shishman', 'Vancouver', 'Kersbrook', 'Aran', 'Calcot', 'Torres', 'Trout', 'Wind', 'Walnut', 'Musa', 'Petit', 'Barra', 'Leslie', 'Karakoram', 'Sayan', 'Sacramento', 'Prospect', 'Birmingham', 'Stehekin', 'Weyprecht', 'Paiko', 'Pulag', 'McGregor', 'Carmel', 'Hafod-fynydd', 'Última', 'Fawr', 'frerei', 'Banat', 'Cordillera', 'Larsen', 'Aïr', 'Buttes', 'Waialeale', 'Eighe', 'Elsenborn', 'Julian', 'Bilk', 'Apuseni', 'Lang', 'Ramparts', 'Staufenberg', 'Tan', 'Series', 'Snowfield', 'Franke', 'des', 'Horse', 'Frentani', 'Hurrungene', 'Watchung', 'Western', 'range', 'Ritter', 'volcano', 'Buzău', 'Kyrenia', 'Brocken', 'Tonquin', 'Yonah', 'Moonah', 'USARP', 'Kopaonik', 'Miziya', 'Warrego', 'CIA', 'Payer', 'Gilgit', 'Port', 'ki', 'O-J-I', 'Mateer', 'Naum', 'Tuff', 'Hurrungadn', 'Kichatna', 'Eyer', 'Ullock', 'Ellsworth', 'West-Central', 'Tangra', 'Liverpool', 'Hkakabo', 'Scandinavian', 'Vidden', 'Lodge', 'and', 'Cobham', 'Bernese', 'Luquillo', 'Parkers', 'Hornspitzen', 'Castra', 'Baltistan', 'Bell', 'Cyril', 'Viștea', 'Hurrungane', 'Shahtalai', 'Angeles', 'Gragareth', 'Dale', 'Heartbreak', 'Fras', 'Ufem', 'Pack', 'Tannu-Ola', 'Stroud', 'Hawaiian', 'Djouce', 'Coast', 'Columbia', 'Glencoyne', 'Coniston', 'Gleision', 'Leibniz', 'Doły', 'Rest', 'Ortler', 'Lassois', 'Eastern', 'Stara', 'Scopi', 'Sangre', 'Sperrin', 'Pacana', 'Blanca', 'Derom', 'Leonards', 'Side', 'Tux', 'Zangezur', 'Queen', 'Apennines', 'Pico', 'Mawr', 'Hayes', 'Ypati', 'Charles', 'Maria', 'Cwm', 'River', 'Mont', 'Feathertop', 'Imja', 'Ferguson', 'Aguilera', 'Old', 'Quirinal', 'Baldy', 'Explorers', 'Pelvoux', 'Pyrenees', 'Belknap', 'Naina', 'Lancashire', 'Tongue', 'Lomond', 'Rosenhorn', 'Alden', 'Poverty', 'Pernic', 'Bohemian', 'Buteanu', 'Minschuns', 'Atitlán', 'Rosa', 'Rise', 'Milk', 'Jade', 'Moldoveanu', 'Alleghenies', 'Massif', 'Gabelhorn', 'Skríðufell', 'Veliki', 'Gunung', 'Albristhorn', 'Sandia', 'Westmount', 'Llanberis', 'Concinnia', 'Garson', 'Leverett', 'Costainas', 'Parnassus', 'Laramie', 'Transantarctic', 'Kenya', 'Fründenhorn', 'Chausu', 'Mayon', 'Gorda', 'Pisgah', 'Torfinnstindene', 'West', 'Low', 'Occidental', 'Shawangunk', 'Vânătoarea', 'Sand', 'Pobeda', 'Segers', 'Midžor', 'Probuda', 'vrchy', 'Pitti', 'Jinggangshan', 'Mughal', '182', 'Na', 'Parnon', 'Maple', 'Playas', 'Ka', 'Santa', 'Radnevo', 'Pennines', 'Crestones', 'Delta', 'Lúčanská', 'Convoy', 'Atlas', 'Pienaarsport', 'Yellow', 'u', 'Grinnell', 'Loon', 'Inverness', 'aurus', 'Frigate', 'Cheonghwasan', 'Fortitude', 'Cemet', 'Cushetunk', 'Confusion', 'Rhinog', 'Craigleith', 'Bintumani', 'Samarian', 'Śnieżka', 'Aberdare', 'Greater', 'Parker', 'Myjava', 'Vitosha', 'Shan', 'Sperrins', 'Judith', 'Society', 'Primrose', 'Anna', 'Altai', 'Liberty', 'Shadow', 'Graydon', 'Taihang', 'Rhêmes', 'Macy', 'Silpium', 'Orekhovaya', 'District', 'Orogeny', 'Moel', 'Stephenson', 'Bowles', 'Adirondack', 'Dans', 'Sierras', 'Bulla', 'Dunedin', 'Manchus', 'Ruapehu', 'Dent', 'Jungfrau', 'Sabalan', 'Medvednica', 'Deception', 'Laga', 'Cyclades', 'Knocklayd', 'Sur', 'Solan', 'Nemrut', 'Sonoma', 'Drosgyl', 'Root', 'McCullough', 'Etna', 'Deamhain', 'Bunya', 'Benllyn', 'Canopus', 'Lookout', 'Vaca', 'Diamond', 'Xuefeng', 'Mansa', 'Kalmit', 'Lanterman', 'Drakensberg', 'volcanoes', 'Mammoth', 'Tatry', 'Head', 'Nob', 'Crib', 'Ardennes', 'Homerun', 'Vanoise', 'Chopok', 'Changban', 'Burney', 'Kilbuck-Kuskokwim', 'Marilyns', 'Balkan', 'Pangaion', 'Nasa', 'Dovrefjell', 'Psunj', 'Foja', 'K2', 'Ludogorie', 'Park', 'Haleakala', 'Andrus', 'Gardiner', 'Orjen', 'Oberalp', 'Ruwenzori', 'Mile', 'Coeur', 'Säntis', 'Aoraki', 'Bicol', 'Flat', 'Hart', 'Sar', 'Hoodoo', 'Rhön', 'Stromboli', 'Kootenay', 'Tibesti', 'Kelso', 'Newman', 'Auburn', 'Berry', 'Coates', 'Walton', 'Schwarzenstein', '2', 'Hardangerjøkulen', 'Ober', 'Forney', 'Everest', 'Khaṟkus', 'Eggenipa', 'Palos', 'Tor', 'Fort', 'Lofty', 'Kilimanjaro', 'Hindu', 'Woodson', 'Hudson', 'Day', 'Llyn', 'Pegu', 'Malaya', 'Aonach', 'Vermio', 'Avenida', 'Honolulu', 'Soucek', 'Chucullo', 'Shenandoah', 'Veltlin', 'Ravda', 'hora', 'Beverly', 'Guiana', 'Mountains', 'Nant', 'Marston', 'Yakutia', 'Mandalay', 'Zambales', 'on', 'de', 'Rysy', 'Saltonstall', 'Lägern', 'Black', 'Rafael', 'Rift', 'Slaughter', 'Razak', 'Hangman', 'Trinity', 'Terevaka', 'Hindukush', 'Rannerdale', 'Knocknanuss', 'Muskwa', 'Sillman', 'Pamirs', 'The', 'Glamorgan', 'Sri-Pada', 'Kalapanzin', 'Shark', 'Presiyanov', 'Blue', 'Front', 'Aathanadu', 'South', 'Group', 'dhar', 'Alatau', 'Eola-Amity', 'Press', 'Hushe', 'Ireland', 'Gopadari', 'Grand']\n"
     ]
    }
   ],
   "source": [
    "mountain_count, mountain_names = cnt_mount_names(df_train)\n",
    "\n",
    "# Print the results\n",
    "print(\"Number of sentences with mountain names in train set:\", mountain_count)\n",
    "print(\"Mountain names:\", mountain_names)"
   ]
  },
  {
   "cell_type": "code",
   "execution_count": 20,
   "metadata": {},
   "outputs": [
    {
     "data": {
      "text/plain": [
       "1871"
      ]
     },
     "execution_count": 20,
     "metadata": {},
     "output_type": "execute_result"
    }
   ],
   "source": [
    "len(mountain_names)"
   ]
  },
  {
   "cell_type": "markdown",
   "metadata": {
    "id": "S4BYbtaSvl9K"
   },
   "source": [
    "# Validation Set"
   ]
  },
  {
   "cell_type": "code",
   "execution_count": 12,
   "metadata": {
    "colab": {
     "base_uri": "https://localhost:8080/"
    },
    "id": "PXy-SC9vvfjD",
    "outputId": "9b3f16ec-5549-4c64-f36b-5cc9f254fe45"
   },
   "outputs": [
    {
     "data": {
      "text/plain": [
       "Dataset({\n",
       "    features: ['id', 'tokens', 'ner_tags', 'fine_ner_tags'],\n",
       "    num_rows: 18824\n",
       "})"
      ]
     },
     "execution_count": 12,
     "metadata": {},
     "output_type": "execute_result"
    }
   ],
   "source": [
    "df_val"
   ]
  },
  {
   "cell_type": "code",
   "execution_count": 13,
   "metadata": {
    "colab": {
     "base_uri": "https://localhost:8080/"
    },
    "id": "zL0tvp6svfjF",
    "outputId": "ebd95f40-cd17-4ed3-efa6-a11ab695125f"
   },
   "outputs": [
    {
     "name": "stdout",
     "output_type": "stream",
     "text": [
      "{'id': '0', 'tokens': ['The', 'final', 'stage', 'in', 'the', 'development', 'of', 'the', 'Skyfox', 'was', 'the', 'production', 'of', 'a', 'model', 'with', 'tricycle', 'landing', 'gear', 'to', 'better', 'cater', 'for', 'the', 'pilot', 'training', 'market', '.'], 'ner_tags': [0, 0, 0, 0, 0, 0, 0, 0, 8, 0, 0, 0, 0, 0, 0, 0, 0, 0, 0, 0, 0, 0, 0, 0, 0, 0, 0, 0], 'fine_ner_tags': [0, 0, 0, 0, 0, 0, 0, 0, 58, 0, 0, 0, 0, 0, 0, 0, 0, 0, 0, 0, 0, 0, 0, 0, 0, 0, 0, 0]}\n"
     ]
    }
   ],
   "source": [
    "# Access the first row of df_train\n",
    "first_row = df_val[0]\n",
    "\n",
    "# Print the first row\n",
    "print(first_row)"
   ]
  },
  {
   "cell_type": "markdown",
   "metadata": {},
   "source": [
    "The features in validation set are exactly the same as they are in train (and, as we shall see, in test) set."
   ]
  },
  {
   "cell_type": "code",
   "execution_count": 14,
   "metadata": {
    "colab": {
     "base_uri": "https://localhost:8080/"
    },
    "id": "zkkWfjPxvfjG",
    "outputId": "f4f94c1f-5170-466a-8de0-f0ce3f9cbba6"
   },
   "outputs": [
    {
     "data": {
      "text/plain": [
       "{'id': Value(dtype='string', id=None),\n",
       " 'tokens': Sequence(feature=Value(dtype='string', id=None), length=-1, id=None),\n",
       " 'ner_tags': Sequence(feature=ClassLabel(names=['O', 'art', 'building', 'event', 'location', 'organization', 'other', 'person', 'product'], id=None), length=-1, id=None),\n",
       " 'fine_ner_tags': Sequence(feature=ClassLabel(names=['O', 'art-broadcastprogram', 'art-film', 'art-music', 'art-other', 'art-painting', 'art-writtenart', 'building-airport', 'building-hospital', 'building-hotel', 'building-library', 'building-other', 'building-restaurant', 'building-sportsfacility', 'building-theater', 'event-attack/battle/war/militaryconflict', 'event-disaster', 'event-election', 'event-other', 'event-protest', 'event-sportsevent', 'location-GPE', 'location-bodiesofwater', 'location-island', 'location-mountain', 'location-other', 'location-park', 'location-road/railway/highway/transit', 'organization-company', 'organization-education', 'organization-government/governmentagency', 'organization-media/newspaper', 'organization-other', 'organization-politicalparty', 'organization-religion', 'organization-showorganization', 'organization-sportsleague', 'organization-sportsteam', 'other-astronomything', 'other-award', 'other-biologything', 'other-chemicalthing', 'other-currency', 'other-disease', 'other-educationaldegree', 'other-god', 'other-language', 'other-law', 'other-livingthing', 'other-medical', 'person-actor', 'person-artist/author', 'person-athlete', 'person-director', 'person-other', 'person-politician', 'person-scholar', 'person-soldier', 'product-airplane', 'product-car', 'product-food', 'product-game', 'product-other', 'product-ship', 'product-software', 'product-train', 'product-weapon'], id=None), length=-1, id=None)}"
      ]
     },
     "execution_count": 14,
     "metadata": {},
     "output_type": "execute_result"
    }
   ],
   "source": [
    "df_val.features"
   ]
  },
  {
   "cell_type": "code",
   "execution_count": 21,
   "metadata": {
    "colab": {
     "base_uri": "https://localhost:8080/"
    },
    "id": "1US3_L83vfjI",
    "outputId": "c7851611-dcb5-454b-eff4-bc0b23e98d2c"
   },
   "outputs": [
    {
     "name": "stdout",
     "output_type": "stream",
     "text": [
      "Number of sentences with mountain names in train set: 218\n",
      "Mountain names: ['Broad', 'Messines', 'Salient', 'Piestewa', 'Peak', 'Union', 'Smrk', 'Amagi', 'Uinta', 'Lofoten', 'Carpathian', 'Ilias', 'Volcano', 'Kladsko', 'na', 'Trout', 'Weybridge', 'Fells', 'oundary', 'Vermont', 'Madre', 'Little', 'Gasherbrum', 'Ślęża', ',', 'Rychlebské', 'Robson', 'Barre', 'Palo', 'Katla', 'Kawaikini', 'Jetisý', 'Narrows', 'Ozark', 'Eüüngaryn', 'Carmel', 'Ulriken', 'AVA', 'Rhodopes', 'Pass', 'Terrance', 'Notch', 'East', 'Sierra', 'Springs', 'Patagonia', \"'s\", 'Marsh', 'Fuego', 'Cordillera', 'Lingmell', 'Royal', 'Samgaksan', 'Esk', 'Skelton', 'Sete', 'Lers', 'Bilk', 'Pleasant', 'B.', 'Sowa', 'Klamath', 'Erebus', 'Sugarloaf', 'Horse', 'Aravalli', 'des', 'Allegheny', 'Uncompahgre', 'Constance', 'Moncenisio', 'Calderón', 'Western', 'range', 'Hughes', 'Água', 'Türkmenbaşy', 'Wild', 'Králický', 'Tatras', 'Owl', 'Tremblant', 'Sneffels', 'Drury', 'Brocken', 'Sal', 'Žiar', 'Richardson', 'Tai', 'Teton', 'Herne', 'Sawatch', 'Moon', 'Karkonosze', 'Oravice', 'Port', 'Shiveluch', 'O-J-I', 'Bobrovecká', 'Tangra', 'Crawford', 'Hlangwane', 'of', 'Vidden', 'Bamba', 'Judd', 'RBL', 'Wielka', 'Nevada', 'Wallowa', 'Kenny', 'Wysokie', 'Zmiyina', 'Clemens', 'Mickledore', 'Northern', 'Theia', 'Kaputar', \"d'Ossau\", 'Issaquah', 'Aso', 'Polish', 'Winston', 'Rudawy', 'Coast', 'Chelly', 'Tabor', 'Sofia', 'Peruvian', 'Albula', 'Chiring', 'Inner', 'Berkshire', 'Eastern', 'Stara', 'Praděd', 'Rocky', 'belentligi', 'Wutai', 'Knob', 'Pontida', 'Far', 'del', 'Mt', 'Knoll', 'State', 'Skihist', 'Crown', 'Ross', 'Rainbow', 'Mountain', 'Shuksan', 'Andes', 'Malabar', 'River', 'Bristol', 'Levski', 'Trigal', 'Palomar', 'Mont', 'Clover', 'Wetterhorn', 'Imja', 'Aguilera', 'Tse', 'Beacon', 'Bukhansan', 'Mönch', 'Coquihalla', 'Beýik', 'Pau', 'Squaw', 'Castellano', 'Zagros', 'Dome', 'Gornyi', 'Jeseníky', 'Hazler', 'Pyrenees', 'Witch', 'Seamount', 'Gorny', 'Weber', 'Mormon', 'Styria', 'Taurus', 'Yengo', 'Swiss', 'Portsdown', 'Monte', 'Mons', 'Wunaamin', 'St.', 'Canyon', 'Cascades', 'Pipe', 'Massif', 'Buffalo', 'Saparmyrat', 'George', 'Wałbrzych', 'Anthony', 'Zachodnie', 'Cascade', 'Clitheroe', 'Hill', 'Green', 'Hause', 'Sněžník', 'Valleys', 'Chutine', 'Pic', 'Litchfield', 'Valley', 'Heber', 'Institute', 'Himalaya', 'Alpine', 'Mayon', 'Whangaehu', 'West', 'Organ', 'Carpathians', 'Dinarides', 'Oldhorn', 'Himalayas', 'Großer', 'Janowickie', 'Panorama', 'Piz', 'Appalachians', 'Seathwaite', 'Rockies', 'Alataýy', 'Canadian', 'Catskill', 'Santa', 'Holt', 'Langdale', 'Susana', 'Hollywood', 'planina', 'High', 'du', 'Bear', 'Ankara', 'vápenica', 'mountains', 'Gable', 'Sapphire', 'Boar', 'Dhura', 'Hills', 'Śnieżka', 'Oldenhorn', 'Nose', 'Furness', 'Ratz', 'Rooterberg', 'San', 'Hermon', 'Shan', 'Pinto', 'Jizera', 'Society', 'Block', 'Kopa', 'Ushba', 'Sněžka', 'Heaven', 'the', 'Puuc', 'Balan', 'Rhea', 'dolina', 'Hardiman', 'College', 'Podbanské', 'Belasitsa', 'Oborishte', 'Sredinny', 'Midi', 'Caillich', 'Great', 'Lory', 'Dinaric', 'Wales', 'Olympic', 'Profitis', 'Ruapehu', 'Ceum', 'Jungfrau', 'Wuyi', 'Bernard', 'Tamborine', 'Ynez', 'Barrett', 'Oregon', 'Stone', 'Johnson', 'Salmon', 'Corsica', 'Collserola', 'Mendip', 'Grotto', 'Turkmenbashi', 'Slovenia', 'Cypress', 'Ridge', 'National', 'Tule', 'Waligóra', 'University', 'Taylor', 'Clent', 'Ostrzyca', 'Gabbro', 'Tourmalet', 'Castle', 'York', 'We', 'Glacier', 'volcanoes', 'Roraima', 'Kofa', 'Epomeo', 'Tatry', 'Head', 'Thumb', 'Paw', 'Hamburger', 'Longside', 'Kittatinny', 'Burney', 'Mauna', 'Todt', 'Zuberec', 'Islands', 'Creek', 'Upper', 'Écrins', 'Gaspard', 'Col', 'Ushite', 'Dzhungarskiy', 'Siahan', 'Robb', 'Lake', 'Boundary', 'Crownhill', 'Kaczawskie', 'Metacomet', 'Island', 'Temple', 'Ruwenzori', 'Jakubovany-Studená', 'Kea', 'Eiger', 'Mars', 'Kawarau', 'Wasdale', 'Arfak', 'Logan', 'Cruachan', 'Grevasalvas', 'Kukri', 'Harbison', 'Mawson', 'Del', 'Pink', 'Pikes', 'Maipo', 'OJI', 'Montana', 'Kleiner', 'Miliwundi', 'Mid', 'Προφήτης', 'Slocan', 'Brogger', 'Waterman', 'Dzungarian', 'Everest', 'Range', 'Edge', 'Appalachian', 'Tierra', 'Katahdin', 'Francisquito', 'Soviet', 'Ηλίας', 'Hudson', 'Cidades', 'Alps', 'Antarctic', 'Sivalik', 'Summit', 'Helvellyn', 'Central', 'New', 'Hokonui', 'Middle', 'Cobb', 'La', 'Tatra', 'Pelican', 'Beverly', 'Mountains', 'Gullfjellet', 'Fell', 'Larch', 'de', 'Saltonstall', 'Devils', 'Crary', 'Placerita', 'Step', 'Whistler', 'Rafael', 'Giannitsou', 'Pribylina', 'Ararat', 'Maja', 'Jari', 'Holmes', 'Cumberland', 'Newton', 'Sudetes', 'Diablerets', 'II', 'Darling', 'Eskdale', 'Reclus', 'Institut', 'Puracé', 'Bowie', 'L.', 'North', 'Bluff', 'Wasatch', 'Ograzhden', 'Konská', 'Bennett', 'Aýrybaba', 'Nevlya', 'Monument', 'Blue', 'St', 'Krkonoše', 'Front', 'Basin', 'South', 'Kulasi', 'Alatau', 'Ranges', 'Kamen', 'Mission', 'Wysoka', 'Caucasus', 'Jezercë', 'Skopiec', 'Borowa', 'Skalnik', 'Rundemanen', 'Gorge', 'System', 'Cactus', 'hill', 'Orlické', 'Mount', 'Pelona', 'Grand', 'Totoket', 'Kīlauea']\n"
     ]
    }
   ],
   "source": [
    "mountain_count, mountain_names = cnt_mount_names(df_val)\n",
    "\n",
    "# Print the results\n",
    "print(\"Number of sentences with mountain names in train set:\", mountain_count)\n",
    "print(\"Mountain names:\", mountain_names)"
   ]
  },
  {
   "cell_type": "code",
   "execution_count": 22,
   "metadata": {
    "colab": {
     "base_uri": "https://localhost:8080/"
    },
    "id": "8i3jJo2yvfjJ",
    "outputId": "bb049f70-3b4a-4a92-e9fc-b1bd63210ba3"
   },
   "outputs": [
    {
     "data": {
      "text/plain": [
       "474"
      ]
     },
     "execution_count": 22,
     "metadata": {},
     "output_type": "execute_result"
    }
   ],
   "source": [
    "len(mountain_names)"
   ]
  },
  {
   "cell_type": "markdown",
   "metadata": {
    "id": "DX7GUDdewY7U"
   },
   "source": [
    "# Test Set"
   ]
  },
  {
   "cell_type": "code",
   "execution_count": null,
   "metadata": {
    "colab": {
     "base_uri": "https://localhost:8080/"
    },
    "id": "O41pqJRjwaxp",
    "outputId": "c7cbd585-47e6-4df0-8300-228ac6a4ca06"
   },
   "outputs": [
    {
     "data": {
      "text/plain": [
       "Dataset({\n",
       "    features: ['id', 'tokens', 'ner_tags', 'fine_ner_tags'],\n",
       "    num_rows: 37648\n",
       "})"
      ]
     },
     "execution_count": 17,
     "metadata": {},
     "output_type": "execute_result"
    }
   ],
   "source": [
    "df_test"
   ]
  },
  {
   "cell_type": "code",
   "execution_count": null,
   "metadata": {
    "colab": {
     "base_uri": "https://localhost:8080/"
    },
    "id": "qdTXPBXxwaxr",
    "outputId": "a216065c-5727-4760-e778-c9439c856ac3"
   },
   "outputs": [
    {
     "name": "stdout",
     "output_type": "stream",
     "text": [
      "{'id': '0', 'tokens': ['In', 'the', 'early', '1930s', 'the', 'band', 'moved', 'to', 'the', 'Grill', 'Room', 'of', 'the', 'Taft', 'Hotel', 'in', 'New', 'York', ';', 'the', 'band', 'was', 'renamed', '``', 'George', 'Hall', 'and', 'His', 'Hotel', 'Taft', 'Orchestra', '``', '.'], 'ner_tags': [0, 0, 0, 0, 0, 0, 0, 0, 0, 2, 2, 0, 0, 2, 2, 0, 4, 4, 0, 0, 0, 0, 0, 0, 5, 5, 5, 5, 5, 5, 5, 0, 0], 'fine_ner_tags': [0, 0, 0, 0, 0, 0, 0, 0, 0, 11, 11, 0, 0, 9, 9, 0, 21, 21, 0, 0, 0, 0, 0, 0, 35, 35, 35, 35, 35, 35, 35, 0, 0]}\n"
     ]
    }
   ],
   "source": [
    "# Access the first row of df_train\n",
    "first_row = df_test[0]\n",
    "\n",
    "# Print the first row\n",
    "print(first_row)"
   ]
  },
  {
   "cell_type": "code",
   "execution_count": null,
   "metadata": {
    "colab": {
     "base_uri": "https://localhost:8080/"
    },
    "id": "QRJVYq-Nwaxs",
    "outputId": "f982f41c-24a0-487d-9cee-397c860ee7ac"
   },
   "outputs": [
    {
     "data": {
      "text/plain": [
       "{'id': Value(dtype='string', id=None),\n",
       " 'tokens': Sequence(feature=Value(dtype='string', id=None), length=-1, id=None),\n",
       " 'ner_tags': Sequence(feature=ClassLabel(names=['O', 'art', 'building', 'event', 'location', 'organization', 'other', 'person', 'product'], id=None), length=-1, id=None),\n",
       " 'fine_ner_tags': Sequence(feature=ClassLabel(names=['O', 'art-broadcastprogram', 'art-film', 'art-music', 'art-other', 'art-painting', 'art-writtenart', 'building-airport', 'building-hospital', 'building-hotel', 'building-library', 'building-other', 'building-restaurant', 'building-sportsfacility', 'building-theater', 'event-attack/battle/war/militaryconflict', 'event-disaster', 'event-election', 'event-other', 'event-protest', 'event-sportsevent', 'location-GPE', 'location-bodiesofwater', 'location-island', 'location-mountain', 'location-other', 'location-park', 'location-road/railway/highway/transit', 'organization-company', 'organization-education', 'organization-government/governmentagency', 'organization-media/newspaper', 'organization-other', 'organization-politicalparty', 'organization-religion', 'organization-showorganization', 'organization-sportsleague', 'organization-sportsteam', 'other-astronomything', 'other-award', 'other-biologything', 'other-chemicalthing', 'other-currency', 'other-disease', 'other-educationaldegree', 'other-god', 'other-language', 'other-law', 'other-livingthing', 'other-medical', 'person-actor', 'person-artist/author', 'person-athlete', 'person-director', 'person-other', 'person-politician', 'person-scholar', 'person-soldier', 'product-airplane', 'product-car', 'product-food', 'product-game', 'product-other', 'product-ship', 'product-software', 'product-train', 'product-weapon'], id=None), length=-1, id=None)}"
      ]
     },
     "execution_count": 19,
     "metadata": {},
     "output_type": "execute_result"
    }
   ],
   "source": [
    "df_test.features"
   ]
  },
  {
   "cell_type": "code",
   "execution_count": 23,
   "metadata": {
    "colab": {
     "base_uri": "https://localhost:8080/"
    },
    "id": "n8wgHMHrwaxs",
    "outputId": "06c02a88-e999-4295-de16-a92f7886acdd"
   },
   "outputs": [
    {
     "name": "stdout",
     "output_type": "stream",
     "text": [
      "Number of sentences with mountain names in train set: 448\n",
      "Mountain names: ['Tengri', 'Broad', 'Nevado', 'Imperial', 'Bursey', 'Chateaux', 'Surtningsuen', 'El', 'Peak', 'Mather', 'Köýtendag', 'Huggins', 'Kliment', 'Pennsylvania', 'Eagle', 'Alborz', 'Galunggung', 'Fatra', 'Appenzell', 'Lēahi', 'Dolomites', 'Rhinogydd', 'Massilia', 'Ben', 'Francis', 'Wilderness', 'Methodius', 'Barbara', 'Mill', 'Carpathian', 'Vancouver', 'Volcano', 'Round', 'Top', 'Dominguez', 'Kriváň', 'Carroll', 'Colfax', 'Tryfan', 'Kirkpatrick', 'Dromedary', 'White', 'Scott', 'Wind', 'Fells', 'Downs', 'Kangaroo', 'Vermont', 'f', 'Skiddaw', 'Purcell', 'Düssi', 'Ejersa', 'Karakoram', 'Madre', 'Little', 'Capitan', 'Gasherbrum', 'Malika', ',', 'Ötztal', 'im', 'also', 'Prospect', 'Apo', 'Noe', 'Antelope', 'Sahyadri', 'E8', 'Chiurwi', 'Auster', 'Kawaikini', 'Wattental', 'Jetisý', 'Grappa', 'Sturm', 'Summer', 'Tennessee', 'Scerscen', 'Eüüngaryn', 'Carmel', 'Pointe', 'Hia', 'Pass', 'Conservation', 'Rhodopes', 'Flint', 'Sierra', 'Nounou', 'Fawr', 'Velika', 'Junípero', 'Aoyama', 'mountain', 'Gask', \"'s\", 'Stradbroke', 'Patscherkofel', 'Kings', 'Districts', 'Bedada', 'Yosemite', 'English', 'Eifel', 'Sahale', 'L', 'Dickason', 'Aïr', 'Joaquin', 'Westfalica', 'Royal', 'Twin', '&', 'brow', 'Samgaksan', 'Zillertal', 'Buttes', 'Aurès', 'valley', 'Waialeale', 'Ou', 'Himalayan', 'region', 'Ranger', 'Frisch', 'la', 'Klamath', 'Cassino', 'Erebus', 'Unicoi', 'Sleeping', 'des', 'Allegheny', 'Semien', 'Sail', 'Watchung', 'Vík', 'Falls', 'Western', 'Persian', 'Stansstad', 'range', 'Piton', 'Danuvius', 'Ritter', 'Rotui', 'volcano', 'Verdugo', 'Brocken', 'hills', 'Slieve', 'Kadisha', 'Mounth', 'Lefroy', 'America', 'Nebelhorn', 'Hüfifirn', 'Sugarloaves', 'Djaffa', 'Blanche', 'Ruby', 'Albany', 'Tai', 'Bastion', 'Grande', 'Musbury', 'Eldfell', 'Rainy', 'Falketind', 'Usarp', 'Fátra', 'Fiemme', 'Ill', 'Fuvahmulah', 'O-J-I', 'Campbell', 'Eunaich', 'Elk', 'Parsons', 'Surry', 'Penken', 'Liverpool', 'Scandinavian', 'Bloomfield', 'Attapadi', 'Ford', 'Meesenkopf', 'Lavinia', 'of', 'Cuban', 'Babusar', 'Crags', 'Mines', 'Susa', 'and', 'Portora', 'Darwin', 'Chiapas', 'Bell', 'Yellowstone', 'Dividing', 'Medicine', 'Bhatigarh', 'Northern', 'Kellerjoch', 'Monica', 'Gragareth', 'Whyte', 'Heartbreak', 'Goba', 'Mounts', 'Saugus', 'Wisconsin', 'Dhar', 'Calafate', 'Hawaiian', 'Scafells', 'Coast', 'David', 'Filchner', 'Tabor', 'Keith', 'Judean', 'Supporters', 'Skokie', 'Leandro', 'Yorkshire', 'Ballon', 'Fjeld', 'Hal', 'Vinson', 'Franklin', 'Royalist', 'Eastern', 'Inner', 'Masherbrum', 'Rocky', 'Copper', 'Flathead', 'Knob', 'Sangre', 'Rhodope', 'Beau', 'Suli', 'Serra', 'Leonards', 'Mt', 'Knoll', 'State', 'Apennines', 'Pico', 'Ross', 'Veľká', 'Grampian', 'Maoke', 'Minarets', 'Mountain', 'Kling', 'Okuchichibu', 'Osogovo', 'Topatopa', 'Shuksan', 'Lairig', 'Sinai', 'Andes', 'Antonio', 'Cwm', 'Dales', 'Braeriach', 'Hueco', 'Mýrdal', 'River', 'Glungezer', 'Mont', 'Mýrdalsjökull', 'Khan', 'Capelinhos', 'Haardt', 'Beacon', 'Bukhansan', 'Baldy', 'Mönch', 'Chalk', 'Grasmoor', 'Vračar', 'Klondike', 'Dome', 'Explorers', 'Puy', 'Buckner', 'Puente', 'Pyrenees', 'Marl', 'Thames', 'Seamount', 'Caldera', 'Lomond', 'Panoramic', 'Rezen', 'Shawnee', 'Rwenzori', 'Lanfair', 'Taurus', 'Rungstock', 'Yengo', 'Cloakwood', 'Portsdown', 'Monte', 'Langeberg', 'St.', 'Rosa', 'Wiehen', 'Boy', 'Hanson', \"D'oex\", 'Cascades', 'Roseg', 'Moldoveanu', 'Jade', 'tuna', 'Humpy', '18', 'Sherrill', 'Massif', 'Buffalo', 'Titila', 'í', 'Moose', 'Penang', 'Amanus', 'Challenger', 'Cornice', 'Nebo', 'Selkirk', 'Cascade', 'Gursum', 'Aspen', 'Hill', 'Hochfügen-Hochzillertal', 'Langspitz', 'Neblina', 'Alpnach', 'ULT', 'Center', 'Lizum', 'Donard', 'Parnassus', 'Laramie', 'Transantarctic', 'São', 'Kalalau', 'Croom', 'Valley', 'Bōsō', 'Llanelly', 'Bertha', 'Mordor', 'Alpine', 'Fugnan', 'Ghru', 'Yu', 'Shiprock', 'Twynam', 'West', 'Carpathians', 'Forest', 'Tara', 'Springer', 'Pillarton', 'Toluca', 'Burkhan', 'Theresienwiese', 'Himalayas', 'Nokogiri', 'Admiralty', 'Piz', 'Richmond', 'Appalachians', 'Niblock', 'Ripple', 'Bira', 'Galtymore', 'Labes', 'Rockies', 'Alataýy', 'mons', 'Geehi', 'Belukha', 'Canadian', 'Causey', 'Alpe', 'Santa', 'Catskill', 'Kau', 'Scar', 'Pennines', 'Sobaek', 'Crestones', 'Rozsutec', 'Distaghil', 'Ohridski', 'Anzac', 'Peuterey', 'Garden', 'Susana', 'Apache', 'Convoy', 'High', 'Inverness', 'Bear', 'Caradoc', 'Vrah', 'mountains', 'Rätikon', 'Kunlun', 'Bärenbartkogel', 'Rhinog', 'Pacific', 'Reserve', 'Limestone', 'Task', 'Point', 'Boston', 'Groups', 'rang', 'da', 'Hills', 'Marescot', 'Anton', 'Greater', 'Insular', 'Lincoln', 'San', 'Porcupine', 'ou', 'Whitfield', 'Shan', 'Sperrins', 'north-eastern', 'Society', 'Beinn', 'Booker', 'Squak', 'Ligurian', 'Altai', 'Shadow', 'Babia', 'Marine', 'the', 'Berkeley', 'Hardiman', 'Ridges', 'Brøgger', 'Grass', 'Moel', 'Jake', 'Farmington', 'French', 'Grandchester', 'Azbine', 'Area', 'Great', 'Adirondack', 'ridgeway', 'Parliament', 'Crag', 'Fournaise', 'Yaya', 'Wales', 'Twins', 'Olympic', 'Kondudo', 'Feres', 'Adam', 'Blackcomb', 'Porta', 'Khaldun', 'Tuscarora', 'Iforas', 'Parbat', 'Jungfrau', 'Wuyi', 'Tarawera', 'Ynez', 'Bento', 'Bolton', 'Gkiona', 'Dohrn', 'Salamander', 'Veľký', 'Grímsvötn', 'Bald', 'Guda', 'Montenegrin', 'Itombwe', 'Pillar', 'Ridge', 'Sarnus', 'Sakhare', 'Etna', 'Rano', 'Keanapuka', 'Gabriel', 'Mix-up', 'Sunset', 'University', 'Tohivea', 'corries', 'Ridge-and-valley', 'Lookout', 'Indian', 'Remington', 'Diamond', 'Castle', 'Soyat', 'Phu', 'Mátra', 'Adrar', 'Caer', 'Redhill', 'Salève', 'Malá', 'Kalmit', 'Zubački', 'Packsaddle', 'Freel', 'Glacier', 'Namolokama', 'Mammoth', 'Head', 'Brentonti', 'Liebig', 'Diablo', 'Tower', 'First', 'Alamo', 'Mauna', 'Rich', 'Kaimai', 'Cairngorm', 'Volcanic', 'Cauterets', 'Creek', 'Super', 'Mrima', 'Chokusu', 'Gluhar', 'Carnic', 'Contingency', 'Chino', 'Gulf', 'Butte', 'Nesscliffe', 'Col', '6b', 'K2', 'Morrison', 'Dzhungarskiy', 'Mai', 'Banner', 'Southern', 'Lake', 'Haleakala', 'Ilgachuz', 'Nahargarh', 'ranges', 'Metacomet', 'Island', 'Knotts', 'Brummell', 'Kwinitekw', 'Peak-Northeast', 'Cristo', 'Aiguille', 'Tian', 'Orjen', 'Stanovoy', 'Prince', 'Temple', 'Ruwenzori', 'Tucson', 'Paráč', 'Plateau', 'Kea', 'Bitterroot', 'Snow', 'Hump', 'Cherni', 'Jengish', 'Semmering', 'Logan', 'Grandfather', 'Haupu', 'Hoodoo', 'Vercelli', 'Cruachan', 'Beardmore', 'Langka', 'Sar', 'Olav', 'McGillivray', 'Kukri', 'Mayu', 'gorge', 'Mourne', 'Pakaraima', 'Hymettus', 'Güssfeldt', 'Kempe', 'Lucia', 'Berry', 'Dandenong', 'OJI', 'Tooth', 'California', 'Hurry-up', 'Pine', 'Prealps', 'Nuea', 'Itcha', 'Jastrebica', 'Hujuba', 'Seal', 'Redoubt', 'Ober', 'summit', 'Dzungarian', 'Wrey', 'Range', 'Mingus', 'Everest', 'Crimean', 'Whiteless', 'Shandur', 'kabao', 'Benedict', 'Rock', 'Snowdon', 'Jura', 'Magic', 'Flood', 'Tor', 'Fort', 'Hunters', 'Eyjafjallajökull', 'Gele', 'crater', 'Kilimanjaro', 'Alban', 'Stephen', 'Day', 'Alps', 'Weaver', 'Swan', 'Summit', 'Rocheuse', 'Helvellyn', 'Victoria', 'Central', 'Barrier', 'Chuska', 'Gallicum', 'Japanese', 'Ahr', 'Oglethorpe', 'Bruno', 'Pioneer', 'Cobb', 'Kashmir', \"d'Alsace\", 'hora', 'Fraser', 'Beverly', 'Blanc', 'Güssfeldtsattel', 'Lawley', 'Mountains', 'Marston', 'Cherry', 'Krivánska', 'Shelf', 'de', 'Golyam', 'Negoiu', 'Saltonstall', 'Calabrese', 'Dar', 'Adelaide', 'Main', 'Francois', 'Aravali', 'Whistler', 'Malý', 'Carrington', 'Coromandel', 'Saint', 'Black', 'Djebel', 'Capitol', 'Piru', 'Warrior', \"d'Huez\", 'Sirbal', 'Goro', 'ruptus', 'Revelation', 'Terevaka', 'Hindukush', 'Alaska', 'Mazama', 'Kaiserstuhl', 'Genoese', 'Copperas', 'II', 'Atago', 'Rannerdale', 'Laurentian', 'Pinos', ')', 'Appalachia', 'Esther', '(', 'Dickey', 'Tátra', 'Lindenhof', 'amp', 'The', 'North', 'Hüttenberg', 'Ural', 'Two', 'Cougar', 'Tree', 'Dollywaggon', 'Bahrain', 'Wasatch', 'Toquima', 'Aýrybaba', 'Fleimstal', 'Morro', 'Shark', 'Rang', 'Blue', 'Cheekah', 'Pilsko', 'Front', 'Cherry-Garrard', 'Ice', 'South', 'Group', 'Hidaka', 'Ranges', 'Alatau', 'Simi', 'Butts', 'Ludgate', 'Gunnbjørn', 'Pike', 'Helens', 'Peyresourde', 'Ruen', 'Dominion', 'Buheung', 'Gorge', 'Montara', 'Havre', 'Hunza', 'Zone', 'hill', 'Äußerer', 'Rwenjura', 'Mount', 'Grand', 'Totoket', 'Taupo', 'Kebeney']\n"
     ]
    }
   ],
   "source": [
    "mountain_count, mountain_names = cnt_mount_names(df_test)\n",
    "\n",
    "# Print the results\n",
    "print(\"Number of sentences with mountain names in train set:\", mountain_count)\n",
    "print(\"Mountain names:\", mountain_names)"
   ]
  },
  {
   "cell_type": "code",
   "execution_count": 24,
   "metadata": {
    "colab": {
     "base_uri": "https://localhost:8080/"
    },
    "id": "OWw1dW7Kwaxt",
    "outputId": "16d0464c-170b-493f-b9bc-e832d369e25f"
   },
   "outputs": [
    {
     "data": {
      "text/plain": [
       "776"
      ]
     },
     "execution_count": 24,
     "metadata": {},
     "output_type": "execute_result"
    }
   ],
   "source": [
    "len(mountain_names)"
   ]
  },
  {
   "cell_type": "markdown",
   "metadata": {
    "id": "b6Es97k4YeBM"
   },
   "source": [
    "# Extracting Important data"
   ]
  },
  {
   "cell_type": "markdown",
   "metadata": {},
   "source": [
    "The next step is to extraxct the important data. As we have seen above, the number of rows with mountain names is much less than the total number of rows in each of the sets. Thus we take only the singificant rows, as well as some small number of others (to have sentences with no mountains)."
   ]
  },
  {
   "cell_type": "code",
   "execution_count": 25,
   "metadata": {
    "id": "fNTGnugSZz6T"
   },
   "outputs": [],
   "source": [
    "def balance_data(df, mountain_rows_count, additional_rows_count):\n",
    "\n",
    "  # Extract rows with mountain names\n",
    "  mountain_rows = [example for example in df if mountain_label in example[\"fine_ner_tags\"]]\n",
    "\n",
    "  # Extract rows without mountain names\n",
    "  non_mountain_rows = [example for example in df if mountain_label not in example[\"fine_ner_tags\"]]\n",
    "\n",
    "  # Randomly select additional rows without mountain names\n",
    "  random.seed(42)\n",
    "  additional_rows = random.sample(non_mountain_rows, additional_rows_count)\n",
    "\n",
    "  # Combine rows with mountain names and additional rows\n",
    "  balanced_data = mountain_rows + additional_rows\n",
    "\n",
    "  # Shuffle the combined data\n",
    "  random.shuffle(balanced_data)\n",
    "\n",
    "  # Modify the 'fine_ner_tags' values\n",
    "  for example in balanced_data:\n",
    "      example[\"fine_ner_tags\"] = [1 if label == mountain_label else 0 for label in example[\"fine_ner_tags\"]]\n",
    "\n",
    "  # Remove 'ner_tags' key and rename 'fine_ner_tags' to 'ner_tags'\n",
    "  for example in balanced_data:\n",
    "      del example['ner_tags']\n",
    "      example['ner_tags'] = example.pop('fine_ner_tags')\n",
    "\n",
    "  return Dataset.from_dict({key: [example[key] for example in balanced_data] for key in balanced_data[0]})"
   ]
  },
  {
   "cell_type": "code",
   "execution_count": 26,
   "metadata": {
    "colab": {
     "base_uri": "https://localhost:8080/"
    },
    "id": "KCz8H93baLuP",
    "outputId": "5a2bc4f8-cadf-44b9-cbeb-611fa1571dcc"
   },
   "outputs": [
    {
     "name": "stdout",
     "output_type": "stream",
     "text": [
      "Size of the balanced training set: 2000\n"
     ]
    }
   ],
   "source": [
    "balanced_train_dataset = balance_data(df_train, 1502, 2000 - 1502)\n",
    "\n",
    "# Print the size of the resulting balanced training set\n",
    "print(\"Size of the balanced training set:\", len(balanced_train_dataset))"
   ]
  },
  {
   "cell_type": "code",
   "execution_count": 27,
   "metadata": {
    "colab": {
     "base_uri": "https://localhost:8080/"
    },
    "id": "NiWLaLYEeC2Y",
    "outputId": "44dca0a1-05b0-4bdf-ba05-6b298a0ac449"
   },
   "outputs": [
    {
     "data": {
      "text/plain": [
       "{'id': '125126',\n",
       " 'tokens': ['The',\n",
       "  'Salamander',\n",
       "  'Glacier',\n",
       "  'covered',\n",
       "  'an',\n",
       "  'area',\n",
       "  'of',\n",
       "  'approximately',\n",
       "  'as',\n",
       "  'of',\n",
       "  '1993',\n",
       "  '.'],\n",
       " 'ner_tags': [0, 1, 1, 0, 0, 0, 0, 0, 0, 0, 0, 0]}"
      ]
     },
     "execution_count": 27,
     "metadata": {},
     "output_type": "execute_result"
    }
   ],
   "source": [
    "balanced_train_dataset[0]"
   ]
  },
  {
   "cell_type": "code",
   "execution_count": 28,
   "metadata": {
    "colab": {
     "base_uri": "https://localhost:8080/"
    },
    "id": "SYJ0492zaaxP",
    "outputId": "0363f3f9-b316-4e5a-a492-6ce1b03b37ec"
   },
   "outputs": [
    {
     "name": "stdout",
     "output_type": "stream",
     "text": [
      "Size of the balanced validation set: 300\n"
     ]
    }
   ],
   "source": [
    "balanced_val_dataset = balance_data(df_val, 218, 300 - 218)\n",
    "\n",
    "# Print the size of the resulting balanced validation set\n",
    "print(\"Size of the balanced validation set:\", len(balanced_val_dataset))"
   ]
  },
  {
   "cell_type": "code",
   "execution_count": 29,
   "metadata": {
    "colab": {
     "base_uri": "https://localhost:8080/"
    },
    "id": "7_w29N_WeMxz",
    "outputId": "9a3a93d2-294e-4e0e-f281-e5f15e966e37"
   },
   "outputs": [
    {
     "data": {
      "text/plain": [
       "{'id': '9152',\n",
       " 'tokens': ['Una',\n",
       "  'lies',\n",
       "  'in',\n",
       "  'the',\n",
       "  'south-western',\n",
       "  'part',\n",
       "  'of',\n",
       "  'Himachal',\n",
       "  'Pradesh',\n",
       "  ',',\n",
       "  'with',\n",
       "  'the',\n",
       "  'Sivalik',\n",
       "  'Hills',\n",
       "  'of',\n",
       "  'the',\n",
       "  'Himalayas',\n",
       "  'rolling',\n",
       "  'on',\n",
       "  'one',\n",
       "  'side',\n",
       "  '.'],\n",
       " 'ner_tags': [0,\n",
       "  0,\n",
       "  0,\n",
       "  0,\n",
       "  0,\n",
       "  0,\n",
       "  0,\n",
       "  0,\n",
       "  0,\n",
       "  0,\n",
       "  0,\n",
       "  0,\n",
       "  1,\n",
       "  1,\n",
       "  0,\n",
       "  0,\n",
       "  1,\n",
       "  0,\n",
       "  0,\n",
       "  0,\n",
       "  0,\n",
       "  0]}"
      ]
     },
     "execution_count": 29,
     "metadata": {},
     "output_type": "execute_result"
    }
   ],
   "source": [
    "balanced_val_dataset[1]"
   ]
  },
  {
   "cell_type": "code",
   "execution_count": 30,
   "metadata": {
    "colab": {
     "base_uri": "https://localhost:8080/"
    },
    "id": "ilr5s8G9ale3",
    "outputId": "0ee1650b-c270-4216-b9c4-14e6cf438b97"
   },
   "outputs": [
    {
     "name": "stdout",
     "output_type": "stream",
     "text": [
      "Size of the balanced test set: 550\n"
     ]
    }
   ],
   "source": [
    "balanced_test_dataset = balance_data(df_test, 448, 550 - 448)\n",
    "\n",
    "# Print the size of the resulting balanced test set\n",
    "print(\"Size of the balanced test set:\", len(balanced_test_dataset))"
   ]
  },
  {
   "cell_type": "code",
   "execution_count": 31,
   "metadata": {
    "colab": {
     "base_uri": "https://localhost:8080/"
    },
    "id": "zLfO5oOreTv_",
    "outputId": "c991ac4d-f59f-4695-e377-3dee50495cf6"
   },
   "outputs": [
    {
     "data": {
      "text/plain": [
       "{'id': '10016',\n",
       " 'tokens': ['Mrima',\n",
       "  'Hill',\n",
       "  'represents',\n",
       "  'one',\n",
       "  'of',\n",
       "  'the',\n",
       "  'largest',\n",
       "  'niobium',\n",
       "  'reserves',\n",
       "  'in',\n",
       "  'Kenya',\n",
       "  ',',\n",
       "  'having',\n",
       "  'estimated',\n",
       "  'reserves',\n",
       "  'of',\n",
       "  '105.3',\n",
       "  'million',\n",
       "  'tonnes',\n",
       "  'of',\n",
       "  'ore',\n",
       "  'grading',\n",
       "  '0.65',\n",
       "  '%',\n",
       "  'niobium',\n",
       "  'metal',\n",
       "  '.'],\n",
       " 'ner_tags': [1,\n",
       "  1,\n",
       "  0,\n",
       "  0,\n",
       "  0,\n",
       "  0,\n",
       "  0,\n",
       "  0,\n",
       "  0,\n",
       "  0,\n",
       "  0,\n",
       "  0,\n",
       "  0,\n",
       "  0,\n",
       "  0,\n",
       "  0,\n",
       "  0,\n",
       "  0,\n",
       "  0,\n",
       "  0,\n",
       "  0,\n",
       "  0,\n",
       "  0,\n",
       "  0,\n",
       "  0,\n",
       "  0,\n",
       "  0]}"
      ]
     },
     "execution_count": 31,
     "metadata": {},
     "output_type": "execute_result"
    }
   ],
   "source": [
    "balanced_test_dataset[0]"
   ]
  },
  {
   "cell_type": "markdown",
   "metadata": {
    "id": "3zmXVRHCeuT1"
   },
   "source": [
    "# Statistics"
   ]
  },
  {
   "cell_type": "markdown",
   "metadata": {},
   "source": [
    "Finally, we shall view some statistics, to get aquainted with the data."
   ]
  },
  {
   "cell_type": "code",
   "execution_count": 33,
   "metadata": {
    "id": "iy6Prp8xfOiZ"
   },
   "outputs": [],
   "source": [
    "# Function to calculate word counts\n",
    "def calculate_word_counts(dataset):\n",
    "    return [len(tokens) for tokens in dataset['tokens']]"
   ]
  },
  {
   "cell_type": "code",
   "execution_count": 34,
   "metadata": {
    "colab": {
     "base_uri": "https://localhost:8080/",
     "height": 299
    },
    "id": "gqkmqSQFe04X",
    "outputId": "d736f9a8-ed0d-4565-aa87-7da62fdabb3f"
   },
   "outputs": [
    {
     "data": {
      "image/png": "[encoded data removed]",
      "text/plain": [
       "<Figure size 1500x500 with 3 Axes>"
      ]
     },
     "metadata": {},
     "output_type": "display_data"
    }
   ],
   "source": [
    "# Calculate word counts for each dataset\n",
    "word_counts_train = calculate_word_counts(balanced_train_dataset)\n",
    "word_counts_val = calculate_word_counts(balanced_val_dataset)\n",
    "word_counts_test = calculate_word_counts(balanced_test_dataset)\n",
    "\n",
    "# Plot the histograms\n",
    "plt.figure(figsize=(15, 5))\n",
    "\n",
    "plt.subplot(1, 3, 1)\n",
    "plt.hist(word_counts_train, bins=50, color='blue', edgecolor='black')\n",
    "plt.title('Training Set')\n",
    "plt.xlabel('Number of Words')\n",
    "plt.ylabel('Frequency')\n",
    "\n",
    "plt.subplot(1, 3, 2)\n",
    "plt.hist(word_counts_val, bins=50, color='green', edgecolor='black')\n",
    "plt.title('Validation Set')\n",
    "plt.xlabel('Number of Words')\n",
    "plt.ylabel('Frequency')\n",
    "\n",
    "plt.subplot(1, 3, 3)\n",
    "plt.hist(word_counts_test, bins=50, color='orange', edgecolor='black')\n",
    "plt.title('Test Set')\n",
    "plt.xlabel('Number of Words')\n",
    "plt.ylabel('Frequency')\n",
    "\n",
    "plt.tight_layout()\n",
    "plt.show()"
   ]
  },
  {
   "cell_type": "markdown",
   "metadata": {},
   "source": [
    "The distributions of word counts are similar across train, val, and test data."
   ]
  },
  {
   "cell_type": "code",
   "execution_count": 35,
   "metadata": {
    "id": "eYhjLUqzfoP-"
   },
   "outputs": [],
   "source": [
    "def find_word_count_threshold(word_counts, percentage):\n",
    "    # Sort the word counts\n",
    "    sorted_word_counts = sorted(word_counts)\n",
    "\n",
    "    # Calculate the cumulative distribution function (CDF)\n",
    "    cdf = np.cumsum(sorted_word_counts) / np.sum(sorted_word_counts)\n",
    "\n",
    "    # Find the index where the CDF reaches or exceeds the desired percentage\n",
    "    threshold_index = np.argmax(cdf >= percentage)\n",
    "\n",
    "    # Get the word count threshold\n",
    "    word_count_threshold = sorted_word_counts[threshold_index]\n",
    "\n",
    "    return word_count_threshold"
   ]
  },
  {
   "cell_type": "code",
   "execution_count": 36,
   "metadata": {
    "colab": {
     "base_uri": "https://localhost:8080/"
    },
    "id": "v4ILChB4fPLT",
    "outputId": "b7a71253-d8fb-49a1-e8b7-1d79138d1d7b"
   },
   "outputs": [
    {
     "name": "stdout",
     "output_type": "stream",
     "text": [
      "Word count threshold covering 95% of rows in the training set: 63\n",
      "Word count threshold covering 95% of rows in the validation set: 63\n",
      "Word count threshold covering 95% of rows in the test set: 64\n"
     ]
    }
   ],
   "source": [
    "# Calculate word count thresholds for each dataset\n",
    "threshold_train = find_word_count_threshold(word_counts_train, 0.95)\n",
    "threshold_val = find_word_count_threshold(word_counts_val, 0.95)\n",
    "threshold_test = find_word_count_threshold(word_counts_test, 0.95)\n",
    "\n",
    "# Print the results\n",
    "print(\"Word count threshold covering 95% of rows in the training set:\", threshold_train)\n",
    "print(\"Word count threshold covering 95% of rows in the validation set:\", threshold_val)\n",
    "print(\"Word count threshold covering 95% of rows in the test set:\", threshold_test)"
   ]
  },
  {
   "cell_type": "markdown",
   "metadata": {},
   "source": [
    "Almost all the sentences have no more than 63 words."
   ]
  },
  {
   "cell_type": "code",
   "execution_count": 37,
   "metadata": {
    "id": "jLcv5DBPgG7B"
   },
   "outputs": [],
   "source": [
    "# Function to calculate mountain names counts\n",
    "def calculate_mountain_names_count(dataset):\n",
    "    return [sum(ner_tags) for ner_tags in dataset['ner_tags']]"
   ]
  },
  {
   "cell_type": "code",
   "execution_count": 38,
   "metadata": {
    "colab": {
     "base_uri": "https://localhost:8080/",
     "height": 299
    },
    "id": "mnLSf4Unfo3l",
    "outputId": "56ddd65e-cdca-4354-97ee-90476f5d3a47"
   },
   "outputs": [
    {
     "data": {
      "image/png": "[encoded data removed]",
      "text/plain": [
       "<Figure size 1500x500 with 3 Axes>"
      ]
     },
     "metadata": {},
     "output_type": "display_data"
    }
   ],
   "source": [
    "# Calculate mountain names counts for each dataset\n",
    "mountain_names_count_train = calculate_mountain_names_count(balanced_train_dataset)\n",
    "mountain_names_count_val = calculate_mountain_names_count(balanced_val_dataset)\n",
    "mountain_names_count_test = calculate_mountain_names_count(balanced_test_dataset)\n",
    "\n",
    "# Plot the histograms\n",
    "plt.figure(figsize=(15, 5))\n",
    "\n",
    "plt.subplot(1, 3, 1)\n",
    "plt.hist(mountain_names_count_train, bins=50, color='blue', edgecolor='black')\n",
    "plt.title('Training Set')\n",
    "plt.xlabel('Number of Mountain Names')\n",
    "plt.ylabel('Frequency')\n",
    "\n",
    "plt.subplot(1, 3, 2)\n",
    "plt.hist(mountain_names_count_val, bins=50, color='green', edgecolor='black')\n",
    "plt.title('Validation Set')\n",
    "plt.xlabel('Number of Mountain Names')\n",
    "plt.ylabel('Frequency')\n",
    "\n",
    "plt.subplot(1, 3, 3)\n",
    "plt.hist(mountain_names_count_test, bins=50, color='orange', edgecolor='black')\n",
    "plt.title('Test Set')\n",
    "plt.xlabel('Number of Mountain Names')\n",
    "plt.ylabel('Frequency')\n",
    "\n",
    "plt.tight_layout()\n",
    "plt.show()"
   ]
  },
  {
   "cell_type": "code",
   "execution_count": null,
   "metadata": {
    "id": "RDBfb_XWhYoA"
   },
   "outputs": [],
   "source": []
  }
 ],
 "metadata": {
  "colab": {
   "provenance": []
  },
  "kernelspec": {
   "display_name": "Python 3 (ipykernel)",
   "language": "python",
   "name": "python3"
  },
  "language_info": {
   "codemirror_mode": {
    "name": "ipython",
    "version": 3
   },
   "file_extension": ".py",
   "mimetype": "text/x-python",
   "name": "python",
   "nbconvert_exporter": "python",
   "pygments_lexer": "ipython3",
   "version": "3.10.0"
  },
  "widgets": {
   "application/vnd.jupyter.widget-state+json": {
    "026e079ced904aa2886845ec1ae33073": {
     "model_module": "@jupyter-widgets/controls",
     "model_module_version": "1.5.0",
     "model_name": "DescriptionStyleModel",
     "state": {
      "_model_module": "@jupyter-widgets/controls",
      "_model_module_version": "1.5.0",
      "_model_name": "DescriptionStyleModel",
      "_view_count": null,
      "_view_module": "@jupyter-widgets/base",
      "_view_module_version": "1.2.0",
      "_view_name": "StyleView",
      "description_width": ""
     }
    },
    "029c71e6465947e899794bd0da7457b4": {
     "model_module": "@jupyter-widgets/base",
     "model_module_version": "1.2.0",
     "model_name": "LayoutModel",
     "state": {
      "_model_module": "@jupyter-widgets/base",
      "_model_module_version": "1.2.0",
      "_model_name": "LayoutModel",
      "_view_count": null,
      "_view_module": "@jupyter-widgets/base",
      "_view_module_version": "1.2.0",
      "_view_name": "LayoutView",
      "align_content": null,
      "align_items": null,
      "align_self": null,
      "border": null,
      "bottom": null,
      "display": null,
      "flex": null,
      "flex_flow": null,
      "grid_area": null,
      "grid_auto_columns": null,
      "grid_auto_flow": null,
      "grid_auto_rows": null,
      "grid_column": null,
      "grid_gap": null,
      "grid_row": null,
      "grid_template_areas": null,
      "grid_template_columns": null,
      "grid_template_rows": null,
      "height": null,
      "justify_content": null,
      "justify_items": null,
      "left": null,
      "margin": null,
      "max_height": null,
      "max_width": null,
      "min_height": null,
      "min_width": null,
      "object_fit": null,
      "object_position": null,
      "order": null,
      "overflow": null,
      "overflow_x": null,
      "overflow_y": null,
      "padding": null,
      "right": null,
      "top": null,
      "visibility": null,
      "width": null
     }
    },
    "03d40f9d99d34a488e80cfe74cf06f4f": {
     "model_module": "@jupyter-widgets/controls",
     "model_module_version": "1.5.0",
     "model_name": "HBoxModel",
     "state": {
      "_dom_classes": [],
      "_model_module": "@jupyter-widgets/controls",
      "_model_module_version": "1.5.0",
      "_model_name": "HBoxModel",
      "_view_count": null,
      "_view_module": "@jupyter-widgets/controls",
      "_view_module_version": "1.5.0",
      "_view_name": "HBoxView",
      "box_style": "",
      "children": [
       "IPY_MODEL_ae692797763d4cbdaf1011fa2d3e36b7",
       "IPY_MODEL_aaada3ebf0bd4fa59919938324aa92eb",
       "IPY_MODEL_684bce9339904d84a602aaa8a20d209b"
      ],
      "layout": "IPY_MODEL_e80f3b9304354ba28a290921401feaa3"
     }
    },
    "047d59bea38243a78c5f779932ad04f1": {
     "model_module": "@jupyter-widgets/base",
     "model_module_version": "1.2.0",
     "model_name": "LayoutModel",
     "state": {
      "_model_module": "@jupyter-widgets/base",
      "_model_module_version": "1.2.0",
      "_model_name": "LayoutModel",
      "_view_count": null,
      "_view_module": "@jupyter-widgets/base",
      "_view_module_version": "1.2.0",
      "_view_name": "LayoutView",
      "align_content": null,
      "align_items": null,
      "align_self": null,
      "border": null,
      "bottom": null,
      "display": null,
      "flex": null,
      "flex_flow": null,
      "grid_area": null,
      "grid_auto_columns": null,
      "grid_auto_flow": null,
      "grid_auto_rows": null,
      "grid_column": null,
      "grid_gap": null,
      "grid_row": null,
      "grid_template_areas": null,
      "grid_template_columns": null,
      "grid_template_rows": null,
      "height": null,
      "justify_content": null,
      "justify_items": null,
      "left": null,
      "margin": null,
      "max_height": null,
      "max_width": null,
      "min_height": null,
      "min_width": null,
      "object_fit": null,
      "object_position": null,
      "order": null,
      "overflow": null,
      "overflow_x": null,
      "overflow_y": null,
      "padding": null,
      "right": null,
      "top": null,
      "visibility": null,
      "width": null
     }
    },
    "07166909a1d8422a88b1e861d34b782d": {
     "model_module": "@jupyter-widgets/controls",
     "model_module_version": "1.5.0",
     "model_name": "ProgressStyleModel",
     "state": {
      "_model_module": "@jupyter-widgets/controls",
      "_model_module_version": "1.5.0",
      "_model_name": "ProgressStyleModel",
      "_view_count": null,
      "_view_module": "@jupyter-widgets/base",
      "_view_module_version": "1.2.0",
      "_view_name": "StyleView",
      "bar_color": null,
      "description_width": ""
     }
    },
    "09534a3be2774c6ba3433a5d52308697": {
     "model_module": "@jupyter-widgets/base",
     "model_module_version": "1.2.0",
     "model_name": "LayoutModel",
     "state": {
      "_model_module": "@jupyter-widgets/base",
      "_model_module_version": "1.2.0",
      "_model_name": "LayoutModel",
      "_view_count": null,
      "_view_module": "@jupyter-widgets/base",
      "_view_module_version": "1.2.0",
      "_view_name": "LayoutView",
      "align_content": null,
      "align_items": null,
      "align_self": null,
      "border": null,
      "bottom": null,
      "display": null,
      "flex": null,
      "flex_flow": null,
      "grid_area": null,
      "grid_auto_columns": null,
      "grid_auto_flow": null,
      "grid_auto_rows": null,
      "grid_column": null,
      "grid_gap": null,
      "grid_row": null,
      "grid_template_areas": null,
      "grid_template_columns": null,
      "grid_template_rows": null,
      "height": null,
      "justify_content": null,
      "justify_items": null,
      "left": null,
      "margin": null,
      "max_height": null,
      "max_width": null,
      "min_height": null,
      "min_width": null,
      "object_fit": null,
      "object_position": null,
      "order": null,
      "overflow": null,
      "overflow_x": null,
      "overflow_y": null,
      "padding": null,
      "right": null,
      "top": null,
      "visibility": null,
      "width": null
     }
    },
    "0b74dc76b05246eeb8001efa351d7ca7": {
     "model_module": "@jupyter-widgets/controls",
     "model_module_version": "1.5.0",
     "model_name": "HBoxModel",
     "state": {
      "_dom_classes": [],
      "_model_module": "@jupyter-widgets/controls",
      "_model_module_version": "1.5.0",
      "_model_name": "HBoxModel",
      "_view_count": null,
      "_view_module": "@jupyter-widgets/controls",
      "_view_module_version": "1.5.0",
      "_view_name": "HBoxView",
      "box_style": "",
      "children": [
       "IPY_MODEL_2ad9c3525fc041d9a59837b7b9575b42",
       "IPY_MODEL_d8e3e2ab7ffd42f3aea3f9b5b22fda66",
       "IPY_MODEL_d15d51e7ad3c41c6a8368857678d0a82"
      ],
      "layout": "IPY_MODEL_dd66fcedd16c41f0acd3a5ca94105264"
     }
    },
    "0de5d54e0c87446ba0c0c05fb70ccfe6": {
     "model_module": "@jupyter-widgets/controls",
     "model_module_version": "1.5.0",
     "model_name": "FloatProgressModel",
     "state": {
      "_dom_classes": [],
      "_model_module": "@jupyter-widgets/controls",
      "_model_module_version": "1.5.0",
      "_model_name": "FloatProgressModel",
      "_view_count": null,
      "_view_module": "@jupyter-widgets/controls",
      "_view_module_version": "1.5.0",
      "_view_name": "ProgressView",
      "bar_style": "success",
      "description": "",
      "description_tooltip": null,
      "layout": "IPY_MODEL_f369c61a75d146b682a9c48ef258f6dc",
      "max": 1,
      "min": 0,
      "orientation": "horizontal",
      "style": "IPY_MODEL_07166909a1d8422a88b1e861d34b782d",
      "value": 1
     }
    },
    "0f756b0337f14c6da2cd7ae047d0402b": {
     "model_module": "@jupyter-widgets/controls",
     "model_module_version": "1.5.0",
     "model_name": "HTMLModel",
     "state": {
      "_dom_classes": [],
      "_model_module": "@jupyter-widgets/controls",
      "_model_module_version": "1.5.0",
      "_model_name": "HTMLModel",
      "_view_count": null,
      "_view_module": "@jupyter-widgets/controls",
      "_view_module_version": "1.5.0",
      "_view_name": "HTMLView",
      "description": "",
      "description_tooltip": null,
      "layout": "IPY_MODEL_e4d71c04d09e4764ba8aac639ce8b912",
      "placeholder": "​",
      "style": "IPY_MODEL_026e079ced904aa2886845ec1ae33073",
      "value": "Saving the dataset (1/1 shards): 100%"
     }
    },
    "131278e4d86b4d8ba4f4150b29d05274": {
     "model_module": "@jupyter-widgets/controls",
     "model_module_version": "1.5.0",
     "model_name": "ProgressStyleModel",
     "state": {
      "_model_module": "@jupyter-widgets/controls",
      "_model_module_version": "1.5.0",
      "_model_name": "ProgressStyleModel",
      "_view_count": null,
      "_view_module": "@jupyter-widgets/base",
      "_view_module_version": "1.2.0",
      "_view_name": "StyleView",
      "bar_color": null,
      "description_width": ""
     }
    },
    "1919fbae5eaf4398b360a58eb8dc00c4": {
     "model_module": "@jupyter-widgets/controls",
     "model_module_version": "1.5.0",
     "model_name": "HTMLModel",
     "state": {
      "_dom_classes": [],
      "_model_module": "@jupyter-widgets/controls",
      "_model_module_version": "1.5.0",
      "_model_name": "HTMLModel",
      "_view_count": null,
      "_view_module": "@jupyter-widgets/controls",
      "_view_module_version": "1.5.0",
      "_view_name": "HTMLView",
      "description": "",
      "description_tooltip": null,
      "layout": "IPY_MODEL_d8bf58266bfc4a4591429ddee49df05a",
      "placeholder": "​",
      "style": "IPY_MODEL_917b28f492484795a0f5795ce57e3c1b",
      "value": "Generating test split: "
     }
    },
    "1ecd50ea640447aabd44aab4fcbe618e": {
     "model_module": "@jupyter-widgets/controls",
     "model_module_version": "1.5.0",
     "model_name": "HTMLModel",
     "state": {
      "_dom_classes": [],
      "_model_module": "@jupyter-widgets/controls",
      "_model_module_version": "1.5.0",
      "_model_name": "HTMLModel",
      "_view_count": null,
      "_view_module": "@jupyter-widgets/controls",
      "_view_module_version": "1.5.0",
      "_view_name": "HTMLView",
      "description": "",
      "description_tooltip": null,
      "layout": "IPY_MODEL_766032f0e1be480195c882e9dc11b4c3",
      "placeholder": "​",
      "style": "IPY_MODEL_c0346013d092472cb443ff76fa8518d6",
      "value": " 131767/0 [00:37&lt;00:00, 2279.60 examples/s]"
     }
    },
    "1f28b95357c3496c9a3f2982862468f1": {
     "model_module": "@jupyter-widgets/controls",
     "model_module_version": "1.5.0",
     "model_name": "HTMLModel",
     "state": {
      "_dom_classes": [],
      "_model_module": "@jupyter-widgets/controls",
      "_model_module_version": "1.5.0",
      "_model_name": "HTMLModel",
      "_view_count": null,
      "_view_module": "@jupyter-widgets/controls",
      "_view_module_version": "1.5.0",
      "_view_name": "HTMLView",
      "description": "",
      "description_tooltip": null,
      "layout": "IPY_MODEL_8c429140ca584dd3839b1f98ad9f950a",
      "placeholder": "​",
      "style": "IPY_MODEL_b17bc1ff53a140169e653e5335dd711c",
      "value": " 482037/482037 [00:05&lt;00:00, 111510.62it/s]"
     }
    },
    "20b50ab377bf4c09bbd5ba4180855710": {
     "model_module": "@jupyter-widgets/controls",
     "model_module_version": "1.5.0",
     "model_name": "DescriptionStyleModel",
     "state": {
      "_model_module": "@jupyter-widgets/controls",
      "_model_module_version": "1.5.0",
      "_model_name": "DescriptionStyleModel",
      "_view_count": null,
      "_view_module": "@jupyter-widgets/base",
      "_view_module_version": "1.2.0",
      "_view_name": "StyleView",
      "description_width": ""
     }
    },
    "2259af2d840e46a093f6914da48f76cc": {
     "model_module": "@jupyter-widgets/base",
     "model_module_version": "1.2.0",
     "model_name": "LayoutModel",
     "state": {
      "_model_module": "@jupyter-widgets/base",
      "_model_module_version": "1.2.0",
      "_model_name": "LayoutModel",
      "_view_count": null,
      "_view_module": "@jupyter-widgets/base",
      "_view_module_version": "1.2.0",
      "_view_name": "LayoutView",
      "align_content": null,
      "align_items": null,
      "align_self": null,
      "border": null,
      "bottom": null,
      "display": null,
      "flex": null,
      "flex_flow": null,
      "grid_area": null,
      "grid_auto_columns": null,
      "grid_auto_flow": null,
      "grid_auto_rows": null,
      "grid_column": null,
      "grid_gap": null,
      "grid_row": null,
      "grid_template_areas": null,
      "grid_template_columns": null,
      "grid_template_rows": null,
      "height": null,
      "justify_content": null,
      "justify_items": null,
      "left": null,
      "margin": null,
      "max_height": null,
      "max_width": null,
      "min_height": null,
      "min_width": null,
      "object_fit": null,
      "object_position": null,
      "order": null,
      "overflow": null,
      "overflow_x": null,
      "overflow_y": null,
      "padding": null,
      "right": null,
      "top": null,
      "visibility": null,
      "width": null
     }
    },
    "249d57a771264780a7cfbcb554ad6ff6": {
     "model_module": "@jupyter-widgets/controls",
     "model_module_version": "1.5.0",
     "model_name": "DescriptionStyleModel",
     "state": {
      "_model_module": "@jupyter-widgets/controls",
      "_model_module_version": "1.5.0",
      "_model_name": "DescriptionStyleModel",
      "_view_count": null,
      "_view_module": "@jupyter-widgets/base",
      "_view_module_version": "1.2.0",
      "_view_name": "StyleView",
      "description_width": ""
     }
    },
    "27e736c798bc416b8f6fae1339ad0401": {
     "model_module": "@jupyter-widgets/base",
     "model_module_version": "1.2.0",
     "model_name": "LayoutModel",
     "state": {
      "_model_module": "@jupyter-widgets/base",
      "_model_module_version": "1.2.0",
      "_model_name": "LayoutModel",
      "_view_count": null,
      "_view_module": "@jupyter-widgets/base",
      "_view_module_version": "1.2.0",
      "_view_name": "LayoutView",
      "align_content": null,
      "align_items": null,
      "align_self": null,
      "border": null,
      "bottom": null,
      "display": null,
      "flex": null,
      "flex_flow": null,
      "grid_area": null,
      "grid_auto_columns": null,
      "grid_auto_flow": null,
      "grid_auto_rows": null,
      "grid_column": null,
      "grid_gap": null,
      "grid_row": null,
      "grid_template_areas": null,
      "grid_template_columns": null,
      "grid_template_rows": null,
      "height": null,
      "justify_content": null,
      "justify_items": null,
      "left": null,
      "margin": null,
      "max_height": null,
      "max_width": null,
      "min_height": null,
      "min_width": null,
      "object_fit": null,
      "object_position": null,
      "order": null,
      "overflow": null,
      "overflow_x": null,
      "overflow_y": null,
      "padding": null,
      "right": null,
      "top": null,
      "visibility": null,
      "width": null
     }
    },
    "285d68155bf44ce38fbedd4eed0f9850": {
     "model_module": "@jupyter-widgets/base",
     "model_module_version": "1.2.0",
     "model_name": "LayoutModel",
     "state": {
      "_model_module": "@jupyter-widgets/base",
      "_model_module_version": "1.2.0",
      "_model_name": "LayoutModel",
      "_view_count": null,
      "_view_module": "@jupyter-widgets/base",
      "_view_module_version": "1.2.0",
      "_view_name": "LayoutView",
      "align_content": null,
      "align_items": null,
      "align_self": null,
      "border": null,
      "bottom": null,
      "display": null,
      "flex": null,
      "flex_flow": null,
      "grid_area": null,
      "grid_auto_columns": null,
      "grid_auto_flow": null,
      "grid_auto_rows": null,
      "grid_column": null,
      "grid_gap": null,
      "grid_row": null,
      "grid_template_areas": null,
      "grid_template_columns": null,
      "grid_template_rows": null,
      "height": null,
      "justify_content": null,
      "justify_items": null,
      "left": null,
      "margin": null,
      "max_height": null,
      "max_width": null,
      "min_height": null,
      "min_width": null,
      "object_fit": null,
      "object_position": null,
      "order": null,
      "overflow": null,
      "overflow_x": null,
      "overflow_y": null,
      "padding": null,
      "right": null,
      "top": null,
      "visibility": null,
      "width": null
     }
    },
    "2a4bd9d9a2734831b3687d87b142459a": {
     "model_module": "@jupyter-widgets/controls",
     "model_module_version": "1.5.0",
     "model_name": "DescriptionStyleModel",
     "state": {
      "_model_module": "@jupyter-widgets/controls",
      "_model_module_version": "1.5.0",
      "_model_name": "DescriptionStyleModel",
      "_view_count": null,
      "_view_module": "@jupyter-widgets/base",
      "_view_module_version": "1.2.0",
      "_view_name": "StyleView",
      "description_width": ""
     }
    },
    "2ad9c3525fc041d9a59837b7b9575b42": {
     "model_module": "@jupyter-widgets/controls",
     "model_module_version": "1.5.0",
     "model_name": "HTMLModel",
     "state": {
      "_dom_classes": [],
      "_model_module": "@jupyter-widgets/controls",
      "_model_module_version": "1.5.0",
      "_model_name": "HTMLModel",
      "_view_count": null,
      "_view_module": "@jupyter-widgets/controls",
      "_view_module_version": "1.5.0",
      "_view_name": "HTMLView",
      "description": "",
      "description_tooltip": null,
      "layout": "IPY_MODEL_7b1f1c01227e456faf85bbd923e74ad3",
      "placeholder": "​",
      "style": "IPY_MODEL_764d6f475e804374ba8300e0f00debe7",
      "value": "Generating validation split: "
     }
    },
    "3446789f9b754b23a79e2a0b2e417713": {
     "model_module": "@jupyter-widgets/controls",
     "model_module_version": "1.5.0",
     "model_name": "HBoxModel",
     "state": {
      "_dom_classes": [],
      "_model_module": "@jupyter-widgets/controls",
      "_model_module_version": "1.5.0",
      "_model_name": "HBoxModel",
      "_view_count": null,
      "_view_module": "@jupyter-widgets/controls",
      "_view_module_version": "1.5.0",
      "_view_name": "HBoxView",
      "box_style": "",
      "children": [
       "IPY_MODEL_b42b6c12362e46be90f68c9abb7592c1",
       "IPY_MODEL_ee931fd31e534093afc21f1d3ebf2ecc",
       "IPY_MODEL_727025022dea4202861390906ebf8ccf"
      ],
      "layout": "IPY_MODEL_09534a3be2774c6ba3433a5d52308697"
     }
    },
    "3447e3f8024245e59b5a1fcc9c1fd9de": {
     "model_module": "@jupyter-widgets/controls",
     "model_module_version": "1.5.0",
     "model_name": "HBoxModel",
     "state": {
      "_dom_classes": [],
      "_model_module": "@jupyter-widgets/controls",
      "_model_module_version": "1.5.0",
      "_model_name": "HBoxModel",
      "_view_count": null,
      "_view_module": "@jupyter-widgets/controls",
      "_view_module_version": "1.5.0",
      "_view_name": "HBoxView",
      "box_style": "",
      "children": [
       "IPY_MODEL_1919fbae5eaf4398b360a58eb8dc00c4",
       "IPY_MODEL_0de5d54e0c87446ba0c0c05fb70ccfe6",
       "IPY_MODEL_4b378948092844a8bbe94f5dad61500e"
      ],
      "layout": "IPY_MODEL_f72c906ddca9498bb75d6540986bbcce"
     }
    },
    "355cc4e4e4cf49568519f8d5a69cf18b": {
     "model_module": "@jupyter-widgets/controls",
     "model_module_version": "1.5.0",
     "model_name": "DescriptionStyleModel",
     "state": {
      "_model_module": "@jupyter-widgets/controls",
      "_model_module_version": "1.5.0",
      "_model_name": "DescriptionStyleModel",
      "_view_count": null,
      "_view_module": "@jupyter-widgets/base",
      "_view_module_version": "1.2.0",
      "_view_name": "StyleView",
      "description_width": ""
     }
    },
    "3755102872d64c77964d5c48cbfe88d8": {
     "model_module": "@jupyter-widgets/controls",
     "model_module_version": "1.5.0",
     "model_name": "FloatProgressModel",
     "state": {
      "_dom_classes": [],
      "_model_module": "@jupyter-widgets/controls",
      "_model_module_version": "1.5.0",
      "_model_name": "FloatProgressModel",
      "_view_count": null,
      "_view_module": "@jupyter-widgets/controls",
      "_view_module_version": "1.5.0",
      "_view_name": "ProgressView",
      "bar_style": "success",
      "description": "",
      "description_tooltip": null,
      "layout": "IPY_MODEL_95e3babf17764284aa6ab7e171a208ba",
      "max": 2000,
      "min": 0,
      "orientation": "horizontal",
      "style": "IPY_MODEL_5b69a8f1ded74348bd4fbc77fc37d6c6",
      "value": 2000
     }
    },
    "398ec1a6c814452c841d35a40b581d6d": {
     "model_module": "@jupyter-widgets/base",
     "model_module_version": "1.2.0",
     "model_name": "LayoutModel",
     "state": {
      "_model_module": "@jupyter-widgets/base",
      "_model_module_version": "1.2.0",
      "_model_name": "LayoutModel",
      "_view_count": null,
      "_view_module": "@jupyter-widgets/base",
      "_view_module_version": "1.2.0",
      "_view_name": "LayoutView",
      "align_content": null,
      "align_items": null,
      "align_self": null,
      "border": null,
      "bottom": null,
      "display": null,
      "flex": null,
      "flex_flow": null,
      "grid_area": null,
      "grid_auto_columns": null,
      "grid_auto_flow": null,
      "grid_auto_rows": null,
      "grid_column": null,
      "grid_gap": null,
      "grid_row": null,
      "grid_template_areas": null,
      "grid_template_columns": null,
      "grid_template_rows": null,
      "height": null,
      "justify_content": null,
      "justify_items": null,
      "left": null,
      "margin": null,
      "max_height": null,
      "max_width": null,
      "min_height": null,
      "min_width": null,
      "object_fit": null,
      "object_position": null,
      "order": null,
      "overflow": null,
      "overflow_x": null,
      "overflow_y": null,
      "padding": null,
      "right": null,
      "top": null,
      "visibility": null,
      "width": null
     }
    },
    "3c12867c755b42978ff9f4eab7ad70c5": {
     "model_module": "@jupyter-widgets/controls",
     "model_module_version": "1.5.0",
     "model_name": "DescriptionStyleModel",
     "state": {
      "_model_module": "@jupyter-widgets/controls",
      "_model_module_version": "1.5.0",
      "_model_name": "DescriptionStyleModel",
      "_view_count": null,
      "_view_module": "@jupyter-widgets/base",
      "_view_module_version": "1.2.0",
      "_view_name": "StyleView",
      "description_width": ""
     }
    },
    "3ce06271ec7a4ed1bc843a019b7e7f5a": {
     "model_module": "@jupyter-widgets/base",
     "model_module_version": "1.2.0",
     "model_name": "LayoutModel",
     "state": {
      "_model_module": "@jupyter-widgets/base",
      "_model_module_version": "1.2.0",
      "_model_name": "LayoutModel",
      "_view_count": null,
      "_view_module": "@jupyter-widgets/base",
      "_view_module_version": "1.2.0",
      "_view_name": "LayoutView",
      "align_content": null,
      "align_items": null,
      "align_self": null,
      "border": null,
      "bottom": null,
      "display": null,
      "flex": null,
      "flex_flow": null,
      "grid_area": null,
      "grid_auto_columns": null,
      "grid_auto_flow": null,
      "grid_auto_rows": null,
      "grid_column": null,
      "grid_gap": null,
      "grid_row": null,
      "grid_template_areas": null,
      "grid_template_columns": null,
      "grid_template_rows": null,
      "height": null,
      "justify_content": null,
      "justify_items": null,
      "left": null,
      "margin": null,
      "max_height": null,
      "max_width": null,
      "min_height": null,
      "min_width": null,
      "object_fit": null,
      "object_position": null,
      "order": null,
      "overflow": null,
      "overflow_x": null,
      "overflow_y": null,
      "padding": null,
      "right": null,
      "top": null,
      "visibility": null,
      "width": null
     }
    },
    "3dbb99f4827d40ae856b1d79226d8326": {
     "model_module": "@jupyter-widgets/controls",
     "model_module_version": "1.5.0",
     "model_name": "HTMLModel",
     "state": {
      "_dom_classes": [],
      "_model_module": "@jupyter-widgets/controls",
      "_model_module_version": "1.5.0",
      "_model_name": "HTMLModel",
      "_view_count": null,
      "_view_module": "@jupyter-widgets/controls",
      "_view_module_version": "1.5.0",
      "_view_name": "HTMLView",
      "description": "",
      "description_tooltip": null,
      "layout": "IPY_MODEL_72bf4012479a46219e06a635328bebf4",
      "placeholder": "​",
      "style": "IPY_MODEL_355cc4e4e4cf49568519f8d5a69cf18b",
      "value": "Generating train split: "
     }
    },
    "3e45ba195e7949129cd2ca2dc07660fd": {
     "model_module": "@jupyter-widgets/base",
     "model_module_version": "1.2.0",
     "model_name": "LayoutModel",
     "state": {
      "_model_module": "@jupyter-widgets/base",
      "_model_module_version": "1.2.0",
      "_model_name": "LayoutModel",
      "_view_count": null,
      "_view_module": "@jupyter-widgets/base",
      "_view_module_version": "1.2.0",
      "_view_name": "LayoutView",
      "align_content": null,
      "align_items": null,
      "align_self": null,
      "border": null,
      "bottom": null,
      "display": null,
      "flex": null,
      "flex_flow": null,
      "grid_area": null,
      "grid_auto_columns": null,
      "grid_auto_flow": null,
      "grid_auto_rows": null,
      "grid_column": null,
      "grid_gap": null,
      "grid_row": null,
      "grid_template_areas": null,
      "grid_template_columns": null,
      "grid_template_rows": null,
      "height": null,
      "justify_content": null,
      "justify_items": null,
      "left": null,
      "margin": null,
      "max_height": null,
      "max_width": null,
      "min_height": null,
      "min_width": null,
      "object_fit": null,
      "object_position": null,
      "order": null,
      "overflow": null,
      "overflow_x": null,
      "overflow_y": null,
      "padding": null,
      "right": null,
      "top": null,
      "visibility": null,
      "width": null
     }
    },
    "43fde1d6b41e4953ae8f3eac0c760ff1": {
     "model_module": "@jupyter-widgets/controls",
     "model_module_version": "1.5.0",
     "model_name": "DescriptionStyleModel",
     "state": {
      "_model_module": "@jupyter-widgets/controls",
      "_model_module_version": "1.5.0",
      "_model_name": "DescriptionStyleModel",
      "_view_count": null,
      "_view_module": "@jupyter-widgets/base",
      "_view_module_version": "1.2.0",
      "_view_name": "StyleView",
      "description_width": ""
     }
    },
    "4459cab8fcb14726be1ac92a54cfc2c0": {
     "model_module": "@jupyter-widgets/base",
     "model_module_version": "1.2.0",
     "model_name": "LayoutModel",
     "state": {
      "_model_module": "@jupyter-widgets/base",
      "_model_module_version": "1.2.0",
      "_model_name": "LayoutModel",
      "_view_count": null,
      "_view_module": "@jupyter-widgets/base",
      "_view_module_version": "1.2.0",
      "_view_name": "LayoutView",
      "align_content": null,
      "align_items": null,
      "align_self": null,
      "border": null,
      "bottom": null,
      "display": null,
      "flex": null,
      "flex_flow": null,
      "grid_area": null,
      "grid_auto_columns": null,
      "grid_auto_flow": null,
      "grid_auto_rows": null,
      "grid_column": null,
      "grid_gap": null,
      "grid_row": null,
      "grid_template_areas": null,
      "grid_template_columns": null,
      "grid_template_rows": null,
      "height": null,
      "justify_content": null,
      "justify_items": null,
      "left": null,
      "margin": null,
      "max_height": null,
      "max_width": null,
      "min_height": null,
      "min_width": null,
      "object_fit": null,
      "object_position": null,
      "order": null,
      "overflow": null,
      "overflow_x": null,
      "overflow_y": null,
      "padding": null,
      "right": null,
      "top": null,
      "visibility": null,
      "width": null
     }
    },
    "455534db324042208ef227ce68b3c887": {
     "model_module": "@jupyter-widgets/controls",
     "model_module_version": "1.5.0",
     "model_name": "DescriptionStyleModel",
     "state": {
      "_model_module": "@jupyter-widgets/controls",
      "_model_module_version": "1.5.0",
      "_model_name": "DescriptionStyleModel",
      "_view_count": null,
      "_view_module": "@jupyter-widgets/base",
      "_view_module_version": "1.2.0",
      "_view_name": "StyleView",
      "description_width": ""
     }
    },
    "470d33c349164319b58748a53d75abf2": {
     "model_module": "@jupyter-widgets/controls",
     "model_module_version": "1.5.0",
     "model_name": "ProgressStyleModel",
     "state": {
      "_model_module": "@jupyter-widgets/controls",
      "_model_module_version": "1.5.0",
      "_model_name": "ProgressStyleModel",
      "_view_count": null,
      "_view_module": "@jupyter-widgets/base",
      "_view_module_version": "1.2.0",
      "_view_name": "StyleView",
      "bar_color": null,
      "description_width": ""
     }
    },
    "495cced2dd7541c487f76048670b60a2": {
     "model_module": "@jupyter-widgets/controls",
     "model_module_version": "1.5.0",
     "model_name": "DescriptionStyleModel",
     "state": {
      "_model_module": "@jupyter-widgets/controls",
      "_model_module_version": "1.5.0",
      "_model_name": "DescriptionStyleModel",
      "_view_count": null,
      "_view_module": "@jupyter-widgets/base",
      "_view_module_version": "1.2.0",
      "_view_name": "StyleView",
      "description_width": ""
     }
    },
    "4a7addac63454718806e6b0f4da08ad5": {
     "model_module": "@jupyter-widgets/base",
     "model_module_version": "1.2.0",
     "model_name": "LayoutModel",
     "state": {
      "_model_module": "@jupyter-widgets/base",
      "_model_module_version": "1.2.0",
      "_model_name": "LayoutModel",
      "_view_count": null,
      "_view_module": "@jupyter-widgets/base",
      "_view_module_version": "1.2.0",
      "_view_name": "LayoutView",
      "align_content": null,
      "align_items": null,
      "align_self": null,
      "border": null,
      "bottom": null,
      "display": null,
      "flex": null,
      "flex_flow": null,
      "grid_area": null,
      "grid_auto_columns": null,
      "grid_auto_flow": null,
      "grid_auto_rows": null,
      "grid_column": null,
      "grid_gap": null,
      "grid_row": null,
      "grid_template_areas": null,
      "grid_template_columns": null,
      "grid_template_rows": null,
      "height": null,
      "justify_content": null,
      "justify_items": null,
      "left": null,
      "margin": null,
      "max_height": null,
      "max_width": null,
      "min_height": null,
      "min_width": null,
      "object_fit": null,
      "object_position": null,
      "order": null,
      "overflow": null,
      "overflow_x": null,
      "overflow_y": null,
      "padding": null,
      "right": null,
      "top": null,
      "visibility": null,
      "width": null
     }
    },
    "4b378948092844a8bbe94f5dad61500e": {
     "model_module": "@jupyter-widgets/controls",
     "model_module_version": "1.5.0",
     "model_name": "HTMLModel",
     "state": {
      "_dom_classes": [],
      "_model_module": "@jupyter-widgets/controls",
      "_model_module_version": "1.5.0",
      "_model_name": "HTMLModel",
      "_view_count": null,
      "_view_module": "@jupyter-widgets/controls",
      "_view_module_version": "1.5.0",
      "_view_name": "HTMLView",
      "description": "",
      "description_tooltip": null,
      "layout": "IPY_MODEL_047d59bea38243a78c5f779932ad04f1",
      "placeholder": "​",
      "style": "IPY_MODEL_2a4bd9d9a2734831b3687d87b142459a",
      "value": " 37648/0 [00:11&lt;00:00, 2385.89 examples/s]"
     }
    },
    "4be04260b6724607989977a5428444ba": {
     "model_module": "@jupyter-widgets/controls",
     "model_module_version": "1.5.0",
     "model_name": "DescriptionStyleModel",
     "state": {
      "_model_module": "@jupyter-widgets/controls",
      "_model_module_version": "1.5.0",
      "_model_name": "DescriptionStyleModel",
      "_view_count": null,
      "_view_module": "@jupyter-widgets/base",
      "_view_module_version": "1.2.0",
      "_view_name": "StyleView",
      "description_width": ""
     }
    },
    "5364b16085934737a17f4421e12f30e6": {
     "model_module": "@jupyter-widgets/controls",
     "model_module_version": "1.5.0",
     "model_name": "ProgressStyleModel",
     "state": {
      "_model_module": "@jupyter-widgets/controls",
      "_model_module_version": "1.5.0",
      "_model_name": "ProgressStyleModel",
      "_view_count": null,
      "_view_module": "@jupyter-widgets/base",
      "_view_module_version": "1.2.0",
      "_view_name": "StyleView",
      "bar_color": null,
      "description_width": ""
     }
    },
    "5b69a8f1ded74348bd4fbc77fc37d6c6": {
     "model_module": "@jupyter-widgets/controls",
     "model_module_version": "1.5.0",
     "model_name": "ProgressStyleModel",
     "state": {
      "_model_module": "@jupyter-widgets/controls",
      "_model_module_version": "1.5.0",
      "_model_name": "ProgressStyleModel",
      "_view_count": null,
      "_view_module": "@jupyter-widgets/base",
      "_view_module_version": "1.2.0",
      "_view_name": "StyleView",
      "bar_color": null,
      "description_width": ""
     }
    },
    "5c7a397fcf394973a6499d6f8adfcb56": {
     "model_module": "@jupyter-widgets/base",
     "model_module_version": "1.2.0",
     "model_name": "LayoutModel",
     "state": {
      "_model_module": "@jupyter-widgets/base",
      "_model_module_version": "1.2.0",
      "_model_name": "LayoutModel",
      "_view_count": null,
      "_view_module": "@jupyter-widgets/base",
      "_view_module_version": "1.2.0",
      "_view_name": "LayoutView",
      "align_content": null,
      "align_items": null,
      "align_self": null,
      "border": null,
      "bottom": null,
      "display": null,
      "flex": null,
      "flex_flow": null,
      "grid_area": null,
      "grid_auto_columns": null,
      "grid_auto_flow": null,
      "grid_auto_rows": null,
      "grid_column": null,
      "grid_gap": null,
      "grid_row": null,
      "grid_template_areas": null,
      "grid_template_columns": null,
      "grid_template_rows": null,
      "height": null,
      "justify_content": null,
      "justify_items": null,
      "left": null,
      "margin": null,
      "max_height": null,
      "max_width": null,
      "min_height": null,
      "min_width": null,
      "object_fit": null,
      "object_position": null,
      "order": null,
      "overflow": null,
      "overflow_x": null,
      "overflow_y": null,
      "padding": null,
      "right": null,
      "top": null,
      "visibility": null,
      "width": null
     }
    },
    "5d7ab71191534e86b6cdcd12fd6de0bd": {
     "model_module": "@jupyter-widgets/base",
     "model_module_version": "1.2.0",
     "model_name": "LayoutModel",
     "state": {
      "_model_module": "@jupyter-widgets/base",
      "_model_module_version": "1.2.0",
      "_model_name": "LayoutModel",
      "_view_count": null,
      "_view_module": "@jupyter-widgets/base",
      "_view_module_version": "1.2.0",
      "_view_name": "LayoutView",
      "align_content": null,
      "align_items": null,
      "align_self": null,
      "border": null,
      "bottom": null,
      "display": null,
      "flex": null,
      "flex_flow": null,
      "grid_area": null,
      "grid_auto_columns": null,
      "grid_auto_flow": null,
      "grid_auto_rows": null,
      "grid_column": null,
      "grid_gap": null,
      "grid_row": null,
      "grid_template_areas": null,
      "grid_template_columns": null,
      "grid_template_rows": null,
      "height": null,
      "justify_content": null,
      "justify_items": null,
      "left": null,
      "margin": null,
      "max_height": null,
      "max_width": null,
      "min_height": null,
      "min_width": null,
      "object_fit": null,
      "object_position": null,
      "order": null,
      "overflow": null,
      "overflow_x": null,
      "overflow_y": null,
      "padding": null,
      "right": null,
      "top": null,
      "visibility": null,
      "width": null
     }
    },
    "5ecc1ffc45964085846d874c3d1137f6": {
     "model_module": "@jupyter-widgets/controls",
     "model_module_version": "1.5.0",
     "model_name": "HTMLModel",
     "state": {
      "_dom_classes": [],
      "_model_module": "@jupyter-widgets/controls",
      "_model_module_version": "1.5.0",
      "_model_name": "HTMLModel",
      "_view_count": null,
      "_view_module": "@jupyter-widgets/controls",
      "_view_module_version": "1.5.0",
      "_view_name": "HTMLView",
      "description": "",
      "description_tooltip": null,
      "layout": "IPY_MODEL_658a3211f5b64c0a8e5f83eec3134a73",
      "placeholder": "​",
      "style": "IPY_MODEL_d89c1736efd54d24b420a7a6b5e4513e",
      "value": " 7.13k/7.13k [00:00&lt;00:00, 188kB/s]"
     }
    },
    "5fc7ff93b0d14d6796d50f7c3075cb19": {
     "model_module": "@jupyter-widgets/controls",
     "model_module_version": "1.5.0",
     "model_name": "DescriptionStyleModel",
     "state": {
      "_model_module": "@jupyter-widgets/controls",
      "_model_module_version": "1.5.0",
      "_model_name": "DescriptionStyleModel",
      "_view_count": null,
      "_view_module": "@jupyter-widgets/base",
      "_view_module_version": "1.2.0",
      "_view_name": "StyleView",
      "description_width": ""
     }
    },
    "6012c6f2b3bd40f6ae997b3a5ea9d92a": {
     "model_module": "@jupyter-widgets/controls",
     "model_module_version": "1.5.0",
     "model_name": "DescriptionStyleModel",
     "state": {
      "_model_module": "@jupyter-widgets/controls",
      "_model_module_version": "1.5.0",
      "_model_name": "DescriptionStyleModel",
      "_view_count": null,
      "_view_module": "@jupyter-widgets/base",
      "_view_module_version": "1.2.0",
      "_view_name": "StyleView",
      "description_width": ""
     }
    },
    "61339e50d42645319b174b45d309bbb6": {
     "model_module": "@jupyter-widgets/base",
     "model_module_version": "1.2.0",
     "model_name": "LayoutModel",
     "state": {
      "_model_module": "@jupyter-widgets/base",
      "_model_module_version": "1.2.0",
      "_model_name": "LayoutModel",
      "_view_count": null,
      "_view_module": "@jupyter-widgets/base",
      "_view_module_version": "1.2.0",
      "_view_name": "LayoutView",
      "align_content": null,
      "align_items": null,
      "align_self": null,
      "border": null,
      "bottom": null,
      "display": null,
      "flex": null,
      "flex_flow": null,
      "grid_area": null,
      "grid_auto_columns": null,
      "grid_auto_flow": null,
      "grid_auto_rows": null,
      "grid_column": null,
      "grid_gap": null,
      "grid_row": null,
      "grid_template_areas": null,
      "grid_template_columns": null,
      "grid_template_rows": null,
      "height": null,
      "justify_content": null,
      "justify_items": null,
      "left": null,
      "margin": null,
      "max_height": null,
      "max_width": null,
      "min_height": null,
      "min_width": null,
      "object_fit": null,
      "object_position": null,
      "order": null,
      "overflow": null,
      "overflow_x": null,
      "overflow_y": null,
      "padding": null,
      "right": null,
      "top": null,
      "visibility": null,
      "width": null
     }
    },
    "658a3211f5b64c0a8e5f83eec3134a73": {
     "model_module": "@jupyter-widgets/base",
     "model_module_version": "1.2.0",
     "model_name": "LayoutModel",
     "state": {
      "_model_module": "@jupyter-widgets/base",
      "_model_module_version": "1.2.0",
      "_model_name": "LayoutModel",
      "_view_count": null,
      "_view_module": "@jupyter-widgets/base",
      "_view_module_version": "1.2.0",
      "_view_name": "LayoutView",
      "align_content": null,
      "align_items": null,
      "align_self": null,
      "border": null,
      "bottom": null,
      "display": null,
      "flex": null,
      "flex_flow": null,
      "grid_area": null,
      "grid_auto_columns": null,
      "grid_auto_flow": null,
      "grid_auto_rows": null,
      "grid_column": null,
      "grid_gap": null,
      "grid_row": null,
      "grid_template_areas": null,
      "grid_template_columns": null,
      "grid_template_rows": null,
      "height": null,
      "justify_content": null,
      "justify_items": null,
      "left": null,
      "margin": null,
      "max_height": null,
      "max_width": null,
      "min_height": null,
      "min_width": null,
      "object_fit": null,
      "object_position": null,
      "order": null,
      "overflow": null,
      "overflow_x": null,
      "overflow_y": null,
      "padding": null,
      "right": null,
      "top": null,
      "visibility": null,
      "width": null
     }
    },
    "684bce9339904d84a602aaa8a20d209b": {
     "model_module": "@jupyter-widgets/controls",
     "model_module_version": "1.5.0",
     "model_name": "HTMLModel",
     "state": {
      "_dom_classes": [],
      "_model_module": "@jupyter-widgets/controls",
      "_model_module_version": "1.5.0",
      "_model_name": "HTMLModel",
      "_view_count": null,
      "_view_module": "@jupyter-widgets/controls",
      "_view_module_version": "1.5.0",
      "_view_name": "HTMLView",
      "description": "",
      "description_tooltip": null,
      "layout": "IPY_MODEL_d69754f61c224d2a86a6adca4d5c1d03",
      "placeholder": "​",
      "style": "IPY_MODEL_455534db324042208ef227ce68b3c887",
      "value": " 14.6M/14.6M [00:00&lt;00:00, 22.5MB/s]"
     }
    },
    "6a5024580e2a4304a6a96bdd62ca7f71": {
     "model_module": "@jupyter-widgets/controls",
     "model_module_version": "1.5.0",
     "model_name": "ProgressStyleModel",
     "state": {
      "_model_module": "@jupyter-widgets/controls",
      "_model_module_version": "1.5.0",
      "_model_name": "ProgressStyleModel",
      "_view_count": null,
      "_view_module": "@jupyter-widgets/base",
      "_view_module_version": "1.2.0",
      "_view_name": "StyleView",
      "bar_color": null,
      "description_width": ""
     }
    },
    "6b2f32433a1b4baeabf29d702d83f2f1": {
     "model_module": "@jupyter-widgets/controls",
     "model_module_version": "1.5.0",
     "model_name": "FloatProgressModel",
     "state": {
      "_dom_classes": [],
      "_model_module": "@jupyter-widgets/controls",
      "_model_module_version": "1.5.0",
      "_model_name": "FloatProgressModel",
      "_view_count": null,
      "_view_module": "@jupyter-widgets/controls",
      "_view_module_version": "1.5.0",
      "_view_name": "ProgressView",
      "bar_style": "success",
      "description": "",
      "description_tooltip": null,
      "layout": "IPY_MODEL_f39ff29fbcbf454b8514abd8238bc9ee",
      "max": 3359329,
      "min": 0,
      "orientation": "horizontal",
      "style": "IPY_MODEL_131278e4d86b4d8ba4f4150b29d05274",
      "value": 3359329
     }
    },
    "6ca7e5e6df0d4610b6e0f180aa71d690": {
     "model_module": "@jupyter-widgets/base",
     "model_module_version": "1.2.0",
     "model_name": "LayoutModel",
     "state": {
      "_model_module": "@jupyter-widgets/base",
      "_model_module_version": "1.2.0",
      "_model_name": "LayoutModel",
      "_view_count": null,
      "_view_module": "@jupyter-widgets/base",
      "_view_module_version": "1.2.0",
      "_view_name": "LayoutView",
      "align_content": null,
      "align_items": null,
      "align_self": null,
      "border": null,
      "bottom": null,
      "display": null,
      "flex": null,
      "flex_flow": null,
      "grid_area": null,
      "grid_auto_columns": null,
      "grid_auto_flow": null,
      "grid_auto_rows": null,
      "grid_column": null,
      "grid_gap": null,
      "grid_row": null,
      "grid_template_areas": null,
      "grid_template_columns": null,
      "grid_template_rows": null,
      "height": null,
      "justify_content": null,
      "justify_items": null,
      "left": null,
      "margin": null,
      "max_height": null,
      "max_width": null,
      "min_height": null,
      "min_width": null,
      "object_fit": null,
      "object_position": null,
      "order": null,
      "overflow": null,
      "overflow_x": null,
      "overflow_y": null,
      "padding": null,
      "right": null,
      "top": null,
      "visibility": null,
      "width": null
     }
    },
    "6d9a5020f0a349ac84e5620e3c084c84": {
     "model_module": "@jupyter-widgets/controls",
     "model_module_version": "1.5.0",
     "model_name": "HBoxModel",
     "state": {
      "_dom_classes": [],
      "_model_module": "@jupyter-widgets/controls",
      "_model_module_version": "1.5.0",
      "_model_name": "HBoxModel",
      "_view_count": null,
      "_view_module": "@jupyter-widgets/controls",
      "_view_module_version": "1.5.0",
      "_view_name": "HBoxView",
      "box_style": "",
      "children": [
       "IPY_MODEL_c5e2cc8a06014bb883a19fc34b5782fa",
       "IPY_MODEL_9b45925fbc314223a3659c2cf0390b8d",
       "IPY_MODEL_1f28b95357c3496c9a3f2982862468f1"
      ],
      "layout": "IPY_MODEL_aa9522db7c454638bc1983e196c78f6b"
     }
    },
    "6e665488c12b40498138eee75789f5cc": {
     "model_module": "@jupyter-widgets/controls",
     "model_module_version": "1.5.0",
     "model_name": "HTMLModel",
     "state": {
      "_dom_classes": [],
      "_model_module": "@jupyter-widgets/controls",
      "_model_module_version": "1.5.0",
      "_model_name": "HTMLModel",
      "_view_count": null,
      "_view_module": "@jupyter-widgets/controls",
      "_view_module_version": "1.5.0",
      "_view_name": "HTMLView",
      "description": "",
      "description_tooltip": null,
      "layout": "IPY_MODEL_724fe9090d2d408c922e6e74eda6822b",
      "placeholder": "​",
      "style": "IPY_MODEL_495cced2dd7541c487f76048670b60a2",
      "value": " 3359329/3359329 [00:36&lt;00:00, 56491.48it/s]"
     }
    },
    "724fe9090d2d408c922e6e74eda6822b": {
     "model_module": "@jupyter-widgets/base",
     "model_module_version": "1.2.0",
     "model_name": "LayoutModel",
     "state": {
      "_model_module": "@jupyter-widgets/base",
      "_model_module_version": "1.2.0",
      "_model_name": "LayoutModel",
      "_view_count": null,
      "_view_module": "@jupyter-widgets/base",
      "_view_module_version": "1.2.0",
      "_view_name": "LayoutView",
      "align_content": null,
      "align_items": null,
      "align_self": null,
      "border": null,
      "bottom": null,
      "display": null,
      "flex": null,
      "flex_flow": null,
      "grid_area": null,
      "grid_auto_columns": null,
      "grid_auto_flow": null,
      "grid_auto_rows": null,
      "grid_column": null,
      "grid_gap": null,
      "grid_row": null,
      "grid_template_areas": null,
      "grid_template_columns": null,
      "grid_template_rows": null,
      "height": null,
      "justify_content": null,
      "justify_items": null,
      "left": null,
      "margin": null,
      "max_height": null,
      "max_width": null,
      "min_height": null,
      "min_width": null,
      "object_fit": null,
      "object_position": null,
      "order": null,
      "overflow": null,
      "overflow_x": null,
      "overflow_y": null,
      "padding": null,
      "right": null,
      "top": null,
      "visibility": null,
      "width": null
     }
    },
    "727025022dea4202861390906ebf8ccf": {
     "model_module": "@jupyter-widgets/controls",
     "model_module_version": "1.5.0",
     "model_name": "HTMLModel",
     "state": {
      "_dom_classes": [],
      "_model_module": "@jupyter-widgets/controls",
      "_model_module_version": "1.5.0",
      "_model_name": "HTMLModel",
      "_view_count": null,
      "_view_module": "@jupyter-widgets/controls",
      "_view_module_version": "1.5.0",
      "_view_name": "HTMLView",
      "description": "",
      "description_tooltip": null,
      "layout": "IPY_MODEL_5c7a397fcf394973a6499d6f8adfcb56",
      "placeholder": "​",
      "style": "IPY_MODEL_5fc7ff93b0d14d6796d50f7c3075cb19",
      "value": " 550/550 [00:00&lt;00:00, 14055.89 examples/s]"
     }
    },
    "72bf4012479a46219e06a635328bebf4": {
     "model_module": "@jupyter-widgets/base",
     "model_module_version": "1.2.0",
     "model_name": "LayoutModel",
     "state": {
      "_model_module": "@jupyter-widgets/base",
      "_model_module_version": "1.2.0",
      "_model_name": "LayoutModel",
      "_view_count": null,
      "_view_module": "@jupyter-widgets/base",
      "_view_module_version": "1.2.0",
      "_view_name": "LayoutView",
      "align_content": null,
      "align_items": null,
      "align_self": null,
      "border": null,
      "bottom": null,
      "display": null,
      "flex": null,
      "flex_flow": null,
      "grid_area": null,
      "grid_auto_columns": null,
      "grid_auto_flow": null,
      "grid_auto_rows": null,
      "grid_column": null,
      "grid_gap": null,
      "grid_row": null,
      "grid_template_areas": null,
      "grid_template_columns": null,
      "grid_template_rows": null,
      "height": null,
      "justify_content": null,
      "justify_items": null,
      "left": null,
      "margin": null,
      "max_height": null,
      "max_width": null,
      "min_height": null,
      "min_width": null,
      "object_fit": null,
      "object_position": null,
      "order": null,
      "overflow": null,
      "overflow_x": null,
      "overflow_y": null,
      "padding": null,
      "right": null,
      "top": null,
      "visibility": null,
      "width": null
     }
    },
    "72d130dcb0114112a0779bd316447c93": {
     "model_module": "@jupyter-widgets/controls",
     "model_module_version": "1.5.0",
     "model_name": "HTMLModel",
     "state": {
      "_dom_classes": [],
      "_model_module": "@jupyter-widgets/controls",
      "_model_module_version": "1.5.0",
      "_model_name": "HTMLModel",
      "_view_count": null,
      "_view_module": "@jupyter-widgets/controls",
      "_view_module_version": "1.5.0",
      "_view_name": "HTMLView",
      "description": "",
      "description_tooltip": null,
      "layout": "IPY_MODEL_abc5cda1b74f454ba6fa46c3ed379c03",
      "placeholder": "​",
      "style": "IPY_MODEL_8c0267d6e67f42728543a11dfaf80abb",
      "value": "100%"
     }
    },
    "764d6f475e804374ba8300e0f00debe7": {
     "model_module": "@jupyter-widgets/controls",
     "model_module_version": "1.5.0",
     "model_name": "DescriptionStyleModel",
     "state": {
      "_model_module": "@jupyter-widgets/controls",
      "_model_module_version": "1.5.0",
      "_model_name": "DescriptionStyleModel",
      "_view_count": null,
      "_view_module": "@jupyter-widgets/base",
      "_view_module_version": "1.2.0",
      "_view_name": "StyleView",
      "description_width": ""
     }
    },
    "766032f0e1be480195c882e9dc11b4c3": {
     "model_module": "@jupyter-widgets/base",
     "model_module_version": "1.2.0",
     "model_name": "LayoutModel",
     "state": {
      "_model_module": "@jupyter-widgets/base",
      "_model_module_version": "1.2.0",
      "_model_name": "LayoutModel",
      "_view_count": null,
      "_view_module": "@jupyter-widgets/base",
      "_view_module_version": "1.2.0",
      "_view_name": "LayoutView",
      "align_content": null,
      "align_items": null,
      "align_self": null,
      "border": null,
      "bottom": null,
      "display": null,
      "flex": null,
      "flex_flow": null,
      "grid_area": null,
      "grid_auto_columns": null,
      "grid_auto_flow": null,
      "grid_auto_rows": null,
      "grid_column": null,
      "grid_gap": null,
      "grid_row": null,
      "grid_template_areas": null,
      "grid_template_columns": null,
      "grid_template_rows": null,
      "height": null,
      "justify_content": null,
      "justify_items": null,
      "left": null,
      "margin": null,
      "max_height": null,
      "max_width": null,
      "min_height": null,
      "min_width": null,
      "object_fit": null,
      "object_position": null,
      "order": null,
      "overflow": null,
      "overflow_x": null,
      "overflow_y": null,
      "padding": null,
      "right": null,
      "top": null,
      "visibility": null,
      "width": null
     }
    },
    "779559c163d640d89a90a06dae25b950": {
     "model_module": "@jupyter-widgets/controls",
     "model_module_version": "1.5.0",
     "model_name": "HTMLModel",
     "state": {
      "_dom_classes": [],
      "_model_module": "@jupyter-widgets/controls",
      "_model_module_version": "1.5.0",
      "_model_name": "HTMLModel",
      "_view_count": null,
      "_view_module": "@jupyter-widgets/controls",
      "_view_module_version": "1.5.0",
      "_view_name": "HTMLView",
      "description": "",
      "description_tooltip": null,
      "layout": "IPY_MODEL_4459cab8fcb14726be1ac92a54cfc2c0",
      "placeholder": "​",
      "style": "IPY_MODEL_249d57a771264780a7cfbcb554ad6ff6",
      "value": "100%"
     }
    },
    "791712dd222646c7a049b6ca699bde97": {
     "model_module": "@jupyter-widgets/controls",
     "model_module_version": "1.5.0",
     "model_name": "ProgressStyleModel",
     "state": {
      "_model_module": "@jupyter-widgets/controls",
      "_model_module_version": "1.5.0",
      "_model_name": "ProgressStyleModel",
      "_view_count": null,
      "_view_module": "@jupyter-widgets/base",
      "_view_module_version": "1.2.0",
      "_view_name": "StyleView",
      "bar_color": null,
      "description_width": ""
     }
    },
    "7a19feba813a41a8869bf9299565008b": {
     "model_module": "@jupyter-widgets/controls",
     "model_module_version": "1.5.0",
     "model_name": "DescriptionStyleModel",
     "state": {
      "_model_module": "@jupyter-widgets/controls",
      "_model_module_version": "1.5.0",
      "_model_name": "DescriptionStyleModel",
      "_view_count": null,
      "_view_module": "@jupyter-widgets/base",
      "_view_module_version": "1.2.0",
      "_view_name": "StyleView",
      "description_width": ""
     }
    },
    "7b1f1c01227e456faf85bbd923e74ad3": {
     "model_module": "@jupyter-widgets/base",
     "model_module_version": "1.2.0",
     "model_name": "LayoutModel",
     "state": {
      "_model_module": "@jupyter-widgets/base",
      "_model_module_version": "1.2.0",
      "_model_name": "LayoutModel",
      "_view_count": null,
      "_view_module": "@jupyter-widgets/base",
      "_view_module_version": "1.2.0",
      "_view_name": "LayoutView",
      "align_content": null,
      "align_items": null,
      "align_self": null,
      "border": null,
      "bottom": null,
      "display": null,
      "flex": null,
      "flex_flow": null,
      "grid_area": null,
      "grid_auto_columns": null,
      "grid_auto_flow": null,
      "grid_auto_rows": null,
      "grid_column": null,
      "grid_gap": null,
      "grid_row": null,
      "grid_template_areas": null,
      "grid_template_columns": null,
      "grid_template_rows": null,
      "height": null,
      "justify_content": null,
      "justify_items": null,
      "left": null,
      "margin": null,
      "max_height": null,
      "max_width": null,
      "min_height": null,
      "min_width": null,
      "object_fit": null,
      "object_position": null,
      "order": null,
      "overflow": null,
      "overflow_x": null,
      "overflow_y": null,
      "padding": null,
      "right": null,
      "top": null,
      "visibility": null,
      "width": null
     }
    },
    "7f3c9e14ec3c44d3b1a15fa28212e820": {
     "model_module": "@jupyter-widgets/base",
     "model_module_version": "1.2.0",
     "model_name": "LayoutModel",
     "state": {
      "_model_module": "@jupyter-widgets/base",
      "_model_module_version": "1.2.0",
      "_model_name": "LayoutModel",
      "_view_count": null,
      "_view_module": "@jupyter-widgets/base",
      "_view_module_version": "1.2.0",
      "_view_name": "LayoutView",
      "align_content": null,
      "align_items": null,
      "align_self": null,
      "border": null,
      "bottom": null,
      "display": null,
      "flex": null,
      "flex_flow": null,
      "grid_area": null,
      "grid_auto_columns": null,
      "grid_auto_flow": null,
      "grid_auto_rows": null,
      "grid_column": null,
      "grid_gap": null,
      "grid_row": null,
      "grid_template_areas": null,
      "grid_template_columns": null,
      "grid_template_rows": null,
      "height": null,
      "justify_content": null,
      "justify_items": null,
      "left": null,
      "margin": null,
      "max_height": null,
      "max_width": null,
      "min_height": null,
      "min_width": null,
      "object_fit": null,
      "object_position": null,
      "order": null,
      "overflow": null,
      "overflow_x": null,
      "overflow_y": null,
      "padding": null,
      "right": null,
      "top": null,
      "visibility": null,
      "width": "20px"
     }
    },
    "7f7347ce44eb4c33bb76bbb2081ac022": {
     "model_module": "@jupyter-widgets/controls",
     "model_module_version": "1.5.0",
     "model_name": "HTMLModel",
     "state": {
      "_dom_classes": [],
      "_model_module": "@jupyter-widgets/controls",
      "_model_module_version": "1.5.0",
      "_model_name": "HTMLModel",
      "_view_count": null,
      "_view_module": "@jupyter-widgets/controls",
      "_view_module_version": "1.5.0",
      "_view_name": "HTMLView",
      "description": "",
      "description_tooltip": null,
      "layout": "IPY_MODEL_8a5b796470ad4eed8c5f6de1311ceee3",
      "placeholder": "​",
      "style": "IPY_MODEL_de4329a2a78f4bfda71938a09a549c01",
      "value": " 2000/2000 [00:00&lt;00:00, 39611.13 examples/s]"
     }
    },
    "87943b02a2a940458e0ea0b67b2a2db4": {
     "model_module": "@jupyter-widgets/controls",
     "model_module_version": "1.5.0",
     "model_name": "ProgressStyleModel",
     "state": {
      "_model_module": "@jupyter-widgets/controls",
      "_model_module_version": "1.5.0",
      "_model_name": "ProgressStyleModel",
      "_view_count": null,
      "_view_module": "@jupyter-widgets/base",
      "_view_module_version": "1.2.0",
      "_view_name": "StyleView",
      "bar_color": null,
      "description_width": ""
     }
    },
    "8884ad78a3bd413689bbc3f31c09ad14": {
     "model_module": "@jupyter-widgets/base",
     "model_module_version": "1.2.0",
     "model_name": "LayoutModel",
     "state": {
      "_model_module": "@jupyter-widgets/base",
      "_model_module_version": "1.2.0",
      "_model_name": "LayoutModel",
      "_view_count": null,
      "_view_module": "@jupyter-widgets/base",
      "_view_module_version": "1.2.0",
      "_view_name": "LayoutView",
      "align_content": null,
      "align_items": null,
      "align_self": null,
      "border": null,
      "bottom": null,
      "display": null,
      "flex": null,
      "flex_flow": null,
      "grid_area": null,
      "grid_auto_columns": null,
      "grid_auto_flow": null,
      "grid_auto_rows": null,
      "grid_column": null,
      "grid_gap": null,
      "grid_row": null,
      "grid_template_areas": null,
      "grid_template_columns": null,
      "grid_template_rows": null,
      "height": null,
      "justify_content": null,
      "justify_items": null,
      "left": null,
      "margin": null,
      "max_height": null,
      "max_width": null,
      "min_height": null,
      "min_width": null,
      "object_fit": null,
      "object_position": null,
      "order": null,
      "overflow": null,
      "overflow_x": null,
      "overflow_y": null,
      "padding": null,
      "right": null,
      "top": null,
      "visibility": null,
      "width": null
     }
    },
    "88d121a65ec64775bb9735c93ecd6402": {
     "model_module": "@jupyter-widgets/controls",
     "model_module_version": "1.5.0",
     "model_name": "HBoxModel",
     "state": {
      "_dom_classes": [],
      "_model_module": "@jupyter-widgets/controls",
      "_model_module_version": "1.5.0",
      "_model_name": "HBoxModel",
      "_view_count": null,
      "_view_module": "@jupyter-widgets/controls",
      "_view_module_version": "1.5.0",
      "_view_name": "HBoxView",
      "box_style": "",
      "children": [
       "IPY_MODEL_779559c163d640d89a90a06dae25b950",
       "IPY_MODEL_6b2f32433a1b4baeabf29d702d83f2f1",
       "IPY_MODEL_6e665488c12b40498138eee75789f5cc"
      ],
      "layout": "IPY_MODEL_d37b66e795e64c39b4f52b996750894b"
     }
    },
    "89644da099a54034a24b201ba88d8e44": {
     "model_module": "@jupyter-widgets/base",
     "model_module_version": "1.2.0",
     "model_name": "LayoutModel",
     "state": {
      "_model_module": "@jupyter-widgets/base",
      "_model_module_version": "1.2.0",
      "_model_name": "LayoutModel",
      "_view_count": null,
      "_view_module": "@jupyter-widgets/base",
      "_view_module_version": "1.2.0",
      "_view_name": "LayoutView",
      "align_content": null,
      "align_items": null,
      "align_self": null,
      "border": null,
      "bottom": null,
      "display": null,
      "flex": null,
      "flex_flow": null,
      "grid_area": null,
      "grid_auto_columns": null,
      "grid_auto_flow": null,
      "grid_auto_rows": null,
      "grid_column": null,
      "grid_gap": null,
      "grid_row": null,
      "grid_template_areas": null,
      "grid_template_columns": null,
      "grid_template_rows": null,
      "height": null,
      "justify_content": null,
      "justify_items": null,
      "left": null,
      "margin": null,
      "max_height": null,
      "max_width": null,
      "min_height": null,
      "min_width": null,
      "object_fit": null,
      "object_position": null,
      "order": null,
      "overflow": null,
      "overflow_x": null,
      "overflow_y": null,
      "padding": null,
      "right": null,
      "top": null,
      "visibility": null,
      "width": null
     }
    },
    "8a5b796470ad4eed8c5f6de1311ceee3": {
     "model_module": "@jupyter-widgets/base",
     "model_module_version": "1.2.0",
     "model_name": "LayoutModel",
     "state": {
      "_model_module": "@jupyter-widgets/base",
      "_model_module_version": "1.2.0",
      "_model_name": "LayoutModel",
      "_view_count": null,
      "_view_module": "@jupyter-widgets/base",
      "_view_module_version": "1.2.0",
      "_view_name": "LayoutView",
      "align_content": null,
      "align_items": null,
      "align_self": null,
      "border": null,
      "bottom": null,
      "display": null,
      "flex": null,
      "flex_flow": null,
      "grid_area": null,
      "grid_auto_columns": null,
      "grid_auto_flow": null,
      "grid_auto_rows": null,
      "grid_column": null,
      "grid_gap": null,
      "grid_row": null,
      "grid_template_areas": null,
      "grid_template_columns": null,
      "grid_template_rows": null,
      "height": null,
      "justify_content": null,
      "justify_items": null,
      "left": null,
      "margin": null,
      "max_height": null,
      "max_width": null,
      "min_height": null,
      "min_width": null,
      "object_fit": null,
      "object_position": null,
      "order": null,
      "overflow": null,
      "overflow_x": null,
      "overflow_y": null,
      "padding": null,
      "right": null,
      "top": null,
      "visibility": null,
      "width": null
     }
    },
    "8c0267d6e67f42728543a11dfaf80abb": {
     "model_module": "@jupyter-widgets/controls",
     "model_module_version": "1.5.0",
     "model_name": "DescriptionStyleModel",
     "state": {
      "_model_module": "@jupyter-widgets/controls",
      "_model_module_version": "1.5.0",
      "_model_name": "DescriptionStyleModel",
      "_view_count": null,
      "_view_module": "@jupyter-widgets/base",
      "_view_module_version": "1.2.0",
      "_view_name": "StyleView",
      "description_width": ""
     }
    },
    "8c429140ca584dd3839b1f98ad9f950a": {
     "model_module": "@jupyter-widgets/base",
     "model_module_version": "1.2.0",
     "model_name": "LayoutModel",
     "state": {
      "_model_module": "@jupyter-widgets/base",
      "_model_module_version": "1.2.0",
      "_model_name": "LayoutModel",
      "_view_count": null,
      "_view_module": "@jupyter-widgets/base",
      "_view_module_version": "1.2.0",
      "_view_name": "LayoutView",
      "align_content": null,
      "align_items": null,
      "align_self": null,
      "border": null,
      "bottom": null,
      "display": null,
      "flex": null,
      "flex_flow": null,
      "grid_area": null,
      "grid_auto_columns": null,
      "grid_auto_flow": null,
      "grid_auto_rows": null,
      "grid_column": null,
      "grid_gap": null,
      "grid_row": null,
      "grid_template_areas": null,
      "grid_template_columns": null,
      "grid_template_rows": null,
      "height": null,
      "justify_content": null,
      "justify_items": null,
      "left": null,
      "margin": null,
      "max_height": null,
      "max_width": null,
      "min_height": null,
      "min_width": null,
      "object_fit": null,
      "object_position": null,
      "order": null,
      "overflow": null,
      "overflow_x": null,
      "overflow_y": null,
      "padding": null,
      "right": null,
      "top": null,
      "visibility": null,
      "width": null
     }
    },
    "8dd29f33bdd64031866666e54218595a": {
     "model_module": "@jupyter-widgets/controls",
     "model_module_version": "1.5.0",
     "model_name": "ProgressStyleModel",
     "state": {
      "_model_module": "@jupyter-widgets/controls",
      "_model_module_version": "1.5.0",
      "_model_name": "ProgressStyleModel",
      "_view_count": null,
      "_view_module": "@jupyter-widgets/base",
      "_view_module_version": "1.2.0",
      "_view_name": "StyleView",
      "bar_color": null,
      "description_width": ""
     }
    },
    "8fcfefae8cc745ac83f53713b7339c2b": {
     "model_module": "@jupyter-widgets/base",
     "model_module_version": "1.2.0",
     "model_name": "LayoutModel",
     "state": {
      "_model_module": "@jupyter-widgets/base",
      "_model_module_version": "1.2.0",
      "_model_name": "LayoutModel",
      "_view_count": null,
      "_view_module": "@jupyter-widgets/base",
      "_view_module_version": "1.2.0",
      "_view_name": "LayoutView",
      "align_content": null,
      "align_items": null,
      "align_self": null,
      "border": null,
      "bottom": null,
      "display": null,
      "flex": null,
      "flex_flow": null,
      "grid_area": null,
      "grid_auto_columns": null,
      "grid_auto_flow": null,
      "grid_auto_rows": null,
      "grid_column": null,
      "grid_gap": null,
      "grid_row": null,
      "grid_template_areas": null,
      "grid_template_columns": null,
      "grid_template_rows": null,
      "height": null,
      "justify_content": null,
      "justify_items": null,
      "left": null,
      "margin": null,
      "max_height": null,
      "max_width": null,
      "min_height": null,
      "min_width": null,
      "object_fit": null,
      "object_position": null,
      "order": null,
      "overflow": null,
      "overflow_x": null,
      "overflow_y": null,
      "padding": null,
      "right": null,
      "top": null,
      "visibility": null,
      "width": null
     }
    },
    "917b28f492484795a0f5795ce57e3c1b": {
     "model_module": "@jupyter-widgets/controls",
     "model_module_version": "1.5.0",
     "model_name": "DescriptionStyleModel",
     "state": {
      "_model_module": "@jupyter-widgets/controls",
      "_model_module_version": "1.5.0",
      "_model_name": "DescriptionStyleModel",
      "_view_count": null,
      "_view_module": "@jupyter-widgets/base",
      "_view_module_version": "1.2.0",
      "_view_name": "StyleView",
      "description_width": ""
     }
    },
    "93180920bc8248b7a56510e10b864750": {
     "model_module": "@jupyter-widgets/controls",
     "model_module_version": "1.5.0",
     "model_name": "HTMLModel",
     "state": {
      "_dom_classes": [],
      "_model_module": "@jupyter-widgets/controls",
      "_model_module_version": "1.5.0",
      "_model_name": "HTMLModel",
      "_view_count": null,
      "_view_module": "@jupyter-widgets/controls",
      "_view_module_version": "1.5.0",
      "_view_name": "HTMLView",
      "description": "",
      "description_tooltip": null,
      "layout": "IPY_MODEL_fbc759c881774f34895e4daaf2f937e2",
      "placeholder": "​",
      "style": "IPY_MODEL_4be04260b6724607989977a5428444ba",
      "value": "Downloading builder script: 100%"
     }
    },
    "95e3babf17764284aa6ab7e171a208ba": {
     "model_module": "@jupyter-widgets/base",
     "model_module_version": "1.2.0",
     "model_name": "LayoutModel",
     "state": {
      "_model_module": "@jupyter-widgets/base",
      "_model_module_version": "1.2.0",
      "_model_name": "LayoutModel",
      "_view_count": null,
      "_view_module": "@jupyter-widgets/base",
      "_view_module_version": "1.2.0",
      "_view_name": "LayoutView",
      "align_content": null,
      "align_items": null,
      "align_self": null,
      "border": null,
      "bottom": null,
      "display": null,
      "flex": null,
      "flex_flow": null,
      "grid_area": null,
      "grid_auto_columns": null,
      "grid_auto_flow": null,
      "grid_auto_rows": null,
      "grid_column": null,
      "grid_gap": null,
      "grid_row": null,
      "grid_template_areas": null,
      "grid_template_columns": null,
      "grid_template_rows": null,
      "height": null,
      "justify_content": null,
      "justify_items": null,
      "left": null,
      "margin": null,
      "max_height": null,
      "max_width": null,
      "min_height": null,
      "min_width": null,
      "object_fit": null,
      "object_position": null,
      "order": null,
      "overflow": null,
      "overflow_x": null,
      "overflow_y": null,
      "padding": null,
      "right": null,
      "top": null,
      "visibility": null,
      "width": null
     }
    },
    "97cfb35803ce4d6d99707d0b99419195": {
     "model_module": "@jupyter-widgets/controls",
     "model_module_version": "1.5.0",
     "model_name": "DescriptionStyleModel",
     "state": {
      "_model_module": "@jupyter-widgets/controls",
      "_model_module_version": "1.5.0",
      "_model_name": "DescriptionStyleModel",
      "_view_count": null,
      "_view_module": "@jupyter-widgets/base",
      "_view_module_version": "1.2.0",
      "_view_name": "StyleView",
      "description_width": ""
     }
    },
    "9b45925fbc314223a3659c2cf0390b8d": {
     "model_module": "@jupyter-widgets/controls",
     "model_module_version": "1.5.0",
     "model_name": "FloatProgressModel",
     "state": {
      "_dom_classes": [],
      "_model_module": "@jupyter-widgets/controls",
      "_model_module_version": "1.5.0",
      "_model_name": "FloatProgressModel",
      "_view_count": null,
      "_view_module": "@jupyter-widgets/controls",
      "_view_module_version": "1.5.0",
      "_view_name": "ProgressView",
      "bar_style": "success",
      "description": "",
      "description_tooltip": null,
      "layout": "IPY_MODEL_9c4f38a4d95341a3b4706e70c52bd8c2",
      "max": 482037,
      "min": 0,
      "orientation": "horizontal",
      "style": "IPY_MODEL_87943b02a2a940458e0ea0b67b2a2db4",
      "value": 482037
     }
    },
    "9c4f38a4d95341a3b4706e70c52bd8c2": {
     "model_module": "@jupyter-widgets/base",
     "model_module_version": "1.2.0",
     "model_name": "LayoutModel",
     "state": {
      "_model_module": "@jupyter-widgets/base",
      "_model_module_version": "1.2.0",
      "_model_name": "LayoutModel",
      "_view_count": null,
      "_view_module": "@jupyter-widgets/base",
      "_view_module_version": "1.2.0",
      "_view_name": "LayoutView",
      "align_content": null,
      "align_items": null,
      "align_self": null,
      "border": null,
      "bottom": null,
      "display": null,
      "flex": null,
      "flex_flow": null,
      "grid_area": null,
      "grid_auto_columns": null,
      "grid_auto_flow": null,
      "grid_auto_rows": null,
      "grid_column": null,
      "grid_gap": null,
      "grid_row": null,
      "grid_template_areas": null,
      "grid_template_columns": null,
      "grid_template_rows": null,
      "height": null,
      "justify_content": null,
      "justify_items": null,
      "left": null,
      "margin": null,
      "max_height": null,
      "max_width": null,
      "min_height": null,
      "min_width": null,
      "object_fit": null,
      "object_position": null,
      "order": null,
      "overflow": null,
      "overflow_x": null,
      "overflow_y": null,
      "padding": null,
      "right": null,
      "top": null,
      "visibility": null,
      "width": null
     }
    },
    "a5c1d851df8b412e8db13fc7f229f80b": {
     "model_module": "@jupyter-widgets/controls",
     "model_module_version": "1.5.0",
     "model_name": "DescriptionStyleModel",
     "state": {
      "_model_module": "@jupyter-widgets/controls",
      "_model_module_version": "1.5.0",
      "_model_name": "DescriptionStyleModel",
      "_view_count": null,
      "_view_module": "@jupyter-widgets/base",
      "_view_module_version": "1.2.0",
      "_view_name": "StyleView",
      "description_width": ""
     }
    },
    "aa9522db7c454638bc1983e196c78f6b": {
     "model_module": "@jupyter-widgets/base",
     "model_module_version": "1.2.0",
     "model_name": "LayoutModel",
     "state": {
      "_model_module": "@jupyter-widgets/base",
      "_model_module_version": "1.2.0",
      "_model_name": "LayoutModel",
      "_view_count": null,
      "_view_module": "@jupyter-widgets/base",
      "_view_module_version": "1.2.0",
      "_view_name": "LayoutView",
      "align_content": null,
      "align_items": null,
      "align_self": null,
      "border": null,
      "bottom": null,
      "display": null,
      "flex": null,
      "flex_flow": null,
      "grid_area": null,
      "grid_auto_columns": null,
      "grid_auto_flow": null,
      "grid_auto_rows": null,
      "grid_column": null,
      "grid_gap": null,
      "grid_row": null,
      "grid_template_areas": null,
      "grid_template_columns": null,
      "grid_template_rows": null,
      "height": null,
      "justify_content": null,
      "justify_items": null,
      "left": null,
      "margin": null,
      "max_height": null,
      "max_width": null,
      "min_height": null,
      "min_width": null,
      "object_fit": null,
      "object_position": null,
      "order": null,
      "overflow": null,
      "overflow_x": null,
      "overflow_y": null,
      "padding": null,
      "right": null,
      "top": null,
      "visibility": null,
      "width": null
     }
    },
    "aaada3ebf0bd4fa59919938324aa92eb": {
     "model_module": "@jupyter-widgets/controls",
     "model_module_version": "1.5.0",
     "model_name": "FloatProgressModel",
     "state": {
      "_dom_classes": [],
      "_model_module": "@jupyter-widgets/controls",
      "_model_module_version": "1.5.0",
      "_model_name": "FloatProgressModel",
      "_view_count": null,
      "_view_module": "@jupyter-widgets/controls",
      "_view_module_version": "1.5.0",
      "_view_name": "ProgressView",
      "bar_style": "success",
      "description": "",
      "description_tooltip": null,
      "layout": "IPY_MODEL_89644da099a54034a24b201ba88d8e44",
      "max": 14577157,
      "min": 0,
      "orientation": "horizontal",
      "style": "IPY_MODEL_470d33c349164319b58748a53d75abf2",
      "value": 14577157
     }
    },
    "aab1c0b9db7d4166bd09422d52a07818": {
     "model_module": "@jupyter-widgets/controls",
     "model_module_version": "1.5.0",
     "model_name": "HBoxModel",
     "state": {
      "_dom_classes": [],
      "_model_module": "@jupyter-widgets/controls",
      "_model_module_version": "1.5.0",
      "_model_name": "HBoxModel",
      "_view_count": null,
      "_view_module": "@jupyter-widgets/controls",
      "_view_module_version": "1.5.0",
      "_view_name": "HBoxView",
      "box_style": "",
      "children": [
       "IPY_MODEL_3dbb99f4827d40ae856b1d79226d8326",
       "IPY_MODEL_ba8bb72fe36e4314806d07c69351d49e",
       "IPY_MODEL_1ecd50ea640447aabd44aab4fcbe618e"
      ],
      "layout": "IPY_MODEL_b04c0e0b3c6c44cab1189d68ca4c3a1d"
     }
    },
    "ab101b220766448482e7803161496b71": {
     "model_module": "@jupyter-widgets/base",
     "model_module_version": "1.2.0",
     "model_name": "LayoutModel",
     "state": {
      "_model_module": "@jupyter-widgets/base",
      "_model_module_version": "1.2.0",
      "_model_name": "LayoutModel",
      "_view_count": null,
      "_view_module": "@jupyter-widgets/base",
      "_view_module_version": "1.2.0",
      "_view_name": "LayoutView",
      "align_content": null,
      "align_items": null,
      "align_self": null,
      "border": null,
      "bottom": null,
      "display": null,
      "flex": null,
      "flex_flow": null,
      "grid_area": null,
      "grid_auto_columns": null,
      "grid_auto_flow": null,
      "grid_auto_rows": null,
      "grid_column": null,
      "grid_gap": null,
      "grid_row": null,
      "grid_template_areas": null,
      "grid_template_columns": null,
      "grid_template_rows": null,
      "height": null,
      "justify_content": null,
      "justify_items": null,
      "left": null,
      "margin": null,
      "max_height": null,
      "max_width": null,
      "min_height": null,
      "min_width": null,
      "object_fit": null,
      "object_position": null,
      "order": null,
      "overflow": null,
      "overflow_x": null,
      "overflow_y": null,
      "padding": null,
      "right": null,
      "top": null,
      "visibility": null,
      "width": null
     }
    },
    "abc5cda1b74f454ba6fa46c3ed379c03": {
     "model_module": "@jupyter-widgets/base",
     "model_module_version": "1.2.0",
     "model_name": "LayoutModel",
     "state": {
      "_model_module": "@jupyter-widgets/base",
      "_model_module_version": "1.2.0",
      "_model_name": "LayoutModel",
      "_view_count": null,
      "_view_module": "@jupyter-widgets/base",
      "_view_module_version": "1.2.0",
      "_view_name": "LayoutView",
      "align_content": null,
      "align_items": null,
      "align_self": null,
      "border": null,
      "bottom": null,
      "display": null,
      "flex": null,
      "flex_flow": null,
      "grid_area": null,
      "grid_auto_columns": null,
      "grid_auto_flow": null,
      "grid_auto_rows": null,
      "grid_column": null,
      "grid_gap": null,
      "grid_row": null,
      "grid_template_areas": null,
      "grid_template_columns": null,
      "grid_template_rows": null,
      "height": null,
      "justify_content": null,
      "justify_items": null,
      "left": null,
      "margin": null,
      "max_height": null,
      "max_width": null,
      "min_height": null,
      "min_width": null,
      "object_fit": null,
      "object_position": null,
      "order": null,
      "overflow": null,
      "overflow_x": null,
      "overflow_y": null,
      "padding": null,
      "right": null,
      "top": null,
      "visibility": null,
      "width": null
     }
    },
    "ae692797763d4cbdaf1011fa2d3e36b7": {
     "model_module": "@jupyter-widgets/controls",
     "model_module_version": "1.5.0",
     "model_name": "HTMLModel",
     "state": {
      "_dom_classes": [],
      "_model_module": "@jupyter-widgets/controls",
      "_model_module_version": "1.5.0",
      "_model_name": "HTMLModel",
      "_view_count": null,
      "_view_module": "@jupyter-widgets/controls",
      "_view_module_version": "1.5.0",
      "_view_name": "HTMLView",
      "description": "",
      "description_tooltip": null,
      "layout": "IPY_MODEL_fdf4d5d6001b414e8784b46b3d79d70a",
      "placeholder": "​",
      "style": "IPY_MODEL_7a19feba813a41a8869bf9299565008b",
      "value": "Downloading data: 100%"
     }
    },
    "b04c0e0b3c6c44cab1189d68ca4c3a1d": {
     "model_module": "@jupyter-widgets/base",
     "model_module_version": "1.2.0",
     "model_name": "LayoutModel",
     "state": {
      "_model_module": "@jupyter-widgets/base",
      "_model_module_version": "1.2.0",
      "_model_name": "LayoutModel",
      "_view_count": null,
      "_view_module": "@jupyter-widgets/base",
      "_view_module_version": "1.2.0",
      "_view_name": "LayoutView",
      "align_content": null,
      "align_items": null,
      "align_self": null,
      "border": null,
      "bottom": null,
      "display": null,
      "flex": null,
      "flex_flow": null,
      "grid_area": null,
      "grid_auto_columns": null,
      "grid_auto_flow": null,
      "grid_auto_rows": null,
      "grid_column": null,
      "grid_gap": null,
      "grid_row": null,
      "grid_template_areas": null,
      "grid_template_columns": null,
      "grid_template_rows": null,
      "height": null,
      "justify_content": null,
      "justify_items": null,
      "left": null,
      "margin": null,
      "max_height": null,
      "max_width": null,
      "min_height": null,
      "min_width": null,
      "object_fit": null,
      "object_position": null,
      "order": null,
      "overflow": null,
      "overflow_x": null,
      "overflow_y": null,
      "padding": null,
      "right": null,
      "top": null,
      "visibility": null,
      "width": null
     }
    },
    "b17bc1ff53a140169e653e5335dd711c": {
     "model_module": "@jupyter-widgets/controls",
     "model_module_version": "1.5.0",
     "model_name": "DescriptionStyleModel",
     "state": {
      "_model_module": "@jupyter-widgets/controls",
      "_model_module_version": "1.5.0",
      "_model_name": "DescriptionStyleModel",
      "_view_count": null,
      "_view_module": "@jupyter-widgets/base",
      "_view_module_version": "1.2.0",
      "_view_name": "StyleView",
      "description_width": ""
     }
    },
    "b42b6c12362e46be90f68c9abb7592c1": {
     "model_module": "@jupyter-widgets/controls",
     "model_module_version": "1.5.0",
     "model_name": "HTMLModel",
     "state": {
      "_dom_classes": [],
      "_model_module": "@jupyter-widgets/controls",
      "_model_module_version": "1.5.0",
      "_model_name": "HTMLModel",
      "_view_count": null,
      "_view_module": "@jupyter-widgets/controls",
      "_view_module_version": "1.5.0",
      "_view_name": "HTMLView",
      "description": "",
      "description_tooltip": null,
      "layout": "IPY_MODEL_ab101b220766448482e7803161496b71",
      "placeholder": "​",
      "style": "IPY_MODEL_c431b36e39384f71bd4eeb70dfef8f16",
      "value": "Saving the dataset (1/1 shards): 100%"
     }
    },
    "b5d26c385f7746d2b8acd24742f801b7": {
     "model_module": "@jupyter-widgets/controls",
     "model_module_version": "1.5.0",
     "model_name": "HTMLModel",
     "state": {
      "_dom_classes": [],
      "_model_module": "@jupyter-widgets/controls",
      "_model_module_version": "1.5.0",
      "_model_name": "HTMLModel",
      "_view_count": null,
      "_view_module": "@jupyter-widgets/controls",
      "_view_module_version": "1.5.0",
      "_view_name": "HTMLView",
      "description": "",
      "description_tooltip": null,
      "layout": "IPY_MODEL_398ec1a6c814452c841d35a40b581d6d",
      "placeholder": "​",
      "style": "IPY_MODEL_6012c6f2b3bd40f6ae997b3a5ea9d92a",
      "value": " 958765/958765 [00:11&lt;00:00, 62277.32it/s]"
     }
    },
    "ba8bb72fe36e4314806d07c69351d49e": {
     "model_module": "@jupyter-widgets/controls",
     "model_module_version": "1.5.0",
     "model_name": "FloatProgressModel",
     "state": {
      "_dom_classes": [],
      "_model_module": "@jupyter-widgets/controls",
      "_model_module_version": "1.5.0",
      "_model_name": "FloatProgressModel",
      "_view_count": null,
      "_view_module": "@jupyter-widgets/controls",
      "_view_module_version": "1.5.0",
      "_view_name": "ProgressView",
      "bar_style": "success",
      "description": "",
      "description_tooltip": null,
      "layout": "IPY_MODEL_d4b30d29ae7d494884974e43e16610cd",
      "max": 1,
      "min": 0,
      "orientation": "horizontal",
      "style": "IPY_MODEL_5364b16085934737a17f4421e12f30e6",
      "value": 1
     }
    },
    "bbcdd707d64d432595c17b7caadfd4f5": {
     "model_module": "@jupyter-widgets/controls",
     "model_module_version": "1.5.0",
     "model_name": "FloatProgressModel",
     "state": {
      "_dom_classes": [],
      "_model_module": "@jupyter-widgets/controls",
      "_model_module_version": "1.5.0",
      "_model_name": "FloatProgressModel",
      "_view_count": null,
      "_view_module": "@jupyter-widgets/controls",
      "_view_module_version": "1.5.0",
      "_view_name": "ProgressView",
      "bar_style": "success",
      "description": "",
      "description_tooltip": null,
      "layout": "IPY_MODEL_c1f6e07b52b04e2aa0a057d52b2612a2",
      "max": 300,
      "min": 0,
      "orientation": "horizontal",
      "style": "IPY_MODEL_e1dd72c5deaa43519eda07a8fe5a023b",
      "value": 300
     }
    },
    "be629f53280b4b4e84b3b1eba8db1722": {
     "model_module": "@jupyter-widgets/controls",
     "model_module_version": "1.5.0",
     "model_name": "HTMLModel",
     "state": {
      "_dom_classes": [],
      "_model_module": "@jupyter-widgets/controls",
      "_model_module_version": "1.5.0",
      "_model_name": "HTMLModel",
      "_view_count": null,
      "_view_module": "@jupyter-widgets/controls",
      "_view_module_version": "1.5.0",
      "_view_name": "HTMLView",
      "description": "",
      "description_tooltip": null,
      "layout": "IPY_MODEL_61339e50d42645319b174b45d309bbb6",
      "placeholder": "​",
      "style": "IPY_MODEL_3c12867c755b42978ff9f4eab7ad70c5",
      "value": " 11.6k/11.6k [00:00&lt;00:00, 262kB/s]"
     }
    },
    "c0346013d092472cb443ff76fa8518d6": {
     "model_module": "@jupyter-widgets/controls",
     "model_module_version": "1.5.0",
     "model_name": "DescriptionStyleModel",
     "state": {
      "_model_module": "@jupyter-widgets/controls",
      "_model_module_version": "1.5.0",
      "_model_name": "DescriptionStyleModel",
      "_view_count": null,
      "_view_module": "@jupyter-widgets/base",
      "_view_module_version": "1.2.0",
      "_view_name": "StyleView",
      "description_width": ""
     }
    },
    "c1e602f5f879428587cabbcb1bbcd34b": {
     "model_module": "@jupyter-widgets/controls",
     "model_module_version": "1.5.0",
     "model_name": "HBoxModel",
     "state": {
      "_dom_classes": [],
      "_model_module": "@jupyter-widgets/controls",
      "_model_module_version": "1.5.0",
      "_model_name": "HBoxModel",
      "_view_count": null,
      "_view_module": "@jupyter-widgets/controls",
      "_view_module_version": "1.5.0",
      "_view_name": "HBoxView",
      "box_style": "",
      "children": [
       "IPY_MODEL_72d130dcb0114112a0779bd316447c93",
       "IPY_MODEL_e6d08525310b4821999d92058831c37b",
       "IPY_MODEL_b5d26c385f7746d2b8acd24742f801b7"
      ],
      "layout": "IPY_MODEL_dc37e19d2890431a986f38e12fd13507"
     }
    },
    "c1f6e07b52b04e2aa0a057d52b2612a2": {
     "model_module": "@jupyter-widgets/base",
     "model_module_version": "1.2.0",
     "model_name": "LayoutModel",
     "state": {
      "_model_module": "@jupyter-widgets/base",
      "_model_module_version": "1.2.0",
      "_model_name": "LayoutModel",
      "_view_count": null,
      "_view_module": "@jupyter-widgets/base",
      "_view_module_version": "1.2.0",
      "_view_name": "LayoutView",
      "align_content": null,
      "align_items": null,
      "align_self": null,
      "border": null,
      "bottom": null,
      "display": null,
      "flex": null,
      "flex_flow": null,
      "grid_area": null,
      "grid_auto_columns": null,
      "grid_auto_flow": null,
      "grid_auto_rows": null,
      "grid_column": null,
      "grid_gap": null,
      "grid_row": null,
      "grid_template_areas": null,
      "grid_template_columns": null,
      "grid_template_rows": null,
      "height": null,
      "justify_content": null,
      "justify_items": null,
      "left": null,
      "margin": null,
      "max_height": null,
      "max_width": null,
      "min_height": null,
      "min_width": null,
      "object_fit": null,
      "object_position": null,
      "order": null,
      "overflow": null,
      "overflow_x": null,
      "overflow_y": null,
      "padding": null,
      "right": null,
      "top": null,
      "visibility": null,
      "width": null
     }
    },
    "c431b36e39384f71bd4eeb70dfef8f16": {
     "model_module": "@jupyter-widgets/controls",
     "model_module_version": "1.5.0",
     "model_name": "DescriptionStyleModel",
     "state": {
      "_model_module": "@jupyter-widgets/controls",
      "_model_module_version": "1.5.0",
      "_model_name": "DescriptionStyleModel",
      "_view_count": null,
      "_view_module": "@jupyter-widgets/base",
      "_view_module_version": "1.2.0",
      "_view_name": "StyleView",
      "description_width": ""
     }
    },
    "c5e2cc8a06014bb883a19fc34b5782fa": {
     "model_module": "@jupyter-widgets/controls",
     "model_module_version": "1.5.0",
     "model_name": "HTMLModel",
     "state": {
      "_dom_classes": [],
      "_model_module": "@jupyter-widgets/controls",
      "_model_module_version": "1.5.0",
      "_model_name": "HTMLModel",
      "_view_count": null,
      "_view_module": "@jupyter-widgets/controls",
      "_view_module_version": "1.5.0",
      "_view_name": "HTMLView",
      "description": "",
      "description_tooltip": null,
      "layout": "IPY_MODEL_eb3ef7c1572646399e6d5ecc99132e28",
      "placeholder": "​",
      "style": "IPY_MODEL_a5c1d851df8b412e8db13fc7f229f80b",
      "value": "100%"
     }
    },
    "c5f9316e5b994d4da54e5768e25489b7": {
     "model_module": "@jupyter-widgets/controls",
     "model_module_version": "1.5.0",
     "model_name": "HBoxModel",
     "state": {
      "_dom_classes": [],
      "_model_module": "@jupyter-widgets/controls",
      "_model_module_version": "1.5.0",
      "_model_name": "HBoxModel",
      "_view_count": null,
      "_view_module": "@jupyter-widgets/controls",
      "_view_module_version": "1.5.0",
      "_view_name": "HBoxView",
      "box_style": "",
      "children": [
       "IPY_MODEL_d8930a2cbe41457996de4f83fe3130c7",
       "IPY_MODEL_d6262064e67f4531b3698b247da2bffb",
       "IPY_MODEL_5ecc1ffc45964085846d874c3d1137f6"
      ],
      "layout": "IPY_MODEL_2259af2d840e46a093f6914da48f76cc"
     }
    },
    "c978d004a95a447d946e705e4bd96114": {
     "model_module": "@jupyter-widgets/controls",
     "model_module_version": "1.5.0",
     "model_name": "HBoxModel",
     "state": {
      "_dom_classes": [],
      "_model_module": "@jupyter-widgets/controls",
      "_model_module_version": "1.5.0",
      "_model_name": "HBoxModel",
      "_view_count": null,
      "_view_module": "@jupyter-widgets/controls",
      "_view_module_version": "1.5.0",
      "_view_name": "HBoxView",
      "box_style": "",
      "children": [
       "IPY_MODEL_93180920bc8248b7a56510e10b864750",
       "IPY_MODEL_dd87457a52174de4983e93b100e4ebcc",
       "IPY_MODEL_be629f53280b4b4e84b3b1eba8db1722"
      ],
      "layout": "IPY_MODEL_8fcfefae8cc745ac83f53713b7339c2b"
     }
    },
    "cefc6b9049944f42a951be0550d57e30": {
     "model_module": "@jupyter-widgets/controls",
     "model_module_version": "1.5.0",
     "model_name": "HTMLModel",
     "state": {
      "_dom_classes": [],
      "_model_module": "@jupyter-widgets/controls",
      "_model_module_version": "1.5.0",
      "_model_name": "HTMLModel",
      "_view_count": null,
      "_view_module": "@jupyter-widgets/controls",
      "_view_module_version": "1.5.0",
      "_view_name": "HTMLView",
      "description": "",
      "description_tooltip": null,
      "layout": "IPY_MODEL_029c71e6465947e899794bd0da7457b4",
      "placeholder": "​",
      "style": "IPY_MODEL_43fde1d6b41e4953ae8f3eac0c760ff1",
      "value": "Saving the dataset (1/1 shards): 100%"
     }
    },
    "d15d51e7ad3c41c6a8368857678d0a82": {
     "model_module": "@jupyter-widgets/controls",
     "model_module_version": "1.5.0",
     "model_name": "HTMLModel",
     "state": {
      "_dom_classes": [],
      "_model_module": "@jupyter-widgets/controls",
      "_model_module_version": "1.5.0",
      "_model_name": "HTMLModel",
      "_view_count": null,
      "_view_module": "@jupyter-widgets/controls",
      "_view_module_version": "1.5.0",
      "_view_name": "HTMLView",
      "description": "",
      "description_tooltip": null,
      "layout": "IPY_MODEL_6ca7e5e6df0d4610b6e0f180aa71d690",
      "placeholder": "​",
      "style": "IPY_MODEL_e1aee95695e742e2bcf14b62c4005ec2",
      "value": " 18824/0 [00:05&lt;00:00, 4228.36 examples/s]"
     }
    },
    "d15e8ca6f51145d7ab462ef0f5966ed9": {
     "model_module": "@jupyter-widgets/base",
     "model_module_version": "1.2.0",
     "model_name": "LayoutModel",
     "state": {
      "_model_module": "@jupyter-widgets/base",
      "_model_module_version": "1.2.0",
      "_model_name": "LayoutModel",
      "_view_count": null,
      "_view_module": "@jupyter-widgets/base",
      "_view_module_version": "1.2.0",
      "_view_name": "LayoutView",
      "align_content": null,
      "align_items": null,
      "align_self": null,
      "border": null,
      "bottom": null,
      "display": null,
      "flex": null,
      "flex_flow": null,
      "grid_area": null,
      "grid_auto_columns": null,
      "grid_auto_flow": null,
      "grid_auto_rows": null,
      "grid_column": null,
      "grid_gap": null,
      "grid_row": null,
      "grid_template_areas": null,
      "grid_template_columns": null,
      "grid_template_rows": null,
      "height": null,
      "justify_content": null,
      "justify_items": null,
      "left": null,
      "margin": null,
      "max_height": null,
      "max_width": null,
      "min_height": null,
      "min_width": null,
      "object_fit": null,
      "object_position": null,
      "order": null,
      "overflow": null,
      "overflow_x": null,
      "overflow_y": null,
      "padding": null,
      "right": null,
      "top": null,
      "visibility": null,
      "width": null
     }
    },
    "d37b66e795e64c39b4f52b996750894b": {
     "model_module": "@jupyter-widgets/base",
     "model_module_version": "1.2.0",
     "model_name": "LayoutModel",
     "state": {
      "_model_module": "@jupyter-widgets/base",
      "_model_module_version": "1.2.0",
      "_model_name": "LayoutModel",
      "_view_count": null,
      "_view_module": "@jupyter-widgets/base",
      "_view_module_version": "1.2.0",
      "_view_name": "LayoutView",
      "align_content": null,
      "align_items": null,
      "align_self": null,
      "border": null,
      "bottom": null,
      "display": null,
      "flex": null,
      "flex_flow": null,
      "grid_area": null,
      "grid_auto_columns": null,
      "grid_auto_flow": null,
      "grid_auto_rows": null,
      "grid_column": null,
      "grid_gap": null,
      "grid_row": null,
      "grid_template_areas": null,
      "grid_template_columns": null,
      "grid_template_rows": null,
      "height": null,
      "justify_content": null,
      "justify_items": null,
      "left": null,
      "margin": null,
      "max_height": null,
      "max_width": null,
      "min_height": null,
      "min_width": null,
      "object_fit": null,
      "object_position": null,
      "order": null,
      "overflow": null,
      "overflow_x": null,
      "overflow_y": null,
      "padding": null,
      "right": null,
      "top": null,
      "visibility": null,
      "width": null
     }
    },
    "d4b30d29ae7d494884974e43e16610cd": {
     "model_module": "@jupyter-widgets/base",
     "model_module_version": "1.2.0",
     "model_name": "LayoutModel",
     "state": {
      "_model_module": "@jupyter-widgets/base",
      "_model_module_version": "1.2.0",
      "_model_name": "LayoutModel",
      "_view_count": null,
      "_view_module": "@jupyter-widgets/base",
      "_view_module_version": "1.2.0",
      "_view_name": "LayoutView",
      "align_content": null,
      "align_items": null,
      "align_self": null,
      "border": null,
      "bottom": null,
      "display": null,
      "flex": null,
      "flex_flow": null,
      "grid_area": null,
      "grid_auto_columns": null,
      "grid_auto_flow": null,
      "grid_auto_rows": null,
      "grid_column": null,
      "grid_gap": null,
      "grid_row": null,
      "grid_template_areas": null,
      "grid_template_columns": null,
      "grid_template_rows": null,
      "height": null,
      "justify_content": null,
      "justify_items": null,
      "left": null,
      "margin": null,
      "max_height": null,
      "max_width": null,
      "min_height": null,
      "min_width": null,
      "object_fit": null,
      "object_position": null,
      "order": null,
      "overflow": null,
      "overflow_x": null,
      "overflow_y": null,
      "padding": null,
      "right": null,
      "top": null,
      "visibility": null,
      "width": "20px"
     }
    },
    "d4f32b7dd98144e88a36f6f3e5d876e6": {
     "model_module": "@jupyter-widgets/controls",
     "model_module_version": "1.5.0",
     "model_name": "ProgressStyleModel",
     "state": {
      "_model_module": "@jupyter-widgets/controls",
      "_model_module_version": "1.5.0",
      "_model_name": "ProgressStyleModel",
      "_view_count": null,
      "_view_module": "@jupyter-widgets/base",
      "_view_module_version": "1.2.0",
      "_view_name": "StyleView",
      "bar_color": null,
      "description_width": ""
     }
    },
    "d6262064e67f4531b3698b247da2bffb": {
     "model_module": "@jupyter-widgets/controls",
     "model_module_version": "1.5.0",
     "model_name": "FloatProgressModel",
     "state": {
      "_dom_classes": [],
      "_model_module": "@jupyter-widgets/controls",
      "_model_module_version": "1.5.0",
      "_model_name": "FloatProgressModel",
      "_view_count": null,
      "_view_module": "@jupyter-widgets/controls",
      "_view_module_version": "1.5.0",
      "_view_name": "ProgressView",
      "bar_style": "success",
      "description": "",
      "description_tooltip": null,
      "layout": "IPY_MODEL_8884ad78a3bd413689bbc3f31c09ad14",
      "max": 7128,
      "min": 0,
      "orientation": "horizontal",
      "style": "IPY_MODEL_791712dd222646c7a049b6ca699bde97",
      "value": 7128
     }
    },
    "d69754f61c224d2a86a6adca4d5c1d03": {
     "model_module": "@jupyter-widgets/base",
     "model_module_version": "1.2.0",
     "model_name": "LayoutModel",
     "state": {
      "_model_module": "@jupyter-widgets/base",
      "_model_module_version": "1.2.0",
      "_model_name": "LayoutModel",
      "_view_count": null,
      "_view_module": "@jupyter-widgets/base",
      "_view_module_version": "1.2.0",
      "_view_name": "LayoutView",
      "align_content": null,
      "align_items": null,
      "align_self": null,
      "border": null,
      "bottom": null,
      "display": null,
      "flex": null,
      "flex_flow": null,
      "grid_area": null,
      "grid_auto_columns": null,
      "grid_auto_flow": null,
      "grid_auto_rows": null,
      "grid_column": null,
      "grid_gap": null,
      "grid_row": null,
      "grid_template_areas": null,
      "grid_template_columns": null,
      "grid_template_rows": null,
      "height": null,
      "justify_content": null,
      "justify_items": null,
      "left": null,
      "margin": null,
      "max_height": null,
      "max_width": null,
      "min_height": null,
      "min_width": null,
      "object_fit": null,
      "object_position": null,
      "order": null,
      "overflow": null,
      "overflow_x": null,
      "overflow_y": null,
      "padding": null,
      "right": null,
      "top": null,
      "visibility": null,
      "width": null
     }
    },
    "d8930a2cbe41457996de4f83fe3130c7": {
     "model_module": "@jupyter-widgets/controls",
     "model_module_version": "1.5.0",
     "model_name": "HTMLModel",
     "state": {
      "_dom_classes": [],
      "_model_module": "@jupyter-widgets/controls",
      "_model_module_version": "1.5.0",
      "_model_name": "HTMLModel",
      "_view_count": null,
      "_view_module": "@jupyter-widgets/controls",
      "_view_module_version": "1.5.0",
      "_view_name": "HTMLView",
      "description": "",
      "description_tooltip": null,
      "layout": "IPY_MODEL_3e45ba195e7949129cd2ca2dc07660fd",
      "placeholder": "​",
      "style": "IPY_MODEL_97cfb35803ce4d6d99707d0b99419195",
      "value": "Downloading readme: 100%"
     }
    },
    "d89c1736efd54d24b420a7a6b5e4513e": {
     "model_module": "@jupyter-widgets/controls",
     "model_module_version": "1.5.0",
     "model_name": "DescriptionStyleModel",
     "state": {
      "_model_module": "@jupyter-widgets/controls",
      "_model_module_version": "1.5.0",
      "_model_name": "DescriptionStyleModel",
      "_view_count": null,
      "_view_module": "@jupyter-widgets/base",
      "_view_module_version": "1.2.0",
      "_view_name": "StyleView",
      "description_width": ""
     }
    },
    "d8bf58266bfc4a4591429ddee49df05a": {
     "model_module": "@jupyter-widgets/base",
     "model_module_version": "1.2.0",
     "model_name": "LayoutModel",
     "state": {
      "_model_module": "@jupyter-widgets/base",
      "_model_module_version": "1.2.0",
      "_model_name": "LayoutModel",
      "_view_count": null,
      "_view_module": "@jupyter-widgets/base",
      "_view_module_version": "1.2.0",
      "_view_name": "LayoutView",
      "align_content": null,
      "align_items": null,
      "align_self": null,
      "border": null,
      "bottom": null,
      "display": null,
      "flex": null,
      "flex_flow": null,
      "grid_area": null,
      "grid_auto_columns": null,
      "grid_auto_flow": null,
      "grid_auto_rows": null,
      "grid_column": null,
      "grid_gap": null,
      "grid_row": null,
      "grid_template_areas": null,
      "grid_template_columns": null,
      "grid_template_rows": null,
      "height": null,
      "justify_content": null,
      "justify_items": null,
      "left": null,
      "margin": null,
      "max_height": null,
      "max_width": null,
      "min_height": null,
      "min_width": null,
      "object_fit": null,
      "object_position": null,
      "order": null,
      "overflow": null,
      "overflow_x": null,
      "overflow_y": null,
      "padding": null,
      "right": null,
      "top": null,
      "visibility": null,
      "width": null
     }
    },
    "d8e3e2ab7ffd42f3aea3f9b5b22fda66": {
     "model_module": "@jupyter-widgets/controls",
     "model_module_version": "1.5.0",
     "model_name": "FloatProgressModel",
     "state": {
      "_dom_classes": [],
      "_model_module": "@jupyter-widgets/controls",
      "_model_module_version": "1.5.0",
      "_model_name": "FloatProgressModel",
      "_view_count": null,
      "_view_module": "@jupyter-widgets/controls",
      "_view_module_version": "1.5.0",
      "_view_name": "ProgressView",
      "bar_style": "success",
      "description": "",
      "description_tooltip": null,
      "layout": "IPY_MODEL_7f3c9e14ec3c44d3b1a15fa28212e820",
      "max": 1,
      "min": 0,
      "orientation": "horizontal",
      "style": "IPY_MODEL_8dd29f33bdd64031866666e54218595a",
      "value": 1
     }
    },
    "dc37e19d2890431a986f38e12fd13507": {
     "model_module": "@jupyter-widgets/base",
     "model_module_version": "1.2.0",
     "model_name": "LayoutModel",
     "state": {
      "_model_module": "@jupyter-widgets/base",
      "_model_module_version": "1.2.0",
      "_model_name": "LayoutModel",
      "_view_count": null,
      "_view_module": "@jupyter-widgets/base",
      "_view_module_version": "1.2.0",
      "_view_name": "LayoutView",
      "align_content": null,
      "align_items": null,
      "align_self": null,
      "border": null,
      "bottom": null,
      "display": null,
      "flex": null,
      "flex_flow": null,
      "grid_area": null,
      "grid_auto_columns": null,
      "grid_auto_flow": null,
      "grid_auto_rows": null,
      "grid_column": null,
      "grid_gap": null,
      "grid_row": null,
      "grid_template_areas": null,
      "grid_template_columns": null,
      "grid_template_rows": null,
      "height": null,
      "justify_content": null,
      "justify_items": null,
      "left": null,
      "margin": null,
      "max_height": null,
      "max_width": null,
      "min_height": null,
      "min_width": null,
      "object_fit": null,
      "object_position": null,
      "order": null,
      "overflow": null,
      "overflow_x": null,
      "overflow_y": null,
      "padding": null,
      "right": null,
      "top": null,
      "visibility": null,
      "width": null
     }
    },
    "dd66fcedd16c41f0acd3a5ca94105264": {
     "model_module": "@jupyter-widgets/base",
     "model_module_version": "1.2.0",
     "model_name": "LayoutModel",
     "state": {
      "_model_module": "@jupyter-widgets/base",
      "_model_module_version": "1.2.0",
      "_model_name": "LayoutModel",
      "_view_count": null,
      "_view_module": "@jupyter-widgets/base",
      "_view_module_version": "1.2.0",
      "_view_name": "LayoutView",
      "align_content": null,
      "align_items": null,
      "align_self": null,
      "border": null,
      "bottom": null,
      "display": null,
      "flex": null,
      "flex_flow": null,
      "grid_area": null,
      "grid_auto_columns": null,
      "grid_auto_flow": null,
      "grid_auto_rows": null,
      "grid_column": null,
      "grid_gap": null,
      "grid_row": null,
      "grid_template_areas": null,
      "grid_template_columns": null,
      "grid_template_rows": null,
      "height": null,
      "justify_content": null,
      "justify_items": null,
      "left": null,
      "margin": null,
      "max_height": null,
      "max_width": null,
      "min_height": null,
      "min_width": null,
      "object_fit": null,
      "object_position": null,
      "order": null,
      "overflow": null,
      "overflow_x": null,
      "overflow_y": null,
      "padding": null,
      "right": null,
      "top": null,
      "visibility": null,
      "width": null
     }
    },
    "dd87457a52174de4983e93b100e4ebcc": {
     "model_module": "@jupyter-widgets/controls",
     "model_module_version": "1.5.0",
     "model_name": "FloatProgressModel",
     "state": {
      "_dom_classes": [],
      "_model_module": "@jupyter-widgets/controls",
      "_model_module_version": "1.5.0",
      "_model_name": "FloatProgressModel",
      "_view_count": null,
      "_view_module": "@jupyter-widgets/controls",
      "_view_module_version": "1.5.0",
      "_view_name": "ProgressView",
      "bar_style": "success",
      "description": "",
      "description_tooltip": null,
      "layout": "IPY_MODEL_285d68155bf44ce38fbedd4eed0f9850",
      "max": 11551,
      "min": 0,
      "orientation": "horizontal",
      "style": "IPY_MODEL_fb1ccf458fc940a49ff1ff797ec06d27",
      "value": 11551
     }
    },
    "de4329a2a78f4bfda71938a09a549c01": {
     "model_module": "@jupyter-widgets/controls",
     "model_module_version": "1.5.0",
     "model_name": "DescriptionStyleModel",
     "state": {
      "_model_module": "@jupyter-widgets/controls",
      "_model_module_version": "1.5.0",
      "_model_name": "DescriptionStyleModel",
      "_view_count": null,
      "_view_module": "@jupyter-widgets/base",
      "_view_module_version": "1.2.0",
      "_view_name": "StyleView",
      "description_width": ""
     }
    },
    "e1aee95695e742e2bcf14b62c4005ec2": {
     "model_module": "@jupyter-widgets/controls",
     "model_module_version": "1.5.0",
     "model_name": "DescriptionStyleModel",
     "state": {
      "_model_module": "@jupyter-widgets/controls",
      "_model_module_version": "1.5.0",
      "_model_name": "DescriptionStyleModel",
      "_view_count": null,
      "_view_module": "@jupyter-widgets/base",
      "_view_module_version": "1.2.0",
      "_view_name": "StyleView",
      "description_width": ""
     }
    },
    "e1dd72c5deaa43519eda07a8fe5a023b": {
     "model_module": "@jupyter-widgets/controls",
     "model_module_version": "1.5.0",
     "model_name": "ProgressStyleModel",
     "state": {
      "_model_module": "@jupyter-widgets/controls",
      "_model_module_version": "1.5.0",
      "_model_name": "ProgressStyleModel",
      "_view_count": null,
      "_view_module": "@jupyter-widgets/base",
      "_view_module_version": "1.2.0",
      "_view_name": "StyleView",
      "bar_color": null,
      "description_width": ""
     }
    },
    "e255c2bce055460bbbb8c3c56882fa6d": {
     "model_module": "@jupyter-widgets/controls",
     "model_module_version": "1.5.0",
     "model_name": "HBoxModel",
     "state": {
      "_dom_classes": [],
      "_model_module": "@jupyter-widgets/controls",
      "_model_module_version": "1.5.0",
      "_model_name": "HBoxModel",
      "_view_count": null,
      "_view_module": "@jupyter-widgets/controls",
      "_view_module_version": "1.5.0",
      "_view_name": "HBoxView",
      "box_style": "",
      "children": [
       "IPY_MODEL_0f756b0337f14c6da2cd7ae047d0402b",
       "IPY_MODEL_3755102872d64c77964d5c48cbfe88d8",
       "IPY_MODEL_7f7347ce44eb4c33bb76bbb2081ac022"
      ],
      "layout": "IPY_MODEL_5d7ab71191534e86b6cdcd12fd6de0bd"
     }
    },
    "e4d71c04d09e4764ba8aac639ce8b912": {
     "model_module": "@jupyter-widgets/base",
     "model_module_version": "1.2.0",
     "model_name": "LayoutModel",
     "state": {
      "_model_module": "@jupyter-widgets/base",
      "_model_module_version": "1.2.0",
      "_model_name": "LayoutModel",
      "_view_count": null,
      "_view_module": "@jupyter-widgets/base",
      "_view_module_version": "1.2.0",
      "_view_name": "LayoutView",
      "align_content": null,
      "align_items": null,
      "align_self": null,
      "border": null,
      "bottom": null,
      "display": null,
      "flex": null,
      "flex_flow": null,
      "grid_area": null,
      "grid_auto_columns": null,
      "grid_auto_flow": null,
      "grid_auto_rows": null,
      "grid_column": null,
      "grid_gap": null,
      "grid_row": null,
      "grid_template_areas": null,
      "grid_template_columns": null,
      "grid_template_rows": null,
      "height": null,
      "justify_content": null,
      "justify_items": null,
      "left": null,
      "margin": null,
      "max_height": null,
      "max_width": null,
      "min_height": null,
      "min_width": null,
      "object_fit": null,
      "object_position": null,
      "order": null,
      "overflow": null,
      "overflow_x": null,
      "overflow_y": null,
      "padding": null,
      "right": null,
      "top": null,
      "visibility": null,
      "width": null
     }
    },
    "e6d08525310b4821999d92058831c37b": {
     "model_module": "@jupyter-widgets/controls",
     "model_module_version": "1.5.0",
     "model_name": "FloatProgressModel",
     "state": {
      "_dom_classes": [],
      "_model_module": "@jupyter-widgets/controls",
      "_model_module_version": "1.5.0",
      "_model_name": "FloatProgressModel",
      "_view_count": null,
      "_view_module": "@jupyter-widgets/controls",
      "_view_module_version": "1.5.0",
      "_view_name": "ProgressView",
      "bar_style": "success",
      "description": "",
      "description_tooltip": null,
      "layout": "IPY_MODEL_3ce06271ec7a4ed1bc843a019b7e7f5a",
      "max": 958765,
      "min": 0,
      "orientation": "horizontal",
      "style": "IPY_MODEL_d4f32b7dd98144e88a36f6f3e5d876e6",
      "value": 958765
     }
    },
    "e80f3b9304354ba28a290921401feaa3": {
     "model_module": "@jupyter-widgets/base",
     "model_module_version": "1.2.0",
     "model_name": "LayoutModel",
     "state": {
      "_model_module": "@jupyter-widgets/base",
      "_model_module_version": "1.2.0",
      "_model_name": "LayoutModel",
      "_view_count": null,
      "_view_module": "@jupyter-widgets/base",
      "_view_module_version": "1.2.0",
      "_view_name": "LayoutView",
      "align_content": null,
      "align_items": null,
      "align_self": null,
      "border": null,
      "bottom": null,
      "display": null,
      "flex": null,
      "flex_flow": null,
      "grid_area": null,
      "grid_auto_columns": null,
      "grid_auto_flow": null,
      "grid_auto_rows": null,
      "grid_column": null,
      "grid_gap": null,
      "grid_row": null,
      "grid_template_areas": null,
      "grid_template_columns": null,
      "grid_template_rows": null,
      "height": null,
      "justify_content": null,
      "justify_items": null,
      "left": null,
      "margin": null,
      "max_height": null,
      "max_width": null,
      "min_height": null,
      "min_width": null,
      "object_fit": null,
      "object_position": null,
      "order": null,
      "overflow": null,
      "overflow_x": null,
      "overflow_y": null,
      "padding": null,
      "right": null,
      "top": null,
      "visibility": null,
      "width": null
     }
    },
    "eb3ef7c1572646399e6d5ecc99132e28": {
     "model_module": "@jupyter-widgets/base",
     "model_module_version": "1.2.0",
     "model_name": "LayoutModel",
     "state": {
      "_model_module": "@jupyter-widgets/base",
      "_model_module_version": "1.2.0",
      "_model_name": "LayoutModel",
      "_view_count": null,
      "_view_module": "@jupyter-widgets/base",
      "_view_module_version": "1.2.0",
      "_view_name": "LayoutView",
      "align_content": null,
      "align_items": null,
      "align_self": null,
      "border": null,
      "bottom": null,
      "display": null,
      "flex": null,
      "flex_flow": null,
      "grid_area": null,
      "grid_auto_columns": null,
      "grid_auto_flow": null,
      "grid_auto_rows": null,
      "grid_column": null,
      "grid_gap": null,
      "grid_row": null,
      "grid_template_areas": null,
      "grid_template_columns": null,
      "grid_template_rows": null,
      "height": null,
      "justify_content": null,
      "justify_items": null,
      "left": null,
      "margin": null,
      "max_height": null,
      "max_width": null,
      "min_height": null,
      "min_width": null,
      "object_fit": null,
      "object_position": null,
      "order": null,
      "overflow": null,
      "overflow_x": null,
      "overflow_y": null,
      "padding": null,
      "right": null,
      "top": null,
      "visibility": null,
      "width": null
     }
    },
    "ee931fd31e534093afc21f1d3ebf2ecc": {
     "model_module": "@jupyter-widgets/controls",
     "model_module_version": "1.5.0",
     "model_name": "FloatProgressModel",
     "state": {
      "_dom_classes": [],
      "_model_module": "@jupyter-widgets/controls",
      "_model_module_version": "1.5.0",
      "_model_name": "FloatProgressModel",
      "_view_count": null,
      "_view_module": "@jupyter-widgets/controls",
      "_view_module_version": "1.5.0",
      "_view_name": "ProgressView",
      "bar_style": "success",
      "description": "",
      "description_tooltip": null,
      "layout": "IPY_MODEL_4a7addac63454718806e6b0f4da08ad5",
      "max": 550,
      "min": 0,
      "orientation": "horizontal",
      "style": "IPY_MODEL_6a5024580e2a4304a6a96bdd62ca7f71",
      "value": 550
     }
    },
    "f369c61a75d146b682a9c48ef258f6dc": {
     "model_module": "@jupyter-widgets/base",
     "model_module_version": "1.2.0",
     "model_name": "LayoutModel",
     "state": {
      "_model_module": "@jupyter-widgets/base",
      "_model_module_version": "1.2.0",
      "_model_name": "LayoutModel",
      "_view_count": null,
      "_view_module": "@jupyter-widgets/base",
      "_view_module_version": "1.2.0",
      "_view_name": "LayoutView",
      "align_content": null,
      "align_items": null,
      "align_self": null,
      "border": null,
      "bottom": null,
      "display": null,
      "flex": null,
      "flex_flow": null,
      "grid_area": null,
      "grid_auto_columns": null,
      "grid_auto_flow": null,
      "grid_auto_rows": null,
      "grid_column": null,
      "grid_gap": null,
      "grid_row": null,
      "grid_template_areas": null,
      "grid_template_columns": null,
      "grid_template_rows": null,
      "height": null,
      "justify_content": null,
      "justify_items": null,
      "left": null,
      "margin": null,
      "max_height": null,
      "max_width": null,
      "min_height": null,
      "min_width": null,
      "object_fit": null,
      "object_position": null,
      "order": null,
      "overflow": null,
      "overflow_x": null,
      "overflow_y": null,
      "padding": null,
      "right": null,
      "top": null,
      "visibility": null,
      "width": "20px"
     }
    },
    "f39ff29fbcbf454b8514abd8238bc9ee": {
     "model_module": "@jupyter-widgets/base",
     "model_module_version": "1.2.0",
     "model_name": "LayoutModel",
     "state": {
      "_model_module": "@jupyter-widgets/base",
      "_model_module_version": "1.2.0",
      "_model_name": "LayoutModel",
      "_view_count": null,
      "_view_module": "@jupyter-widgets/base",
      "_view_module_version": "1.2.0",
      "_view_name": "LayoutView",
      "align_content": null,
      "align_items": null,
      "align_self": null,
      "border": null,
      "bottom": null,
      "display": null,
      "flex": null,
      "flex_flow": null,
      "grid_area": null,
      "grid_auto_columns": null,
      "grid_auto_flow": null,
      "grid_auto_rows": null,
      "grid_column": null,
      "grid_gap": null,
      "grid_row": null,
      "grid_template_areas": null,
      "grid_template_columns": null,
      "grid_template_rows": null,
      "height": null,
      "justify_content": null,
      "justify_items": null,
      "left": null,
      "margin": null,
      "max_height": null,
      "max_width": null,
      "min_height": null,
      "min_width": null,
      "object_fit": null,
      "object_position": null,
      "order": null,
      "overflow": null,
      "overflow_x": null,
      "overflow_y": null,
      "padding": null,
      "right": null,
      "top": null,
      "visibility": null,
      "width": null
     }
    },
    "f72c906ddca9498bb75d6540986bbcce": {
     "model_module": "@jupyter-widgets/base",
     "model_module_version": "1.2.0",
     "model_name": "LayoutModel",
     "state": {
      "_model_module": "@jupyter-widgets/base",
      "_model_module_version": "1.2.0",
      "_model_name": "LayoutModel",
      "_view_count": null,
      "_view_module": "@jupyter-widgets/base",
      "_view_module_version": "1.2.0",
      "_view_name": "LayoutView",
      "align_content": null,
      "align_items": null,
      "align_self": null,
      "border": null,
      "bottom": null,
      "display": null,
      "flex": null,
      "flex_flow": null,
      "grid_area": null,
      "grid_auto_columns": null,
      "grid_auto_flow": null,
      "grid_auto_rows": null,
      "grid_column": null,
      "grid_gap": null,
      "grid_row": null,
      "grid_template_areas": null,
      "grid_template_columns": null,
      "grid_template_rows": null,
      "height": null,
      "justify_content": null,
      "justify_items": null,
      "left": null,
      "margin": null,
      "max_height": null,
      "max_width": null,
      "min_height": null,
      "min_width": null,
      "object_fit": null,
      "object_position": null,
      "order": null,
      "overflow": null,
      "overflow_x": null,
      "overflow_y": null,
      "padding": null,
      "right": null,
      "top": null,
      "visibility": null,
      "width": null
     }
    },
    "f95c86047aff4d6795f720af9a516978": {
     "model_module": "@jupyter-widgets/controls",
     "model_module_version": "1.5.0",
     "model_name": "HTMLModel",
     "state": {
      "_dom_classes": [],
      "_model_module": "@jupyter-widgets/controls",
      "_model_module_version": "1.5.0",
      "_model_name": "HTMLModel",
      "_view_count": null,
      "_view_module": "@jupyter-widgets/controls",
      "_view_module_version": "1.5.0",
      "_view_name": "HTMLView",
      "description": "",
      "description_tooltip": null,
      "layout": "IPY_MODEL_d15e8ca6f51145d7ab462ef0f5966ed9",
      "placeholder": "​",
      "style": "IPY_MODEL_20b50ab377bf4c09bbd5ba4180855710",
      "value": " 300/300 [00:00&lt;00:00, 7026.34 examples/s]"
     }
    },
    "fb1ccf458fc940a49ff1ff797ec06d27": {
     "model_module": "@jupyter-widgets/controls",
     "model_module_version": "1.5.0",
     "model_name": "ProgressStyleModel",
     "state": {
      "_model_module": "@jupyter-widgets/controls",
      "_model_module_version": "1.5.0",
      "_model_name": "ProgressStyleModel",
      "_view_count": null,
      "_view_module": "@jupyter-widgets/base",
      "_view_module_version": "1.2.0",
      "_view_name": "StyleView",
      "bar_color": null,
      "description_width": ""
     }
    },
    "fbc759c881774f34895e4daaf2f937e2": {
     "model_module": "@jupyter-widgets/base",
     "model_module_version": "1.2.0",
     "model_name": "LayoutModel",
     "state": {
      "_model_module": "@jupyter-widgets/base",
      "_model_module_version": "1.2.0",
      "_model_name": "LayoutModel",
      "_view_count": null,
      "_view_module": "@jupyter-widgets/base",
      "_view_module_version": "1.2.0",
      "_view_name": "LayoutView",
      "align_content": null,
      "align_items": null,
      "align_self": null,
      "border": null,
      "bottom": null,
      "display": null,
      "flex": null,
      "flex_flow": null,
      "grid_area": null,
      "grid_auto_columns": null,
      "grid_auto_flow": null,
      "grid_auto_rows": null,
      "grid_column": null,
      "grid_gap": null,
      "grid_row": null,
      "grid_template_areas": null,
      "grid_template_columns": null,
      "grid_template_rows": null,
      "height": null,
      "justify_content": null,
      "justify_items": null,
      "left": null,
      "margin": null,
      "max_height": null,
      "max_width": null,
      "min_height": null,
      "min_width": null,
      "object_fit": null,
      "object_position": null,
      "order": null,
      "overflow": null,
      "overflow_x": null,
      "overflow_y": null,
      "padding": null,
      "right": null,
      "top": null,
      "visibility": null,
      "width": null
     }
    },
    "fdf4d5d6001b414e8784b46b3d79d70a": {
     "model_module": "@jupyter-widgets/base",
     "model_module_version": "1.2.0",
     "model_name": "LayoutModel",
     "state": {
      "_model_module": "@jupyter-widgets/base",
      "_model_module_version": "1.2.0",
      "_model_name": "LayoutModel",
      "_view_count": null,
      "_view_module": "@jupyter-widgets/base",
      "_view_module_version": "1.2.0",
      "_view_name": "LayoutView",
      "align_content": null,
      "align_items": null,
      "align_self": null,
      "border": null,
      "bottom": null,
      "display": null,
      "flex": null,
      "flex_flow": null,
      "grid_area": null,
      "grid_auto_columns": null,
      "grid_auto_flow": null,
      "grid_auto_rows": null,
      "grid_column": null,
      "grid_gap": null,
      "grid_row": null,
      "grid_template_areas": null,
      "grid_template_columns": null,
      "grid_template_rows": null,
      "height": null,
      "justify_content": null,
      "justify_items": null,
      "left": null,
      "margin": null,
      "max_height": null,
      "max_width": null,
      "min_height": null,
      "min_width": null,
      "object_fit": null,
      "object_position": null,
      "order": null,
      "overflow": null,
      "overflow_x": null,
      "overflow_y": null,
      "padding": null,
      "right": null,
      "top": null,
      "visibility": null,
      "width": null
     }
    },
    "ff3d5a3200524db68fee1077a808c5bc": {
     "model_module": "@jupyter-widgets/controls",
     "model_module_version": "1.5.0",
     "model_name": "HBoxModel",
     "state": {
      "_dom_classes": [],
      "_model_module": "@jupyter-widgets/controls",
      "_model_module_version": "1.5.0",
      "_model_name": "HBoxModel",
      "_view_count": null,
      "_view_module": "@jupyter-widgets/controls",
      "_view_module_version": "1.5.0",
      "_view_name": "HBoxView",
      "box_style": "",
      "children": [
       "IPY_MODEL_cefc6b9049944f42a951be0550d57e30",
       "IPY_MODEL_bbcdd707d64d432595c17b7caadfd4f5",
       "IPY_MODEL_f95c86047aff4d6795f720af9a516978"
      ],
      "layout": "IPY_MODEL_27e736c798bc416b8f6fae1339ad0401"
     }
    }
   }
  }
 },
 "nbformat": 4,
 "nbformat_minor": 4
}
